{
 "cells": [
  {
   "cell_type": "code",
   "execution_count": 1,
   "metadata": {},
   "outputs": [],
   "source": [
    "import numpy as np\n",
    "import matplotlib.pyplot as plt\n",
    "import pandas as pd\n",
    "from sklearn.pipeline import Pipeline\n",
    "from sklearn.linear_model import LogisticRegression\n",
    "from sklearn import tree\n",
    "from sklearn.neighbors import KNeighborsClassifier\n",
    "from sklearn.model_selection import StratifiedKFold\n",
    "import sklearn.preprocessing as pr\n",
    "from sklearn.preprocessing import LabelEncoder\n",
    "from sklearn.preprocessing import StandardScaler\n",
    "from sklearn.model_selection import train_test_split\n",
    "from sklearn.model_selection import GridSearchCV\n",
    "from sklearn.metrics import accuracy_score\n",
    "\n"
   ]
  },
  {
   "cell_type": "code",
   "execution_count": 2,
   "metadata": {},
   "outputs": [],
   "source": [
    "def create_gridcvs():\n",
    "    #Initializing Classifiers\n",
    "    clf1 = LogisticRegression(max_iter = 5000)\n",
    "    clf2 = KNeighborsClassifier()\n",
    "    clf3 = tree.DecisionTreeClassifier()\n",
    "\n",
    "    #Building the pipelines\n",
    "    pipe1 = Pipeline([('std', StandardScaler()),\n",
    "                      ('classifier', clf1)])\n",
    "\n",
    "    pipe2 = Pipeline([('std', StandardScaler()),\n",
    "                      ('classifier', clf2)])\n",
    "\n",
    "    pipe3 = Pipeline([('std', StandardScaler()),\n",
    "                      ('classifier', clf3)])\n",
    "\n",
    "    #Setting up the parameter grids\n",
    "    param_grid1 = [{'classifier__penalty': ['l1','l2'],\n",
    "                   'classifier__C': np.power(10., np.arange(-8, 4))}]\n",
    "\n",
    "    param_grid2 = [{'classifier__n_neighbors': [int(x) for x in np.logspace(0,2.7,num=25)]}]\n",
    "\n",
    "    param_grid3 = [{'classifier__max_depth': [x for x in range(1,11)]}]\n",
    "\n",
    "    # Setting up multiple GridSearchCV objects, 1 for each algorithm\n",
    "    gridcvs = {}\n",
    "\n",
    "    for pgrid, est, name in zip((param_grid1, param_grid2, param_grid3),\n",
    "                               (pipe1, pipe2, pipe3),\n",
    "                               ('Logistic', 'KNN', 'DecisionTree')):\n",
    "        gcv = GridSearchCV(estimator=est,\n",
    "                          param_grid = pgrid,\n",
    "                          scoring = 'accuracy',\n",
    "                          n_jobs = 4,\n",
    "                          cv = 5,\n",
    "                          verbose = 0,\n",
    "                          refit = True)\n",
    "        gridcvs[name] = gcv\n",
    "\n",
    "    return gridcvs"
   ]
  },
  {
   "cell_type": "markdown",
   "metadata": {},
   "source": [
    "# Dataset 2 (Mushrooms)"
   ]
  },
  {
   "cell_type": "code",
   "execution_count": 3,
   "metadata": {},
   "outputs": [
    {
     "data": {
      "text/html": [
       "<div>\n",
       "<style scoped>\n",
       "    .dataframe tbody tr th:only-of-type {\n",
       "        vertical-align: middle;\n",
       "    }\n",
       "\n",
       "    .dataframe tbody tr th {\n",
       "        vertical-align: top;\n",
       "    }\n",
       "\n",
       "    .dataframe thead th {\n",
       "        text-align: right;\n",
       "    }\n",
       "</style>\n",
       "<table border=\"1\" class=\"dataframe\">\n",
       "  <thead>\n",
       "    <tr style=\"text-align: right;\">\n",
       "      <th></th>\n",
       "      <th>p</th>\n",
       "      <th>x</th>\n",
       "      <th>s</th>\n",
       "      <th>n</th>\n",
       "      <th>t</th>\n",
       "      <th>p.1</th>\n",
       "      <th>f</th>\n",
       "      <th>c</th>\n",
       "      <th>n.1</th>\n",
       "      <th>k</th>\n",
       "      <th>...</th>\n",
       "      <th>s.2</th>\n",
       "      <th>w</th>\n",
       "      <th>w.1</th>\n",
       "      <th>p.2</th>\n",
       "      <th>w.2</th>\n",
       "      <th>o</th>\n",
       "      <th>p.3</th>\n",
       "      <th>k.1</th>\n",
       "      <th>s.3</th>\n",
       "      <th>u</th>\n",
       "    </tr>\n",
       "  </thead>\n",
       "  <tbody>\n",
       "    <tr>\n",
       "      <th>0</th>\n",
       "      <td>e</td>\n",
       "      <td>x</td>\n",
       "      <td>s</td>\n",
       "      <td>y</td>\n",
       "      <td>t</td>\n",
       "      <td>a</td>\n",
       "      <td>f</td>\n",
       "      <td>c</td>\n",
       "      <td>b</td>\n",
       "      <td>k</td>\n",
       "      <td>...</td>\n",
       "      <td>s</td>\n",
       "      <td>w</td>\n",
       "      <td>w</td>\n",
       "      <td>p</td>\n",
       "      <td>w</td>\n",
       "      <td>o</td>\n",
       "      <td>p</td>\n",
       "      <td>n</td>\n",
       "      <td>n</td>\n",
       "      <td>g</td>\n",
       "    </tr>\n",
       "    <tr>\n",
       "      <th>1</th>\n",
       "      <td>e</td>\n",
       "      <td>b</td>\n",
       "      <td>s</td>\n",
       "      <td>w</td>\n",
       "      <td>t</td>\n",
       "      <td>l</td>\n",
       "      <td>f</td>\n",
       "      <td>c</td>\n",
       "      <td>b</td>\n",
       "      <td>n</td>\n",
       "      <td>...</td>\n",
       "      <td>s</td>\n",
       "      <td>w</td>\n",
       "      <td>w</td>\n",
       "      <td>p</td>\n",
       "      <td>w</td>\n",
       "      <td>o</td>\n",
       "      <td>p</td>\n",
       "      <td>n</td>\n",
       "      <td>n</td>\n",
       "      <td>m</td>\n",
       "    </tr>\n",
       "    <tr>\n",
       "      <th>2</th>\n",
       "      <td>p</td>\n",
       "      <td>x</td>\n",
       "      <td>y</td>\n",
       "      <td>w</td>\n",
       "      <td>t</td>\n",
       "      <td>p</td>\n",
       "      <td>f</td>\n",
       "      <td>c</td>\n",
       "      <td>n</td>\n",
       "      <td>n</td>\n",
       "      <td>...</td>\n",
       "      <td>s</td>\n",
       "      <td>w</td>\n",
       "      <td>w</td>\n",
       "      <td>p</td>\n",
       "      <td>w</td>\n",
       "      <td>o</td>\n",
       "      <td>p</td>\n",
       "      <td>k</td>\n",
       "      <td>s</td>\n",
       "      <td>u</td>\n",
       "    </tr>\n",
       "    <tr>\n",
       "      <th>3</th>\n",
       "      <td>e</td>\n",
       "      <td>x</td>\n",
       "      <td>s</td>\n",
       "      <td>g</td>\n",
       "      <td>f</td>\n",
       "      <td>n</td>\n",
       "      <td>f</td>\n",
       "      <td>w</td>\n",
       "      <td>b</td>\n",
       "      <td>k</td>\n",
       "      <td>...</td>\n",
       "      <td>s</td>\n",
       "      <td>w</td>\n",
       "      <td>w</td>\n",
       "      <td>p</td>\n",
       "      <td>w</td>\n",
       "      <td>o</td>\n",
       "      <td>e</td>\n",
       "      <td>n</td>\n",
       "      <td>a</td>\n",
       "      <td>g</td>\n",
       "    </tr>\n",
       "    <tr>\n",
       "      <th>4</th>\n",
       "      <td>e</td>\n",
       "      <td>x</td>\n",
       "      <td>y</td>\n",
       "      <td>y</td>\n",
       "      <td>t</td>\n",
       "      <td>a</td>\n",
       "      <td>f</td>\n",
       "      <td>c</td>\n",
       "      <td>b</td>\n",
       "      <td>n</td>\n",
       "      <td>...</td>\n",
       "      <td>s</td>\n",
       "      <td>w</td>\n",
       "      <td>w</td>\n",
       "      <td>p</td>\n",
       "      <td>w</td>\n",
       "      <td>o</td>\n",
       "      <td>p</td>\n",
       "      <td>k</td>\n",
       "      <td>n</td>\n",
       "      <td>g</td>\n",
       "    </tr>\n",
       "    <tr>\n",
       "      <th>...</th>\n",
       "      <td>...</td>\n",
       "      <td>...</td>\n",
       "      <td>...</td>\n",
       "      <td>...</td>\n",
       "      <td>...</td>\n",
       "      <td>...</td>\n",
       "      <td>...</td>\n",
       "      <td>...</td>\n",
       "      <td>...</td>\n",
       "      <td>...</td>\n",
       "      <td>...</td>\n",
       "      <td>...</td>\n",
       "      <td>...</td>\n",
       "      <td>...</td>\n",
       "      <td>...</td>\n",
       "      <td>...</td>\n",
       "      <td>...</td>\n",
       "      <td>...</td>\n",
       "      <td>...</td>\n",
       "      <td>...</td>\n",
       "      <td>...</td>\n",
       "    </tr>\n",
       "    <tr>\n",
       "      <th>8118</th>\n",
       "      <td>e</td>\n",
       "      <td>k</td>\n",
       "      <td>s</td>\n",
       "      <td>n</td>\n",
       "      <td>f</td>\n",
       "      <td>n</td>\n",
       "      <td>a</td>\n",
       "      <td>c</td>\n",
       "      <td>b</td>\n",
       "      <td>y</td>\n",
       "      <td>...</td>\n",
       "      <td>s</td>\n",
       "      <td>o</td>\n",
       "      <td>o</td>\n",
       "      <td>p</td>\n",
       "      <td>o</td>\n",
       "      <td>o</td>\n",
       "      <td>p</td>\n",
       "      <td>b</td>\n",
       "      <td>c</td>\n",
       "      <td>l</td>\n",
       "    </tr>\n",
       "    <tr>\n",
       "      <th>8119</th>\n",
       "      <td>e</td>\n",
       "      <td>x</td>\n",
       "      <td>s</td>\n",
       "      <td>n</td>\n",
       "      <td>f</td>\n",
       "      <td>n</td>\n",
       "      <td>a</td>\n",
       "      <td>c</td>\n",
       "      <td>b</td>\n",
       "      <td>y</td>\n",
       "      <td>...</td>\n",
       "      <td>s</td>\n",
       "      <td>o</td>\n",
       "      <td>o</td>\n",
       "      <td>p</td>\n",
       "      <td>n</td>\n",
       "      <td>o</td>\n",
       "      <td>p</td>\n",
       "      <td>b</td>\n",
       "      <td>v</td>\n",
       "      <td>l</td>\n",
       "    </tr>\n",
       "    <tr>\n",
       "      <th>8120</th>\n",
       "      <td>e</td>\n",
       "      <td>f</td>\n",
       "      <td>s</td>\n",
       "      <td>n</td>\n",
       "      <td>f</td>\n",
       "      <td>n</td>\n",
       "      <td>a</td>\n",
       "      <td>c</td>\n",
       "      <td>b</td>\n",
       "      <td>n</td>\n",
       "      <td>...</td>\n",
       "      <td>s</td>\n",
       "      <td>o</td>\n",
       "      <td>o</td>\n",
       "      <td>p</td>\n",
       "      <td>o</td>\n",
       "      <td>o</td>\n",
       "      <td>p</td>\n",
       "      <td>b</td>\n",
       "      <td>c</td>\n",
       "      <td>l</td>\n",
       "    </tr>\n",
       "    <tr>\n",
       "      <th>8121</th>\n",
       "      <td>p</td>\n",
       "      <td>k</td>\n",
       "      <td>y</td>\n",
       "      <td>n</td>\n",
       "      <td>f</td>\n",
       "      <td>y</td>\n",
       "      <td>f</td>\n",
       "      <td>c</td>\n",
       "      <td>n</td>\n",
       "      <td>b</td>\n",
       "      <td>...</td>\n",
       "      <td>k</td>\n",
       "      <td>w</td>\n",
       "      <td>w</td>\n",
       "      <td>p</td>\n",
       "      <td>w</td>\n",
       "      <td>o</td>\n",
       "      <td>e</td>\n",
       "      <td>w</td>\n",
       "      <td>v</td>\n",
       "      <td>l</td>\n",
       "    </tr>\n",
       "    <tr>\n",
       "      <th>8122</th>\n",
       "      <td>e</td>\n",
       "      <td>x</td>\n",
       "      <td>s</td>\n",
       "      <td>n</td>\n",
       "      <td>f</td>\n",
       "      <td>n</td>\n",
       "      <td>a</td>\n",
       "      <td>c</td>\n",
       "      <td>b</td>\n",
       "      <td>y</td>\n",
       "      <td>...</td>\n",
       "      <td>s</td>\n",
       "      <td>o</td>\n",
       "      <td>o</td>\n",
       "      <td>p</td>\n",
       "      <td>o</td>\n",
       "      <td>o</td>\n",
       "      <td>p</td>\n",
       "      <td>o</td>\n",
       "      <td>c</td>\n",
       "      <td>l</td>\n",
       "    </tr>\n",
       "  </tbody>\n",
       "</table>\n",
       "<p>8123 rows × 23 columns</p>\n",
       "</div>"
      ],
      "text/plain": [
       "      p  x  s  n  t p.1  f  c n.1  k  ... s.2  w w.1 p.2 w.2  o p.3 k.1 s.3  u\n",
       "0     e  x  s  y  t   a  f  c   b  k  ...   s  w   w   p   w  o   p   n   n  g\n",
       "1     e  b  s  w  t   l  f  c   b  n  ...   s  w   w   p   w  o   p   n   n  m\n",
       "2     p  x  y  w  t   p  f  c   n  n  ...   s  w   w   p   w  o   p   k   s  u\n",
       "3     e  x  s  g  f   n  f  w   b  k  ...   s  w   w   p   w  o   e   n   a  g\n",
       "4     e  x  y  y  t   a  f  c   b  n  ...   s  w   w   p   w  o   p   k   n  g\n",
       "...  .. .. .. .. ..  .. .. ..  .. ..  ...  .. ..  ..  ..  .. ..  ..  ..  .. ..\n",
       "8118  e  k  s  n  f   n  a  c   b  y  ...   s  o   o   p   o  o   p   b   c  l\n",
       "8119  e  x  s  n  f   n  a  c   b  y  ...   s  o   o   p   n  o   p   b   v  l\n",
       "8120  e  f  s  n  f   n  a  c   b  n  ...   s  o   o   p   o  o   p   b   c  l\n",
       "8121  p  k  y  n  f   y  f  c   n  b  ...   k  w   w   p   w  o   e   w   v  l\n",
       "8122  e  x  s  n  f   n  a  c   b  y  ...   s  o   o   p   o  o   p   o   c  l\n",
       "\n",
       "[8123 rows x 23 columns]"
      ]
     },
     "execution_count": 3,
     "metadata": {},
     "output_type": "execute_result"
    }
   ],
   "source": [
    "mushroom = pd.read_csv('agaricus-lepiota.data', index_col = False)\n",
    "mushroom"
   ]
  },
  {
   "cell_type": "code",
   "execution_count": 4,
   "metadata": {},
   "outputs": [
    {
     "name": "stdout",
     "output_type": "stream",
     "text": [
      "(8123, 22)\n",
      "(8123,)\n"
     ]
    }
   ],
   "source": [
    "le = LabelEncoder()\n",
    "\n",
    "for col in mushroom:\n",
    "    mushroom[col] = le.fit_transform(mushroom[col])\n",
    "\n",
    "mushroom.head()\n",
    "\n",
    "X = mushroom.drop(['p'], axis = 1)\n",
    "Y = mushroom['p']\n",
    "\n",
    "print(X.shape)\n",
    "print(Y.shape)\n"
   ]
  },
  {
   "cell_type": "code",
   "execution_count": 5,
   "metadata": {},
   "outputs": [],
   "source": [
    "gridcvs = create_gridcvs()"
   ]
  },
  {
   "cell_type": "code",
   "execution_count": 6,
   "metadata": {},
   "outputs": [],
   "source": [
    "scores = {}\n",
    "scores['Logistic'] = []\n",
    "scores['KNN'] = []\n",
    "scores['DecisionTree'] = []"
   ]
  },
  {
   "cell_type": "markdown",
   "metadata": {},
   "source": [
    "## Trial 1"
   ]
  },
  {
   "cell_type": "code",
   "execution_count": 7,
   "metadata": {},
   "outputs": [
    {
     "name": "stdout",
     "output_type": "stream",
     "text": [
      "(6498, 22)\n",
      "(6498,)\n",
      "(1625, 22)\n",
      "(1625,)\n"
     ]
    }
   ],
   "source": [
    "X_train, X_test, y_train, y_test = train_test_split(X, Y, \n",
    "                                                    train_size = 0.8,\n",
    "                                                   random_state = 1234)\n",
    "\n",
    "scaler = pr.MinMaxScaler()\n",
    "\n",
    "X_train = scaler.fit_transform(X_train)\n",
    "X_test = scaler.transform(X_test)\n",
    "y_train = y_train.to_numpy()\n",
    "y_test = y_test.to_numpy()\n",
    "\n",
    "print(X_train.shape)\n",
    "print(y_train.shape)\n",
    "print(X_test.shape)\n",
    "print(y_test.shape)"
   ]
  },
  {
   "cell_type": "code",
   "execution_count": 8,
   "metadata": {},
   "outputs": [
    {
     "name": "stdout",
     "output_type": "stream",
     "text": [
      "outer fold 1/5 | tuning DecisionTree | inner ACC 100.00% | outer ACC 100.00%\n",
      "outer fold 1/5 | tuning KNN      | inner ACC 100.00% | outer ACC 100.00%\n",
      "outer fold 1/5 | tuning Logistic | inner ACC 96.44% | outer ACC 96.15%\n",
      "outer fold 2/5 | tuning DecisionTree | inner ACC 100.00% | outer ACC 100.00%\n",
      "outer fold 2/5 | tuning KNN      | inner ACC 99.96% | outer ACC 100.00%\n",
      "outer fold 2/5 | tuning Logistic | inner ACC 96.00% | outer ACC 96.54%\n",
      "outer fold 3/5 | tuning DecisionTree | inner ACC 100.00% | outer ACC 100.00%\n",
      "outer fold 3/5 | tuning KNN      | inner ACC 100.00% | outer ACC 100.00%\n",
      "outer fold 3/5 | tuning Logistic | inner ACC 96.52% | outer ACC 96.77%\n",
      "outer fold 4/5 | tuning DecisionTree | inner ACC 99.96% | outer ACC 100.00%\n",
      "outer fold 4/5 | tuning KNN      | inner ACC 100.00% | outer ACC 100.00%\n",
      "outer fold 4/5 | tuning Logistic | inner ACC 96.85% | outer ACC 97.00%\n",
      "outer fold 5/5 | tuning DecisionTree | inner ACC 100.00% | outer ACC 100.00%\n",
      "outer fold 5/5 | tuning KNN      | inner ACC 100.00% | outer ACC 100.00%\n",
      "outer fold 5/5 | tuning Logistic | inner ACC 96.54% | outer ACC 96.15%\n",
      "CPU times: user 3.99 s, sys: 436 ms, total: 4.43 s\n",
      "Wall time: 1min 14s\n"
     ]
    }
   ],
   "source": [
    "%%time\n",
    "\n",
    "cv_scores = {name: [] for name, gs_est in gridcvs.items()}\n",
    "\n",
    "skfold = StratifiedKFold(n_splits=5, shuffle=True, random_state=1234)\n",
    "\n",
    "c = 1\n",
    "for outer_train_idx, outer_valid_idx in skfold.split(X_train,y_train):\n",
    "    for name, gs_est in sorted(gridcvs.items()):\n",
    "        print('outer fold %d/5 | tuning %-8s' % (c, name), end='')\n",
    "\n",
    "        # The inner loop for hyperparameter tuning\n",
    "        gs_est.fit(X_train[outer_train_idx], y_train[outer_train_idx])\n",
    "        y_pred = gs_est.predict(X_train[outer_valid_idx])\n",
    "        acc = accuracy_score(y_true=y_train[outer_valid_idx], y_pred=y_pred)\n",
    "        print(' | inner ACC %.2f%% | outer ACC %.2f%%' %\n",
    "              (gs_est.best_score_ * 100, acc * 100))\n",
    "        cv_scores[name].append(acc)\n",
    "\n",
    "    c += 1"
   ]
  },
  {
   "cell_type": "code",
   "execution_count": 9,
   "metadata": {},
   "outputs": [
    {
     "name": "stdout",
     "output_type": "stream",
     "text": [
      "Logistic | outer CV acc. 96.52% +\\- 0.335\n",
      "KNN      | outer CV acc. 100.00% +\\- 0.000\n",
      "DecisionTree | outer CV acc. 100.00% +\\- 0.000\n",
      "\n",
      "Logistic best parameters {'classifier__C': 100.0, 'classifier__penalty': 'l2'}\n",
      "KNN best parameters {'classifier__n_neighbors': 1}\n",
      "DecisionTree best parameters {'classifier__max_depth': 9}\n"
     ]
    }
   ],
   "source": [
    "for name in cv_scores:\n",
    "    print('%-8s | outer CV acc. %.2f%% +\\- %.3f' % (\n",
    "          name, 100 * np.mean(cv_scores[name]), 100 * np.std(cv_scores[name])))\n",
    "print()\n",
    "for name in cv_scores:\n",
    "    print('{} best parameters'.format(name), gridcvs[name].best_params_)"
   ]
  },
  {
   "cell_type": "code",
   "execution_count": 10,
   "metadata": {},
   "outputs": [
    {
     "name": "stdout",
     "output_type": "stream",
     "text": [
      "Optimal Training Performance for Logistic: 96.68%\n",
      "Optimal Test Performance for Logistic: 96.18%\n",
      "\n",
      "Optimal Training Performance for KNN: 100.00%\n",
      "Optimal Test Performance for KNN: 100.00%\n",
      "\n",
      "Optimal Training Performance for DecisionTree: 100.00%\n",
      "Optimal Test Performance for DecisionTree: 100.00%\n",
      "\n"
     ]
    },
    {
     "data": {
      "text/plain": [
       "{'Logistic': array([0.966759  , 0.96184615]),\n",
       " 'KNN': array([1., 1.]),\n",
       " 'DecisionTree': array([1., 1.])}"
      ]
     },
     "execution_count": 10,
     "metadata": {},
     "output_type": "execute_result"
    }
   ],
   "source": [
    "## get the respective test and training set errors for all algorithms \n",
    "##trial 1\n",
    "trial1_err = {}\n",
    "for name in gridcvs:\n",
    "    clf = gridcvs[name].best_estimator_\n",
    "    clf.fit(X_train, y_train)\n",
    "    print('Optimal Training Performance for {}: {:.2f}%'.format(name, clf.score(X_train, y_train)*100))\n",
    "    print('Optimal Test Performance for {}: {:.2f}%'.format(name, clf.score(X_test, y_test)*100))\n",
    "    print()\n",
    "    trial1_err[name] = np.array((clf.score(X_train, y_train), clf.score(X_test, y_test)))\n",
    "    scores[name].append(clf.score(X_test, y_test))\n",
    "    \n",
    "trial1_err"
   ]
  },
  {
   "cell_type": "markdown",
   "metadata": {},
   "source": [
    "## Trial 2"
   ]
  },
  {
   "cell_type": "code",
   "execution_count": 11,
   "metadata": {},
   "outputs": [
    {
     "name": "stdout",
     "output_type": "stream",
     "text": [
      "(6498, 22)\n",
      "(6498,)\n",
      "(1625, 22)\n",
      "(1625,)\n"
     ]
    }
   ],
   "source": [
    "X_train2, X_test2, y_train2, y_test2 = train_test_split(X, Y, \n",
    "                                                    train_size = 0.8,\n",
    "                                                   random_state = 123)\n",
    "\n",
    "scaler = pr.MinMaxScaler()\n",
    "\n",
    "X_train2 = scaler.fit_transform(X_train2)\n",
    "X_test2 = scaler.transform(X_test2)\n",
    "y_train2 = y_train2.to_numpy()\n",
    "y_test2 = y_test2.to_numpy()\n",
    "\n",
    "print(X_train2.shape)\n",
    "print(y_train2.shape)\n",
    "print(X_test2.shape)\n",
    "print(y_test2.shape)"
   ]
  },
  {
   "cell_type": "code",
   "execution_count": 15,
   "metadata": {},
   "outputs": [
    {
     "name": "stdout",
     "output_type": "stream",
     "text": [
      "outer fold 1/5 | tuning DecisionTree | inner ACC 100.00% | outer ACC 100.00%\n",
      "outer fold 1/5 | tuning KNN      | inner ACC 99.96% | outer ACC 99.92%\n",
      "outer fold 1/5 | tuning Logistic | inner ACC 96.81% | outer ACC 97.85%\n",
      "outer fold 2/5 | tuning DecisionTree | inner ACC 100.00% | outer ACC 100.00%\n",
      "outer fold 2/5 | tuning KNN      | inner ACC 100.00% | outer ACC 100.00%\n",
      "outer fold 2/5 | tuning Logistic | inner ACC 96.15% | outer ACC 96.46%\n",
      "outer fold 3/5 | tuning DecisionTree | inner ACC 100.00% | outer ACC 100.00%\n",
      "outer fold 3/5 | tuning KNN      | inner ACC 100.00% | outer ACC 100.00%\n",
      "outer fold 3/5 | tuning Logistic | inner ACC 97.31% | outer ACC 96.54%\n",
      "outer fold 4/5 | tuning DecisionTree | inner ACC 99.96% | outer ACC 100.00%\n",
      "outer fold 4/5 | tuning KNN      | inner ACC 100.00% | outer ACC 100.00%\n",
      "outer fold 4/5 | tuning Logistic | inner ACC 97.27% | outer ACC 97.15%\n",
      "outer fold 5/5 | tuning DecisionTree | inner ACC 100.00% | outer ACC 100.00%\n",
      "outer fold 5/5 | tuning KNN      | inner ACC 100.00% | outer ACC 100.00%\n",
      "outer fold 5/5 | tuning Logistic | inner ACC 96.60% | outer ACC 95.92%\n",
      "CPU times: user 3.93 s, sys: 496 ms, total: 4.43 s\n",
      "Wall time: 1min 39s\n"
     ]
    }
   ],
   "source": [
    "%%time\n",
    "\n",
    "cv_scores = {name: [] for name, gs_est in gridcvs.items()}\n",
    "\n",
    "#skfold = StratifiedKFold(n_splits=5, shuffle=True, random_state=1234)\n",
    "\n",
    "c = 1\n",
    "for outer_train_idx, outer_valid_idx in skfold.split(X_train2,y_train2):\n",
    "    for name, gs_est in sorted(gridcvs.items()):\n",
    "        print('outer fold %d/5 | tuning %-8s' % (c, name), end='')\n",
    "\n",
    "        # The inner loop for hyperparameter tuning\n",
    "        gs_est.fit(X_train2[outer_train_idx], y_train2[outer_train_idx])\n",
    "        y_pred = gs_est.predict(X_train2[outer_valid_idx])\n",
    "        acc = accuracy_score(y_true=y_train2[outer_valid_idx], y_pred=y_pred)\n",
    "        print(' | inner ACC %.2f%% | outer ACC %.2f%%' %\n",
    "              (gs_est.best_score_ * 100, acc * 100))\n",
    "        cv_scores[name].append(acc)\n",
    "\n",
    "    c += 1"
   ]
  },
  {
   "cell_type": "code",
   "execution_count": 16,
   "metadata": {},
   "outputs": [
    {
     "name": "stdout",
     "output_type": "stream",
     "text": [
      "Logistic | outer CV acc. 96.78% +\\- 0.659\n",
      "KNN      | outer CV acc. 99.98% +\\- 0.031\n",
      "DecisionTree | outer CV acc. 100.00% +\\- 0.000\n",
      "\n",
      "Logistic best parameters {'classifier__C': 1000.0, 'classifier__penalty': 'l2'}\n",
      "KNN best parameters {'classifier__n_neighbors': 1}\n",
      "DecisionTree best parameters {'classifier__max_depth': 8}\n"
     ]
    }
   ],
   "source": [
    "for name in cv_scores:\n",
    "    print('%-8s | outer CV acc. %.2f%% +\\- %.3f' % (\n",
    "          name, 100 * np.mean(cv_scores[name]), 100 * np.std(cv_scores[name])))\n",
    "print()\n",
    "for name in cv_scores:\n",
    "    print('{} best parameters'.format(name), gridcvs[name].best_params_)"
   ]
  },
  {
   "cell_type": "code",
   "execution_count": 18,
   "metadata": {},
   "outputs": [
    {
     "name": "stdout",
     "output_type": "stream",
     "text": [
      "Optimal Training Performance for Logistic: 97.08%\n",
      "Optimal Test Performance for Logistic: 97.17%\n",
      "\n",
      "Optimal Training Performance for KNN: 100.00%\n",
      "Optimal Test Performance for KNN: 100.00%\n",
      "\n",
      "Optimal Training Performance for DecisionTree: 100.00%\n",
      "Optimal Test Performance for DecisionTree: 100.00%\n",
      "\n"
     ]
    },
    {
     "data": {
      "text/plain": [
       "{'Logistic': array([0.97076023, 0.97169231]),\n",
       " 'KNN': array([1., 1.]),\n",
       " 'DecisionTree': array([1., 1.])}"
      ]
     },
     "execution_count": 18,
     "metadata": {},
     "output_type": "execute_result"
    }
   ],
   "source": [
    "trial2_err = {}\n",
    "for name in gridcvs:\n",
    "    clf = gridcvs[name].best_estimator_\n",
    "    clf.fit(X_train2, y_train2)\n",
    "    print('Optimal Training Performance for {}: {:.2f}%'.format(name, clf.score(X_train2, y_train2)*100))\n",
    "    print('Optimal Test Performance for {}: {:.2f}%'.format(name, clf.score(X_test2, y_test2)*100))\n",
    "    print()\n",
    "    trial2_err[name] = np.array((clf.score(X_train2, y_train2), clf.score(X_test2, y_test2)))\n",
    "    scores[name].append(clf.score(X_test2, y_test2))\n",
    "    \n",
    "trial2_err"
   ]
  },
  {
   "cell_type": "markdown",
   "metadata": {},
   "source": [
    "## Trial 3"
   ]
  },
  {
   "cell_type": "code",
   "execution_count": 19,
   "metadata": {},
   "outputs": [
    {
     "name": "stdout",
     "output_type": "stream",
     "text": [
      "(6498, 22)\n",
      "(6498,)\n",
      "(1625, 22)\n",
      "(1625,)\n"
     ]
    }
   ],
   "source": [
    "X_train3, X_test3, y_train3, y_test3 = train_test_split(X, Y, \n",
    "                                                    train_size = 0.8,\n",
    "                                                   random_state = 12)\n",
    "\n",
    "scaler = pr.MinMaxScaler()\n",
    "\n",
    "X_train3 = scaler.fit_transform(X_train3)\n",
    "X_test3 = scaler.transform(X_test3)\n",
    "y_train3 = y_train3.to_numpy()\n",
    "y_test3 = y_test3.to_numpy()\n",
    "\n",
    "print(X_train3.shape)\n",
    "print(y_train3.shape)\n",
    "print(X_test3.shape)\n",
    "print(y_test3.shape)"
   ]
  },
  {
   "cell_type": "code",
   "execution_count": 20,
   "metadata": {},
   "outputs": [
    {
     "name": "stdout",
     "output_type": "stream",
     "text": [
      "outer fold 1/5 | tuning DecisionTree | inner ACC 100.00% | outer ACC 100.00%\n",
      "outer fold 1/5 | tuning KNN      | inner ACC 99.98% | outer ACC 100.00%\n",
      "outer fold 1/5 | tuning Logistic | inner ACC 96.21% | outer ACC 96.54%\n",
      "outer fold 2/5 | tuning DecisionTree | inner ACC 100.00% | outer ACC 100.00%\n",
      "outer fold 2/5 | tuning KNN      | inner ACC 100.00% | outer ACC 100.00%\n",
      "outer fold 2/5 | tuning Logistic | inner ACC 96.50% | outer ACC 97.00%\n",
      "outer fold 3/5 | tuning DecisionTree | inner ACC 100.00% | outer ACC 100.00%\n",
      "outer fold 3/5 | tuning KNN      | inner ACC 100.00% | outer ACC 100.00%\n",
      "outer fold 3/5 | tuning Logistic | inner ACC 96.81% | outer ACC 95.54%\n",
      "outer fold 4/5 | tuning DecisionTree | inner ACC 99.98% | outer ACC 100.00%\n",
      "outer fold 4/5 | tuning KNN      | inner ACC 100.00% | outer ACC 100.00%\n",
      "outer fold 4/5 | tuning Logistic | inner ACC 95.81% | outer ACC 96.07%\n",
      "outer fold 5/5 | tuning DecisionTree | inner ACC 100.00% | outer ACC 100.00%\n",
      "outer fold 5/5 | tuning KNN      | inner ACC 100.00% | outer ACC 100.00%\n",
      "outer fold 5/5 | tuning Logistic | inner ACC 96.27% | outer ACC 96.38%\n",
      "CPU times: user 3.85 s, sys: 355 ms, total: 4.21 s\n",
      "Wall time: 1min 6s\n"
     ]
    }
   ],
   "source": [
    "%%time\n",
    "\n",
    "cv_scores = {name: [] for name, gs_est in gridcvs.items()}\n",
    "\n",
    "skfold = StratifiedKFold(n_splits=5, shuffle=True, random_state=1234)\n",
    "\n",
    "c = 1\n",
    "for outer_train_idx, outer_valid_idx in skfold.split(X_train3,y_train3):\n",
    "    for name, gs_est in sorted(gridcvs.items()):\n",
    "        print('outer fold %d/5 | tuning %-8s' % (c, name), end='')\n",
    "\n",
    "        # The inner loop for hyperparameter tuning\n",
    "        gs_est.fit(X_train3[outer_train_idx], y_train3[outer_train_idx])\n",
    "        y_pred = gs_est.predict(X_train3[outer_valid_idx])\n",
    "        acc = accuracy_score(y_true=y_train3[outer_valid_idx], y_pred=y_pred)\n",
    "        print(' | inner ACC %.2f%% | outer ACC %.2f%%' %\n",
    "              (gs_est.best_score_ * 100, acc * 100))\n",
    "        cv_scores[name].append(acc)\n",
    "\n",
    "    c += 1"
   ]
  },
  {
   "cell_type": "code",
   "execution_count": 21,
   "metadata": {},
   "outputs": [
    {
     "name": "stdout",
     "output_type": "stream",
     "text": [
      "Logistic | outer CV acc. 96.31% +\\- 0.487\n",
      "KNN      | outer CV acc. 100.00% +\\- 0.000\n",
      "DecisionTree | outer CV acc. 100.00% +\\- 0.000\n",
      "\n",
      "Logistic best parameters {'classifier__C': 1000.0, 'classifier__penalty': 'l2'}\n",
      "KNN best parameters {'classifier__n_neighbors': 1}\n",
      "DecisionTree best parameters {'classifier__max_depth': 9}\n"
     ]
    }
   ],
   "source": [
    "for name in cv_scores:\n",
    "    print('%-8s | outer CV acc. %.2f%% +\\- %.3f' % (\n",
    "          name, 100 * np.mean(cv_scores[name]), 100 * np.std(cv_scores[name])))\n",
    "print()\n",
    "for name in cv_scores:\n",
    "    print('{} best parameters'.format(name), gridcvs[name].best_params_)"
   ]
  },
  {
   "cell_type": "code",
   "execution_count": 22,
   "metadata": {},
   "outputs": [
    {
     "name": "stdout",
     "output_type": "stream",
     "text": [
      "Optimal Training Performance for Logistic: 96.43%\n",
      "Optimal Test Performance for Logistic: 96.55%\n",
      "\n",
      "Optimal Training Performance for KNN: 100.00%\n",
      "Optimal Test Performance for KNN: 100.00%\n",
      "\n",
      "Optimal Training Performance for DecisionTree: 100.00%\n",
      "Optimal Test Performance for DecisionTree: 100.00%\n",
      "\n"
     ]
    },
    {
     "data": {
      "text/plain": [
       "{'Logistic': array([0.96429671, 0.96553846]),\n",
       " 'KNN': array([1., 1.]),\n",
       " 'DecisionTree': array([1., 1.])}"
      ]
     },
     "execution_count": 22,
     "metadata": {},
     "output_type": "execute_result"
    }
   ],
   "source": [
    "trial3_err = {}\n",
    "for name in gridcvs:\n",
    "    clf = gridcvs[name].best_estimator_\n",
    "    clf.fit(X_train3, y_train3)\n",
    "    print('Optimal Training Performance for {}: {:.2f}%'.format(name, clf.score(X_train3, y_train3)*100))\n",
    "    print('Optimal Test Performance for {}: {:.2f}%'.format(name, clf.score(X_test3, y_test3)*100))\n",
    "    print()\n",
    "    trial3_err[name] = np.array((clf.score(X_train3, y_train3), clf.score(X_test3, y_test3)))\n",
    "    scores[name].append(clf.score(X_test3, y_test3))\n",
    "    \n",
    "trial3_err\n",
    "          "
   ]
  },
  {
   "cell_type": "markdown",
   "metadata": {},
   "source": [
    "## Results"
   ]
  },
  {
   "cell_type": "code",
   "execution_count": 23,
   "metadata": {},
   "outputs": [
    {
     "name": "stdout",
     "output_type": "stream",
     "text": [
      "{'Logistic': array([0.966759  , 0.96184615]), 'KNN': array([1., 1.]), 'DecisionTree': array([1., 1.])}\n",
      "{'Logistic': array([0.97076023, 0.97169231]), 'KNN': array([1., 1.]), 'DecisionTree': array([1., 1.])}\n",
      "{'Logistic': array([0.96429671, 0.96553846]), 'KNN': array([1., 1.]), 'DecisionTree': array([1., 1.])}\n"
     ]
    }
   ],
   "source": [
    "print(trial1_err)\n",
    "print(trial2_err)\n",
    "print(trial3_err)\n"
   ]
  },
  {
   "cell_type": "code",
   "execution_count": 24,
   "metadata": {},
   "outputs": [
    {
     "name": "stdout",
     "output_type": "stream",
     "text": [
      "Mean training set performance for Mushroom dataset for Logistic algorithm: 96.72720%\n",
      "Mean test set performance for Mushroom dataset for Logistic algorithm: 96.63590%\n",
      "\n",
      "Mean training set performance for Mushroom dataset for KNN algorithm: 100.00000%\n",
      "Mean test set performance for Mushroom dataset for KNN algorithm: 100.00000%\n",
      "\n",
      "Mean training set performance for Mushroom dataset for DecisionTree algorithm: 100.00000%\n",
      "Mean test set performance for Mushroom dataset for DecisionTree algorithm: 100.00000%\n",
      "\n"
     ]
    }
   ],
   "source": [
    "avg_trial_err = {}\n",
    "for name in trial1_err:\n",
    "    avg_trial_err[name] = np.array((trial1_err[name] + \n",
    "                          trial2_err[name] +\n",
    "                          trial3_err[name])/3.)\n",
    "\n",
    "for name in avg_trial_err:\n",
    "    print(\"Mean training set performance for Mushroom dataset for {} algorithm: {:.5f}%\".format(name, avg_trial_err[name][0]*100))\n",
    "    print(\"Mean test set performance for Mushroom dataset for {} algorithm: {:.5f}%\".format(name, avg_trial_err[name][1]*100))\n",
    "    print()"
   ]
  },
  {
   "cell_type": "code",
   "execution_count": 25,
   "metadata": {},
   "outputs": [
    {
     "data": {
      "text/html": [
       "<div>\n",
       "<style scoped>\n",
       "    .dataframe tbody tr th:only-of-type {\n",
       "        vertical-align: middle;\n",
       "    }\n",
       "\n",
       "    .dataframe tbody tr th {\n",
       "        vertical-align: top;\n",
       "    }\n",
       "\n",
       "    .dataframe thead th {\n",
       "        text-align: right;\n",
       "    }\n",
       "</style>\n",
       "<table border=\"1\" class=\"dataframe\">\n",
       "  <thead>\n",
       "    <tr style=\"text-align: right;\">\n",
       "      <th></th>\n",
       "      <th>Set</th>\n",
       "      <th>Logistic</th>\n",
       "      <th>KNN</th>\n",
       "      <th>DecisionTree</th>\n",
       "    </tr>\n",
       "  </thead>\n",
       "  <tbody>\n",
       "    <tr>\n",
       "      <th>0</th>\n",
       "      <td>Train</td>\n",
       "      <td>0.967272</td>\n",
       "      <td>1.0</td>\n",
       "      <td>1.0</td>\n",
       "    </tr>\n",
       "    <tr>\n",
       "      <th>1</th>\n",
       "      <td>Test</td>\n",
       "      <td>0.966359</td>\n",
       "      <td>1.0</td>\n",
       "      <td>1.0</td>\n",
       "    </tr>\n",
       "  </tbody>\n",
       "</table>\n",
       "</div>"
      ],
      "text/plain": [
       "     Set  Logistic  KNN  DecisionTree\n",
       "0  Train  0.967272  1.0           1.0\n",
       "1   Test  0.966359  1.0           1.0"
      ]
     },
     "execution_count": 25,
     "metadata": {},
     "output_type": "execute_result"
    }
   ],
   "source": [
    "avg_trial = pd.DataFrame.from_dict(avg_trial_err)\n",
    "avg_trial['Set'] = ['Train', 'Test']\n",
    "avg_trial = avg_trial.reindex(columns = ['Set', 'Logistic', 'KNN', 'DecisionTree'])\n",
    "avg_trial"
   ]
  },
  {
   "cell_type": "code",
   "execution_count": 26,
   "metadata": {},
   "outputs": [],
   "source": [
    "avg_trial.to_csv(r'Mushroom_Machine_Learning.csv', index = False, header = True)"
   ]
  },
  {
   "cell_type": "code",
   "execution_count": 27,
   "metadata": {},
   "outputs": [
    {
     "data": {
      "text/html": [
       "<div>\n",
       "<style scoped>\n",
       "    .dataframe tbody tr th:only-of-type {\n",
       "        vertical-align: middle;\n",
       "    }\n",
       "\n",
       "    .dataframe tbody tr th {\n",
       "        vertical-align: top;\n",
       "    }\n",
       "\n",
       "    .dataframe thead th {\n",
       "        text-align: right;\n",
       "    }\n",
       "</style>\n",
       "<table border=\"1\" class=\"dataframe\">\n",
       "  <thead>\n",
       "    <tr style=\"text-align: right;\">\n",
       "      <th></th>\n",
       "      <th>Logistic</th>\n",
       "      <th>KNN</th>\n",
       "      <th>DecisionTree</th>\n",
       "    </tr>\n",
       "  </thead>\n",
       "  <tbody>\n",
       "    <tr>\n",
       "      <th>0</th>\n",
       "      <td>0.961846</td>\n",
       "      <td>1.0</td>\n",
       "      <td>1.0</td>\n",
       "    </tr>\n",
       "    <tr>\n",
       "      <th>1</th>\n",
       "      <td>0.971692</td>\n",
       "      <td>1.0</td>\n",
       "      <td>1.0</td>\n",
       "    </tr>\n",
       "    <tr>\n",
       "      <th>2</th>\n",
       "      <td>0.965538</td>\n",
       "      <td>1.0</td>\n",
       "      <td>1.0</td>\n",
       "    </tr>\n",
       "  </tbody>\n",
       "</table>\n",
       "</div>"
      ],
      "text/plain": [
       "   Logistic  KNN  DecisionTree\n",
       "0  0.961846  1.0           1.0\n",
       "1  0.971692  1.0           1.0\n",
       "2  0.965538  1.0           1.0"
      ]
     },
     "execution_count": 27,
     "metadata": {},
     "output_type": "execute_result"
    }
   ],
   "source": [
    "mushroom_scores = pd.DataFrame.from_dict(scores)\n",
    "mushroom_scores = mushroom_scores.reindex(columns = ['Logistic','KNN','DecisionTree'])\n",
    "mushroom_scores"
   ]
  },
  {
   "cell_type": "code",
   "execution_count": 28,
   "metadata": {},
   "outputs": [],
   "source": [
    "mushroom_scores.to_csv(r'mushroom_scores.csv', index = False, header = True)"
   ]
  },
  {
   "cell_type": "markdown",
   "metadata": {},
   "source": [
    "## Visualization"
   ]
  },
  {
   "cell_type": "markdown",
   "metadata": {},
   "source": [
    "### Heatmaps"
   ]
  },
  {
   "cell_type": "code",
   "execution_count": 38,
   "metadata": {},
   "outputs": [],
   "source": [
    "import seaborn as sns\n",
    "from sklearn.model_selection import cross_val_score"
   ]
  },
  {
   "cell_type": "code",
   "execution_count": 49,
   "metadata": {},
   "outputs": [],
   "source": [
    "# Draw heatmaps for result of grid search.\n",
    "def draw_heatmap(errors, D_list, ylabel, name, title):\n",
    "    plt.figure(figsize = (2,4))\n",
    "    ax = sns.heatmap(errors, annot=False, fmt='.3f', yticklabels=D_list, xticklabels=[])\n",
    "    ax.collections[0].colorbar.set_label('error')\n",
    "    ax.set(ylabel= ylabel)\n",
    "    bottom, top = ax.get_ylim()\n",
    "    ax.set_ylim(bottom + 0.5, top - 0.5)\n",
    "    plt.title(title)\n",
    "    plt.savefig('{}.jpg'.format(name))\n",
    "    plt.show()"
   ]
  },
  {
   "cell_type": "code",
   "execution_count": 50,
   "metadata": {},
   "outputs": [],
   "source": [
    "d_list = [x for x in range(1,11)]\n",
    "n_list = [int(x) for x in np.logspace(0,2.7,num=25)]\n",
    "l_list = np.power(10., np.arange(-8, 4))"
   ]
  },
  {
   "cell_type": "code",
   "execution_count": 51,
   "metadata": {},
   "outputs": [
    {
     "data": {
      "image/png": "[encoded data removed]",
      "text/plain": [
       "<Figure size 144x288 with 2 Axes>"
      ]
     },
     "metadata": {
      "needs_background": "light"
     },
     "output_type": "display_data"
    }
   ],
   "source": [
    "error = 1 - gridcvs['DecisionTree'].cv_results_['mean_test_score']\n",
    "cross_val_score = np.reshape(error, (len(error), 1))\n",
    "draw_heatmap(cross_val_score, d_list, \"Max Depth D\", 'DecisionTree Heatmap MUSHROOM Dataset', title='cross-validation error w.r.t D')"
   ]
  },
  {
   "cell_type": "code",
   "execution_count": 52,
   "metadata": {},
   "outputs": [
    {
     "data": {
      "image/png": "[encoded data removed]",
      "text/plain": [
       "<Figure size 144x288 with 2 Axes>"
      ]
     },
     "metadata": {
      "needs_background": "light"
     },
     "output_type": "display_data"
    }
   ],
   "source": [
    "error = 1 - gridcvs['KNN'].cv_results_['mean_test_score']\n",
    "cross_val_score = np.reshape(error, (len(error), 1))\n",
    "draw_heatmap(cross_val_score, n_list, \"Max Neighbors n\", 'KNN Heatmap MUSHROOM Dataset',title='cross-validation error w.r.t n')"
   ]
  },
  {
   "cell_type": "code",
   "execution_count": 53,
   "metadata": {},
   "outputs": [
    {
     "data": {
      "image/png": "[encoded data removed]",
      "text/plain": [
       "<Figure size 144x288 with 2 Axes>"
      ]
     },
     "metadata": {
      "needs_background": "light"
     },
     "output_type": "display_data"
    }
   ],
   "source": [
    "error = 1 - gridcvs['Logistic'].cv_results_['mean_test_score']\n",
    "cross_val_score = np.reshape(error, (len(error), 1))\n",
    "draw_heatmap(cross_val_score, n_list, \"Max C\",'Logistic Heatmap MUSHROOM Dataset', title='cross-validation error w.r.t C')"
   ]
  },
  {
   "cell_type": "markdown",
   "metadata": {},
   "source": [
    "### Learning Curves"
   ]
  },
  {
   "cell_type": "code",
   "execution_count": 35,
   "metadata": {},
   "outputs": [],
   "source": [
    "from sklearn.model_selection import learning_curve"
   ]
  },
  {
   "cell_type": "code",
   "execution_count": 36,
   "metadata": {},
   "outputs": [],
   "source": [
    "def plot(train_sizes, train_scores, test_scores, name):\n",
    "    # Creating means and standard deviations of training set scores\n",
    "    train_mean = np.mean(train_scores, axis=1)\n",
    "    train_std = np.std(train_scores, axis=1)\n",
    "    \n",
    "    # Creating means and standard deviations of test set scores\n",
    "    test_mean = np.mean(test_scores, axis=1)\n",
    "    test_std = np.std(test_scores, axis=1)\n",
    "    \n",
    "    # Drawing lines\n",
    "    plt.subplots(1, figsize=(10,10))\n",
    "    plt.plot(train_sizes, train_mean, '--', color=\"#111111\",  label=\"Training score\")\n",
    "    plt.plot(train_sizes, test_mean, color=\"#111111\", label=\"Cross-validation score\")\n",
    "    \n",
    "    # Drawing bands\n",
    "    plt.fill_between(train_sizes, train_mean - train_std, train_mean + train_std, color=\"#DDDDDD\")\n",
    "    plt.fill_between(train_sizes, test_mean - test_std, test_mean + test_std, color=\"#DDDDDD\")\n",
    "    \n",
    "    # Creating plot\n",
    "    plt.title(\"Learning Curve for {}\". format(name))\n",
    "    plt.xlabel(\"Training Set Size\"), plt.ylabel(\"Accuracy Score\"), plt.legend(loc=\"best\")\n",
    "    plt.savefig('{}.jpg'.format(name))\n",
    "    plt.show()"
   ]
  },
  {
   "cell_type": "code",
   "execution_count": 37,
   "metadata": {},
   "outputs": [
    {
     "data": {
      "image/png": "[encoded data removed]",
      "text/plain": [
       "<Figure size 720x720 with 1 Axes>"
      ]
     },
     "metadata": {
      "needs_background": "light"
     },
     "output_type": "display_data"
    },
    {
     "data": {
      "image/png": "[encoded data removed]",
      "text/plain": [
       "<Figure size 720x720 with 1 Axes>"
      ]
     },
     "metadata": {
      "needs_background": "light"
     },
     "output_type": "display_data"
    },
    {
     "data": {
      "image/png": "[encoded data removed]",
      "text/plain": [
       "<Figure size 720x720 with 1 Axes>"
      ]
     },
     "metadata": {
      "needs_background": "light"
     },
     "output_type": "display_data"
    }
   ],
   "source": [
    "for name in gridcvs:\n",
    "    train_size, train_score, test_score = learning_curve(gridcvs[name].best_estimator_,\n",
    "                                                        X, Y,\n",
    "                                                        cv = 5, n_jobs = 4,\n",
    "                                                        scoring = 'accuracy')\n",
    "    plot(train_size, train_score, test_score, name+' Mushroom Dataset')"
   ]
  },
  {
   "cell_type": "code",
   "execution_count": null,
   "metadata": {},
   "outputs": [],
   "source": []
  }
 ],
 "metadata": {
  "kernelspec": {
   "display_name": "Python 3",
   "language": "python",
   "name": "python3"
  },
  "language_info": {
   "codemirror_mode": {
    "name": "ipython",
    "version": 3
   },
   "file_extension": ".py",
   "mimetype": "text/x-python",
   "name": "python",
   "nbconvert_exporter": "python",
   "pygments_lexer": "ipython3",
   "version": "3.8.6"
  }
 },
 "nbformat": 4,
 "nbformat_minor": 4
}
