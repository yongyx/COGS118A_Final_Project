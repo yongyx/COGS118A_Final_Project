{
 "cells": [
  {
   "cell_type": "code",
   "execution_count": 1,
   "metadata": {},
   "outputs": [],
   "source": [
    "import numpy as np\n",
    "import matplotlib.pyplot as plt\n",
    "import pandas as pd\n",
    "from sklearn.pipeline import Pipeline\n",
    "from sklearn.linear_model import LogisticRegression\n",
    "from sklearn import tree\n",
    "from sklearn.neighbors import KNeighborsClassifier\n",
    "from sklearn.model_selection import StratifiedKFold\n",
    "import sklearn.preprocessing as pr\n",
    "from sklearn.preprocessing import LabelEncoder\n",
    "from sklearn.preprocessing import StandardScaler\n",
    "from sklearn.model_selection import train_test_split\n",
    "from sklearn.model_selection import GridSearchCV\n",
    "from sklearn.metrics import accuracy_score"
   ]
  },
  {
   "cell_type": "code",
   "execution_count": 2,
   "metadata": {},
   "outputs": [],
   "source": [
    "def create_gridcvs():\n",
    "    #Initializing Classifiers\n",
    "    clf1 = LogisticRegression(max_iter = 5000, solver = 'newton-cg')\n",
    "    clf2 = KNeighborsClassifier()\n",
    "    clf3 = tree.DecisionTreeClassifier()\n",
    "\n",
    "    #Building the pipelines\n",
    "    pipe1 = Pipeline([('std', StandardScaler()),\n",
    "                      ('classifier', clf1)])\n",
    "\n",
    "    pipe2 = Pipeline([('std', StandardScaler()),\n",
    "                      ('classifier', clf2)])\n",
    "\n",
    "    pipe3 = Pipeline([('std', StandardScaler()),\n",
    "                      ('classifier', clf3)])\n",
    "\n",
    "    #Setting up the parameter grids\n",
    "    param_grid1 = [{'classifier__penalty': ['l1','l2'],\n",
    "                   'classifier__C': np.power(10., np.arange(-8, 4))}]\n",
    "\n",
    "    param_grid2 = [{'classifier__n_neighbors': [int(x) for x in np.logspace(0,2.7,num=25)]}]\n",
    "\n",
    "    param_grid3 = [{'classifier__max_depth': [x for x in range(1,11)]}]\n",
    "\n",
    "    # Setting up multiple GridSearchCV objects, 1 for each algorithm\n",
    "    gridcvs = {}\n",
    "\n",
    "    for pgrid, est, name in zip((param_grid1, param_grid2, param_grid3),\n",
    "                               (pipe1, pipe2, pipe3),\n",
    "                               ('Logistic', 'KNN', 'DecisionTree')):\n",
    "        gcv = GridSearchCV(estimator=est,\n",
    "                          param_grid = pgrid,\n",
    "                          scoring = 'accuracy',\n",
    "                          n_jobs = 4,\n",
    "                          cv = 5,\n",
    "                          verbose = 0,\n",
    "                          refit = True)\n",
    "        gridcvs[name] = gcv\n",
    "\n",
    "    return gridcvs"
   ]
  },
  {
   "cell_type": "markdown",
   "metadata": {},
   "source": [
    "# Dataset 1 (ADULT)"
   ]
  },
  {
   "cell_type": "code",
   "execution_count": 3,
   "metadata": {},
   "outputs": [
    {
     "data": {
      "text/html": [
       "<div>\n",
       "<style scoped>\n",
       "    .dataframe tbody tr th:only-of-type {\n",
       "        vertical-align: middle;\n",
       "    }\n",
       "\n",
       "    .dataframe tbody tr th {\n",
       "        vertical-align: top;\n",
       "    }\n",
       "\n",
       "    .dataframe thead th {\n",
       "        text-align: right;\n",
       "    }\n",
       "</style>\n",
       "<table border=\"1\" class=\"dataframe\">\n",
       "  <thead>\n",
       "    <tr style=\"text-align: right;\">\n",
       "      <th></th>\n",
       "      <th>39</th>\n",
       "      <th>State-gov</th>\n",
       "      <th>77516</th>\n",
       "      <th>Bachelors</th>\n",
       "      <th>13</th>\n",
       "      <th>Never-married</th>\n",
       "      <th>Adm-clerical</th>\n",
       "      <th>Not-in-family</th>\n",
       "      <th>White</th>\n",
       "      <th>Male</th>\n",
       "      <th>2174</th>\n",
       "      <th>0</th>\n",
       "      <th>40</th>\n",
       "      <th>United-States</th>\n",
       "      <th>&lt;=50K</th>\n",
       "    </tr>\n",
       "  </thead>\n",
       "  <tbody>\n",
       "    <tr>\n",
       "      <th>0</th>\n",
       "      <td>50</td>\n",
       "      <td>Self-emp-not-inc</td>\n",
       "      <td>83311</td>\n",
       "      <td>Bachelors</td>\n",
       "      <td>13</td>\n",
       "      <td>Married-civ-spouse</td>\n",
       "      <td>Exec-managerial</td>\n",
       "      <td>Husband</td>\n",
       "      <td>White</td>\n",
       "      <td>Male</td>\n",
       "      <td>0</td>\n",
       "      <td>0</td>\n",
       "      <td>13</td>\n",
       "      <td>United-States</td>\n",
       "      <td>&lt;=50K</td>\n",
       "    </tr>\n",
       "    <tr>\n",
       "      <th>1</th>\n",
       "      <td>38</td>\n",
       "      <td>Private</td>\n",
       "      <td>215646</td>\n",
       "      <td>HS-grad</td>\n",
       "      <td>9</td>\n",
       "      <td>Divorced</td>\n",
       "      <td>Handlers-cleaners</td>\n",
       "      <td>Not-in-family</td>\n",
       "      <td>White</td>\n",
       "      <td>Male</td>\n",
       "      <td>0</td>\n",
       "      <td>0</td>\n",
       "      <td>40</td>\n",
       "      <td>United-States</td>\n",
       "      <td>&lt;=50K</td>\n",
       "    </tr>\n",
       "    <tr>\n",
       "      <th>2</th>\n",
       "      <td>53</td>\n",
       "      <td>Private</td>\n",
       "      <td>234721</td>\n",
       "      <td>11th</td>\n",
       "      <td>7</td>\n",
       "      <td>Married-civ-spouse</td>\n",
       "      <td>Handlers-cleaners</td>\n",
       "      <td>Husband</td>\n",
       "      <td>Black</td>\n",
       "      <td>Male</td>\n",
       "      <td>0</td>\n",
       "      <td>0</td>\n",
       "      <td>40</td>\n",
       "      <td>United-States</td>\n",
       "      <td>&lt;=50K</td>\n",
       "    </tr>\n",
       "    <tr>\n",
       "      <th>3</th>\n",
       "      <td>28</td>\n",
       "      <td>Private</td>\n",
       "      <td>338409</td>\n",
       "      <td>Bachelors</td>\n",
       "      <td>13</td>\n",
       "      <td>Married-civ-spouse</td>\n",
       "      <td>Prof-specialty</td>\n",
       "      <td>Wife</td>\n",
       "      <td>Black</td>\n",
       "      <td>Female</td>\n",
       "      <td>0</td>\n",
       "      <td>0</td>\n",
       "      <td>40</td>\n",
       "      <td>Cuba</td>\n",
       "      <td>&lt;=50K</td>\n",
       "    </tr>\n",
       "    <tr>\n",
       "      <th>4</th>\n",
       "      <td>37</td>\n",
       "      <td>Private</td>\n",
       "      <td>284582</td>\n",
       "      <td>Masters</td>\n",
       "      <td>14</td>\n",
       "      <td>Married-civ-spouse</td>\n",
       "      <td>Exec-managerial</td>\n",
       "      <td>Wife</td>\n",
       "      <td>White</td>\n",
       "      <td>Female</td>\n",
       "      <td>0</td>\n",
       "      <td>0</td>\n",
       "      <td>40</td>\n",
       "      <td>United-States</td>\n",
       "      <td>&lt;=50K</td>\n",
       "    </tr>\n",
       "    <tr>\n",
       "      <th>...</th>\n",
       "      <td>...</td>\n",
       "      <td>...</td>\n",
       "      <td>...</td>\n",
       "      <td>...</td>\n",
       "      <td>...</td>\n",
       "      <td>...</td>\n",
       "      <td>...</td>\n",
       "      <td>...</td>\n",
       "      <td>...</td>\n",
       "      <td>...</td>\n",
       "      <td>...</td>\n",
       "      <td>...</td>\n",
       "      <td>...</td>\n",
       "      <td>...</td>\n",
       "      <td>...</td>\n",
       "    </tr>\n",
       "    <tr>\n",
       "      <th>32555</th>\n",
       "      <td>27</td>\n",
       "      <td>Private</td>\n",
       "      <td>257302</td>\n",
       "      <td>Assoc-acdm</td>\n",
       "      <td>12</td>\n",
       "      <td>Married-civ-spouse</td>\n",
       "      <td>Tech-support</td>\n",
       "      <td>Wife</td>\n",
       "      <td>White</td>\n",
       "      <td>Female</td>\n",
       "      <td>0</td>\n",
       "      <td>0</td>\n",
       "      <td>38</td>\n",
       "      <td>United-States</td>\n",
       "      <td>&lt;=50K</td>\n",
       "    </tr>\n",
       "    <tr>\n",
       "      <th>32556</th>\n",
       "      <td>40</td>\n",
       "      <td>Private</td>\n",
       "      <td>154374</td>\n",
       "      <td>HS-grad</td>\n",
       "      <td>9</td>\n",
       "      <td>Married-civ-spouse</td>\n",
       "      <td>Machine-op-inspct</td>\n",
       "      <td>Husband</td>\n",
       "      <td>White</td>\n",
       "      <td>Male</td>\n",
       "      <td>0</td>\n",
       "      <td>0</td>\n",
       "      <td>40</td>\n",
       "      <td>United-States</td>\n",
       "      <td>&gt;50K</td>\n",
       "    </tr>\n",
       "    <tr>\n",
       "      <th>32557</th>\n",
       "      <td>58</td>\n",
       "      <td>Private</td>\n",
       "      <td>151910</td>\n",
       "      <td>HS-grad</td>\n",
       "      <td>9</td>\n",
       "      <td>Widowed</td>\n",
       "      <td>Adm-clerical</td>\n",
       "      <td>Unmarried</td>\n",
       "      <td>White</td>\n",
       "      <td>Female</td>\n",
       "      <td>0</td>\n",
       "      <td>0</td>\n",
       "      <td>40</td>\n",
       "      <td>United-States</td>\n",
       "      <td>&lt;=50K</td>\n",
       "    </tr>\n",
       "    <tr>\n",
       "      <th>32558</th>\n",
       "      <td>22</td>\n",
       "      <td>Private</td>\n",
       "      <td>201490</td>\n",
       "      <td>HS-grad</td>\n",
       "      <td>9</td>\n",
       "      <td>Never-married</td>\n",
       "      <td>Adm-clerical</td>\n",
       "      <td>Own-child</td>\n",
       "      <td>White</td>\n",
       "      <td>Male</td>\n",
       "      <td>0</td>\n",
       "      <td>0</td>\n",
       "      <td>20</td>\n",
       "      <td>United-States</td>\n",
       "      <td>&lt;=50K</td>\n",
       "    </tr>\n",
       "    <tr>\n",
       "      <th>32559</th>\n",
       "      <td>52</td>\n",
       "      <td>Self-emp-inc</td>\n",
       "      <td>287927</td>\n",
       "      <td>HS-grad</td>\n",
       "      <td>9</td>\n",
       "      <td>Married-civ-spouse</td>\n",
       "      <td>Exec-managerial</td>\n",
       "      <td>Wife</td>\n",
       "      <td>White</td>\n",
       "      <td>Female</td>\n",
       "      <td>15024</td>\n",
       "      <td>0</td>\n",
       "      <td>40</td>\n",
       "      <td>United-States</td>\n",
       "      <td>&gt;50K</td>\n",
       "    </tr>\n",
       "  </tbody>\n",
       "</table>\n",
       "<p>32560 rows × 15 columns</p>\n",
       "</div>"
      ],
      "text/plain": [
       "       39          State-gov   77516    Bachelors   13        Never-married  \\\n",
       "0      50   Self-emp-not-inc   83311    Bachelors   13   Married-civ-spouse   \n",
       "1      38            Private  215646      HS-grad    9             Divorced   \n",
       "2      53            Private  234721         11th    7   Married-civ-spouse   \n",
       "3      28            Private  338409    Bachelors   13   Married-civ-spouse   \n",
       "4      37            Private  284582      Masters   14   Married-civ-spouse   \n",
       "...    ..                ...     ...          ...  ...                  ...   \n",
       "32555  27            Private  257302   Assoc-acdm   12   Married-civ-spouse   \n",
       "32556  40            Private  154374      HS-grad    9   Married-civ-spouse   \n",
       "32557  58            Private  151910      HS-grad    9              Widowed   \n",
       "32558  22            Private  201490      HS-grad    9        Never-married   \n",
       "32559  52       Self-emp-inc  287927      HS-grad    9   Married-civ-spouse   \n",
       "\n",
       "             Adm-clerical   Not-in-family   White     Male   2174   0   40  \\\n",
       "0         Exec-managerial         Husband   White     Male      0   0   13   \n",
       "1       Handlers-cleaners   Not-in-family   White     Male      0   0   40   \n",
       "2       Handlers-cleaners         Husband   Black     Male      0   0   40   \n",
       "3          Prof-specialty            Wife   Black   Female      0   0   40   \n",
       "4         Exec-managerial            Wife   White   Female      0   0   40   \n",
       "...                   ...             ...     ...      ...    ...  ..  ...   \n",
       "32555        Tech-support            Wife   White   Female      0   0   38   \n",
       "32556   Machine-op-inspct         Husband   White     Male      0   0   40   \n",
       "32557        Adm-clerical       Unmarried   White   Female      0   0   40   \n",
       "32558        Adm-clerical       Own-child   White     Male      0   0   20   \n",
       "32559     Exec-managerial            Wife   White   Female  15024   0   40   \n",
       "\n",
       "        United-States   <=50K  \n",
       "0       United-States   <=50K  \n",
       "1       United-States   <=50K  \n",
       "2       United-States   <=50K  \n",
       "3                Cuba   <=50K  \n",
       "4       United-States   <=50K  \n",
       "...               ...     ...  \n",
       "32555   United-States   <=50K  \n",
       "32556   United-States    >50K  \n",
       "32557   United-States   <=50K  \n",
       "32558   United-States   <=50K  \n",
       "32559   United-States    >50K  \n",
       "\n",
       "[32560 rows x 15 columns]"
      ]
     },
     "execution_count": 3,
     "metadata": {},
     "output_type": "execute_result"
    }
   ],
   "source": [
    "#Adult dataset.\n",
    "adult = pd.read_csv('adult.data', index_col = False)#load data from file.\n",
    "adult"
   ]
  },
  {
   "cell_type": "code",
   "execution_count": 4,
   "metadata": {},
   "outputs": [
    {
     "name": "stdout",
     "output_type": "stream",
     "text": [
      "(32560, 14)\n",
      "(32560,)\n"
     ]
    }
   ],
   "source": [
    "le = LabelEncoder()\n",
    "\n",
    "for col in adult:\n",
    "    adult[col] = le.fit_transform(adult[col])\n",
    "\n",
    "adult.head()\n",
    "\n",
    "X = adult.drop([' <=50K'], axis = 1)\n",
    "Y = adult[' <=50K']\n",
    "\n",
    "print(X.shape)\n",
    "print(Y.shape)"
   ]
  },
  {
   "cell_type": "code",
   "execution_count": 5,
   "metadata": {},
   "outputs": [],
   "source": [
    "scores = {}\n",
    "scores['Logistic'] = []\n",
    "scores['KNN'] = []\n",
    "scores['DecisionTree'] = []"
   ]
  },
  {
   "cell_type": "markdown",
   "metadata": {},
   "source": [
    "## Trial 1"
   ]
  },
  {
   "cell_type": "code",
   "execution_count": 6,
   "metadata": {},
   "outputs": [],
   "source": [
    "gridcvs = create_gridcvs()"
   ]
  },
  {
   "cell_type": "code",
   "execution_count": 7,
   "metadata": {},
   "outputs": [
    {
     "name": "stdout",
     "output_type": "stream",
     "text": [
      "(5000, 14)\n",
      "(5000,)\n",
      "(27560, 14)\n",
      "(27560,)\n"
     ]
    }
   ],
   "source": [
    "X_train, X_test, y_train, y_test = train_test_split(X, Y, \n",
    "                                                    train_size = 5000,\n",
    "                                                   random_state = 1234)\n",
    "\n",
    "scaler = pr.MinMaxScaler()\n",
    "\n",
    "X_train = scaler.fit_transform(X_train)\n",
    "X_test = scaler.transform(X_test)\n",
    "y_train = y_train.to_numpy()\n",
    "y_test = y_test.to_numpy()\n",
    "\n",
    "print(X_train.shape)\n",
    "print(y_train.shape)\n",
    "print(X_test.shape)\n",
    "print(y_test.shape)\n"
   ]
  },
  {
   "cell_type": "code",
   "execution_count": 8,
   "metadata": {},
   "outputs": [
    {
     "name": "stdout",
     "output_type": "stream",
     "text": [
      "outer fold 1/5 | tuning DecisionTree | inner ACC 84.53% | outer ACC 84.50%\n",
      "outer fold 1/5 | tuning KNN      | inner ACC 83.90% | outer ACC 82.80%\n",
      "outer fold 1/5 | tuning Logistic | inner ACC 82.30% | outer ACC 81.90%\n",
      "outer fold 2/5 | tuning DecisionTree | inner ACC 85.20% | outer ACC 83.80%\n",
      "outer fold 2/5 | tuning KNN      | inner ACC 83.90% | outer ACC 81.90%\n",
      "outer fold 2/5 | tuning Logistic | inner ACC 82.55% | outer ACC 81.20%\n",
      "outer fold 3/5 | tuning DecisionTree | inner ACC 84.12% | outer ACC 85.50%\n",
      "outer fold 3/5 | tuning KNN      | inner ACC 83.42% | outer ACC 84.20%\n",
      "outer fold 3/5 | tuning Logistic | inner ACC 82.03% | outer ACC 82.80%\n",
      "outer fold 4/5 | tuning DecisionTree | inner ACC 84.38% | outer ACC 84.90%\n",
      "outer fold 4/5 | tuning KNN      | inner ACC 83.58% | outer ACC 84.30%\n",
      "outer fold 4/5 | tuning Logistic | inner ACC 82.03% | outer ACC 83.40%\n",
      "outer fold 5/5 | tuning DecisionTree | inner ACC 84.28% | outer ACC 83.60%\n",
      "outer fold 5/5 | tuning KNN      | inner ACC 83.78% | outer ACC 83.50%\n",
      "outer fold 5/5 | tuning Logistic | inner ACC 82.08% | outer ACC 82.70%\n",
      "CPU times: user 3.21 s, sys: 350 ms, total: 3.56 s\n",
      "Wall time: 56.5 s\n"
     ]
    }
   ],
   "source": [
    "%%time\n",
    "\n",
    "cv_scores = {name: [] for name, gs_est in gridcvs.items()}\n",
    "\n",
    "skfold = StratifiedKFold(n_splits=5, shuffle=True, random_state=1234)\n",
    "\n",
    "c = 1\n",
    "for outer_train_idx, outer_valid_idx in skfold.split(X_train,y_train):\n",
    "    for name, gs_est in sorted(gridcvs.items()):\n",
    "        print('outer fold %d/5 | tuning %-8s' % (c, name), end='')\n",
    "\n",
    "        # The inner loop for hyperparameter tuning\n",
    "        gs_est.fit(X_train[outer_train_idx], y_train[outer_train_idx])\n",
    "        y_pred = gs_est.predict(X_train[outer_valid_idx])\n",
    "        acc = accuracy_score(y_true=y_train[outer_valid_idx], y_pred=y_pred)\n",
    "        print(' | inner ACC %.2f%% | outer ACC %.2f%%' %\n",
    "              (gs_est.best_score_ * 100, acc * 100))\n",
    "        cv_scores[name].append(acc)\n",
    "\n",
    "    c += 1"
   ]
  },
  {
   "cell_type": "code",
   "execution_count": 9,
   "metadata": {},
   "outputs": [
    {
     "name": "stdout",
     "output_type": "stream",
     "text": [
      "Logistic | outer CV acc. 82.40% +\\- 0.767\n",
      "KNN      | outer CV acc. 83.34% +\\- 0.900\n",
      "DecisionTree | outer CV acc. 84.46% +\\- 0.700\n",
      "\n",
      "Logistic best parameters {'classifier__C': 10.0, 'classifier__penalty': 'l2'}\n",
      "KNN best parameters {'classifier__n_neighbors': 81}\n",
      "DecisionTree best parameters {'classifier__max_depth': 5}\n"
     ]
    }
   ],
   "source": [
    "for name in cv_scores:\n",
    "    print('%-8s | outer CV acc. %.2f%% +\\- %.3f' % (\n",
    "          name, 100 * np.mean(cv_scores[name]), 100 * np.std(cv_scores[name])))\n",
    "print()\n",
    "for name in cv_scores:\n",
    "    print('{} best parameters'.format(name), gridcvs[name].best_params_)"
   ]
  },
  {
   "cell_type": "code",
   "execution_count": 10,
   "metadata": {},
   "outputs": [
    {
     "name": "stdout",
     "output_type": "stream",
     "text": [
      "Optimal Training Performance for Logistic: 82.42%\n",
      "Optimal Test Performance for Logistic: 82.58%\n",
      "\n",
      "Optimal Training Performance for KNN: 83.80%\n",
      "Optimal Test Performance for KNN: 83.51%\n",
      "\n",
      "Optimal Training Performance for DecisionTree: 85.02%\n",
      "Optimal Test Performance for DecisionTree: 84.52%\n",
      "\n"
     ]
    },
    {
     "data": {
      "text/plain": [
       "{'Logistic': array([0.8242    , 0.82579826]),\n",
       " 'KNN': array([0.838     , 0.83512337]),\n",
       " 'DecisionTree': array([0.8502    , 0.84517417])}"
      ]
     },
     "execution_count": 10,
     "metadata": {},
     "output_type": "execute_result"
    }
   ],
   "source": [
    "## get the respective test and training set errors for all algorithms \n",
    "##trial 1\n",
    "trial1_err = {}\n",
    "for name in gridcvs:\n",
    "    clf = gridcvs[name].best_estimator_\n",
    "    clf.fit(X_train, y_train)\n",
    "    print('Optimal Training Performance for {}: {:.2f}%'.format(name, clf.score(X_train, y_train)*100))\n",
    "    print('Optimal Test Performance for {}: {:.2f}%'.format(name, clf.score(X_test, y_test)*100))\n",
    "    print()\n",
    "    trial1_err[name] = np.array((clf.score(X_train, y_train), clf.score(X_test, y_test)))\n",
    "    scores[name].append(clf.score(X_test, y_test))\n",
    "    \n",
    "trial1_err"
   ]
  },
  {
   "cell_type": "markdown",
   "metadata": {},
   "source": [
    "## Trial 2"
   ]
  },
  {
   "cell_type": "code",
   "execution_count": 11,
   "metadata": {},
   "outputs": [
    {
     "name": "stdout",
     "output_type": "stream",
     "text": [
      "(5000, 14)\n",
      "(5000,)\n",
      "(27560, 14)\n",
      "(27560,)\n"
     ]
    }
   ],
   "source": [
    "X_train2, X_test2, y_train2, y_test2 = train_test_split(X, Y, \n",
    "                                                    train_size = 5000,\n",
    "                                                   random_state = 123)\n",
    "\n",
    "scaler = pr.MinMaxScaler()\n",
    "\n",
    "X_train2 = scaler.fit_transform(X_train2)\n",
    "X_test2 = scaler.transform(X_test2)\n",
    "y_train2 = y_train2.to_numpy()\n",
    "y_test2 = y_test2.to_numpy()\n",
    "\n",
    "print(X_train2.shape)\n",
    "print(y_train2.shape)\n",
    "print(X_test2.shape)\n",
    "print(y_test2.shape)"
   ]
  },
  {
   "cell_type": "code",
   "execution_count": 12,
   "metadata": {},
   "outputs": [
    {
     "name": "stdout",
     "output_type": "stream",
     "text": [
      "outer fold 1/5 | tuning DecisionTree | inner ACC 85.20% | outer ACC 85.60%\n",
      "outer fold 1/5 | tuning KNN      | inner ACC 83.15% | outer ACC 83.80%\n",
      "outer fold 1/5 | tuning Logistic | inner ACC 81.88% | outer ACC 82.70%\n",
      "outer fold 2/5 | tuning DecisionTree | inner ACC 85.25% | outer ACC 85.80%\n",
      "outer fold 2/5 | tuning KNN      | inner ACC 83.38% | outer ACC 83.80%\n",
      "outer fold 2/5 | tuning Logistic | inner ACC 81.75% | outer ACC 82.30%\n",
      "outer fold 3/5 | tuning DecisionTree | inner ACC 85.38% | outer ACC 84.80%\n",
      "outer fold 3/5 | tuning KNN      | inner ACC 83.70% | outer ACC 81.90%\n",
      "outer fold 3/5 | tuning Logistic | inner ACC 82.20% | outer ACC 81.10%\n",
      "outer fold 4/5 | tuning DecisionTree | inner ACC 84.55% | outer ACC 86.90%\n",
      "outer fold 4/5 | tuning KNN      | inner ACC 82.90% | outer ACC 83.90%\n",
      "outer fold 4/5 | tuning Logistic | inner ACC 81.33% | outer ACC 83.40%\n",
      "outer fold 5/5 | tuning DecisionTree | inner ACC 84.92% | outer ACC 84.70%\n",
      "outer fold 5/5 | tuning KNN      | inner ACC 83.95% | outer ACC 81.30%\n",
      "outer fold 5/5 | tuning Logistic | inner ACC 82.40% | outer ACC 80.10%\n",
      "CPU times: user 3.27 s, sys: 254 ms, total: 3.53 s\n",
      "Wall time: 52.1 s\n"
     ]
    }
   ],
   "source": [
    "%%time\n",
    "\n",
    "cv_scores = {name: [] for name, gs_est in gridcvs.items()}\n",
    "\n",
    "skfold = StratifiedKFold(n_splits=5, shuffle=True, random_state=1234)\n",
    "\n",
    "c = 1\n",
    "for outer_train_idx, outer_valid_idx in skfold.split(X_train2,y_train2):\n",
    "    for name, gs_est in sorted(gridcvs.items()):\n",
    "        print('outer fold %d/5 | tuning %-8s' % (c, name), end='')\n",
    "\n",
    "        # The inner loop for hyperparameter tuning\n",
    "        gs_est.fit(X_train2[outer_train_idx], y_train2[outer_train_idx])\n",
    "        y_pred = gs_est.predict(X_train2[outer_valid_idx])\n",
    "        acc = accuracy_score(y_true=y_train2[outer_valid_idx], y_pred=y_pred)\n",
    "        print(' | inner ACC %.2f%% | outer ACC %.2f%%' %\n",
    "              (gs_est.best_score_ * 100, acc * 100))\n",
    "        cv_scores[name].append(acc)\n",
    "\n",
    "    c += 1"
   ]
  },
  {
   "cell_type": "code",
   "execution_count": 13,
   "metadata": {},
   "outputs": [
    {
     "name": "stdout",
     "output_type": "stream",
     "text": [
      "Logistic | outer CV acc. 81.92% +\\- 1.177\n",
      "KNN      | outer CV acc. 82.94% +\\- 1.111\n",
      "DecisionTree | outer CV acc. 85.56% +\\- 0.796\n",
      "\n",
      "Logistic best parameters {'classifier__C': 0.01, 'classifier__penalty': 'l2'}\n",
      "KNN best parameters {'classifier__n_neighbors': 177}\n",
      "DecisionTree best parameters {'classifier__max_depth': 5}\n"
     ]
    }
   ],
   "source": [
    "for name in cv_scores:\n",
    "    print('%-8s | outer CV acc. %.2f%% +\\- %.3f' % (\n",
    "          name, 100 * np.mean(cv_scores[name]), 100 * np.std(cv_scores[name])))\n",
    "print()\n",
    "for name in cv_scores:\n",
    "    print('{} best parameters'.format(name), gridcvs[name].best_params_)"
   ]
  },
  {
   "cell_type": "code",
   "execution_count": 14,
   "metadata": {},
   "outputs": [
    {
     "name": "stdout",
     "output_type": "stream",
     "text": [
      "Optimal Training Performance for Logistic: 82.08%\n",
      "Optimal Test Performance for Logistic: 82.46%\n",
      "\n",
      "Optimal Training Performance for KNN: 83.52%\n",
      "Optimal Test Performance for KNN: 83.43%\n",
      "\n",
      "Optimal Training Performance for DecisionTree: 86.26%\n",
      "Optimal Test Performance for DecisionTree: 85.14%\n",
      "\n"
     ]
    },
    {
     "data": {
      "text/plain": [
       "{'Logistic': array([0.8208    , 0.82463716]),\n",
       " 'KNN': array([0.8352    , 0.83432511]),\n",
       " 'DecisionTree': array([0.8626    , 0.85137881])}"
      ]
     },
     "execution_count": 14,
     "metadata": {},
     "output_type": "execute_result"
    }
   ],
   "source": [
    "trial2_err = {}\n",
    "for name in gridcvs:\n",
    "    clf = gridcvs[name].best_estimator_\n",
    "    clf.fit(X_train2, y_train2)\n",
    "    print('Optimal Training Performance for {}: {:.2f}%'.format(name, clf.score(X_train2, y_train2)*100))\n",
    "    print('Optimal Test Performance for {}: {:.2f}%'.format(name, clf.score(X_test2, y_test2)*100))\n",
    "    print()\n",
    "    trial2_err[name] = np.array((clf.score(X_train2, y_train2), clf.score(X_test2, y_test2)))\n",
    "    scores[name].append(clf.score(X_test2, y_test2))\n",
    "    \n",
    "trial2_err"
   ]
  },
  {
   "cell_type": "markdown",
   "metadata": {},
   "source": [
    "## Trial 3"
   ]
  },
  {
   "cell_type": "code",
   "execution_count": 15,
   "metadata": {},
   "outputs": [
    {
     "name": "stdout",
     "output_type": "stream",
     "text": [
      "(5000, 14)\n",
      "(5000,)\n",
      "(27560, 14)\n",
      "(27560,)\n"
     ]
    }
   ],
   "source": [
    "X_train3, X_test3, y_train3, y_test3 = train_test_split(X, Y, \n",
    "                                                    train_size = 5000/X.shape[0],\n",
    "                                                   random_state = 12)\n",
    "\n",
    "scaler = pr.MinMaxScaler()\n",
    "\n",
    "X_train3 = scaler.fit_transform(X_train3)\n",
    "X_test3 = scaler.transform(X_test3)\n",
    "y_train3 = y_train3.to_numpy()\n",
    "y_test3 = y_test3.to_numpy()\n",
    "\n",
    "print(X_train3.shape)\n",
    "print(y_train3.shape)\n",
    "print(X_test3.shape)\n",
    "print(y_test3.shape)"
   ]
  },
  {
   "cell_type": "code",
   "execution_count": 16,
   "metadata": {},
   "outputs": [
    {
     "name": "stdout",
     "output_type": "stream",
     "text": [
      "outer fold 1/5 | tuning DecisionTree | inner ACC 84.53% | outer ACC 84.70%\n",
      "outer fold 1/5 | tuning KNN      | inner ACC 83.83% | outer ACC 81.40%\n",
      "outer fold 1/5 | tuning Logistic | inner ACC 82.97% | outer ACC 81.10%\n",
      "outer fold 2/5 | tuning DecisionTree | inner ACC 84.88% | outer ACC 84.30%\n",
      "outer fold 2/5 | tuning KNN      | inner ACC 83.32% | outer ACC 83.70%\n",
      "outer fold 2/5 | tuning Logistic | inner ACC 82.78% | outer ACC 82.00%\n",
      "outer fold 3/5 | tuning DecisionTree | inner ACC 84.12% | outer ACC 85.10%\n",
      "outer fold 3/5 | tuning KNN      | inner ACC 83.20% | outer ACC 83.30%\n",
      "outer fold 3/5 | tuning Logistic | inner ACC 82.40% | outer ACC 82.50%\n",
      "outer fold 4/5 | tuning DecisionTree | inner ACC 85.00% | outer ACC 84.00%\n",
      "outer fold 4/5 | tuning KNN      | inner ACC 83.53% | outer ACC 82.50%\n",
      "outer fold 4/5 | tuning Logistic | inner ACC 82.60% | outer ACC 83.00%\n",
      "outer fold 5/5 | tuning DecisionTree | inner ACC 84.73% | outer ACC 85.30%\n",
      "outer fold 5/5 | tuning KNN      | inner ACC 83.10% | outer ACC 84.40%\n",
      "outer fold 5/5 | tuning Logistic | inner ACC 82.33% | outer ACC 84.00%\n",
      "CPU times: user 2.89 s, sys: 199 ms, total: 3.08 s\n",
      "Wall time: 43.3 s\n"
     ]
    }
   ],
   "source": [
    "%%time\n",
    "\n",
    "cv_scores = {name: [] for name, gs_est in gridcvs.items()}\n",
    "\n",
    "skfold = StratifiedKFold(n_splits=5, shuffle=True, random_state=1234)\n",
    "\n",
    "c = 1\n",
    "for outer_train_idx, outer_valid_idx in skfold.split(X_train3,y_train3):\n",
    "    for name, gs_est in sorted(gridcvs.items()):\n",
    "        print('outer fold %d/5 | tuning %-8s' % (c, name), end='')\n",
    "\n",
    "        # The inner loop for hyperparameter tuning\n",
    "        gs_est.fit(X_train3[outer_train_idx], y_train3[outer_train_idx])\n",
    "        y_pred = gs_est.predict(X_train3[outer_valid_idx])\n",
    "        acc = accuracy_score(y_true=y_train3[outer_valid_idx], y_pred=y_pred)\n",
    "        print(' | inner ACC %.2f%% | outer ACC %.2f%%' %\n",
    "              (gs_est.best_score_ * 100, acc * 100))\n",
    "        cv_scores[name].append(acc)\n",
    "\n",
    "    c += 1"
   ]
  },
  {
   "cell_type": "code",
   "execution_count": 17,
   "metadata": {},
   "outputs": [
    {
     "name": "stdout",
     "output_type": "stream",
     "text": [
      "Logistic | outer CV acc. 82.52% +\\- 0.970\n",
      "KNN      | outer CV acc. 83.06% +\\- 1.033\n",
      "DecisionTree | outer CV acc. 84.68% +\\- 0.483\n",
      "\n",
      "Logistic best parameters {'classifier__C': 0.1, 'classifier__penalty': 'l2'}\n",
      "KNN best parameters {'classifier__n_neighbors': 105}\n",
      "DecisionTree best parameters {'classifier__max_depth': 6}\n"
     ]
    }
   ],
   "source": [
    "for name in cv_scores:\n",
    "    print('%-8s | outer CV acc. %.2f%% +\\- %.3f' % (\n",
    "          name, 100 * np.mean(cv_scores[name]), 100 * np.std(cv_scores[name])))\n",
    "print()\n",
    "for name in cv_scores:\n",
    "    print('{} best parameters'.format(name), gridcvs[name].best_params_)"
   ]
  },
  {
   "cell_type": "code",
   "execution_count": 18,
   "metadata": {},
   "outputs": [
    {
     "name": "stdout",
     "output_type": "stream",
     "text": [
      "Optimal Training Performance for Logistic: 82.82%\n",
      "Optimal Test Performance for Logistic: 82.33%\n",
      "\n",
      "Optimal Training Performance for KNN: 83.62%\n",
      "Optimal Test Performance for KNN: 83.29%\n",
      "\n",
      "Optimal Training Performance for DecisionTree: 85.78%\n",
      "Optimal Test Performance for DecisionTree: 85.09%\n",
      "\n"
     ]
    },
    {
     "data": {
      "text/plain": [
       "{'Logistic': array([0.8282    , 0.82325835]),\n",
       " 'KNN': array([0.8362    , 0.83287373]),\n",
       " 'DecisionTree': array([0.8578   , 0.8509434])}"
      ]
     },
     "execution_count": 18,
     "metadata": {},
     "output_type": "execute_result"
    }
   ],
   "source": [
    "trial3_err = {}\n",
    "for name in gridcvs:\n",
    "    clf = gridcvs[name].best_estimator_\n",
    "    clf.fit(X_train3, y_train3)\n",
    "    print('Optimal Training Performance for {}: {:.2f}%'.format(name, clf.score(X_train3, y_train3)*100))\n",
    "    print('Optimal Test Performance for {}: {:.2f}%'.format(name, clf.score(X_test3, y_test3)*100))\n",
    "    print()\n",
    "    trial3_err[name] = np.array((clf.score(X_train3, y_train3), clf.score(X_test3, y_test3)))\n",
    "    scores[name].append(clf.score(X_test3, y_test3))\n",
    "    \n",
    "trial3_err\n",
    "          "
   ]
  },
  {
   "cell_type": "markdown",
   "metadata": {},
   "source": [
    "## Results"
   ]
  },
  {
   "cell_type": "code",
   "execution_count": 19,
   "metadata": {},
   "outputs": [
    {
     "name": "stdout",
     "output_type": "stream",
     "text": [
      "{'Logistic': array([0.8242    , 0.82579826]), 'KNN': array([0.838     , 0.83512337]), 'DecisionTree': array([0.8502    , 0.84517417])}\n",
      "{'Logistic': array([0.8208    , 0.82463716]), 'KNN': array([0.8352    , 0.83432511]), 'DecisionTree': array([0.8626    , 0.85137881])}\n",
      "{'Logistic': array([0.8282    , 0.82325835]), 'KNN': array([0.8362    , 0.83287373]), 'DecisionTree': array([0.8578   , 0.8509434])}\n"
     ]
    }
   ],
   "source": [
    "print(trial1_err)\n",
    "print(trial2_err)\n",
    "print(trial3_err)\n"
   ]
  },
  {
   "cell_type": "code",
   "execution_count": 20,
   "metadata": {},
   "outputs": [
    {
     "name": "stdout",
     "output_type": "stream",
     "text": [
      "Mean training set performance for Adult dataset for Logistic algorithm: 82.44000%\n",
      "Mean test set performance for Adult dataset for Logistic algorithm: 82.45646%\n",
      "\n",
      "Mean training set performance for Adult dataset for KNN algorithm: 83.64667%\n",
      "Mean test set performance for Adult dataset for KNN algorithm: 83.41074%\n",
      "\n",
      "Mean training set performance for Adult dataset for DecisionTree algorithm: 85.68667%\n",
      "Mean test set performance for Adult dataset for DecisionTree algorithm: 84.91655%\n",
      "\n"
     ]
    }
   ],
   "source": [
    "avg_trial_err = {}\n",
    "for name in trial1_err:\n",
    "    avg_trial_err[name] = np.array((trial1_err[name] + \n",
    "                          trial2_err[name] +\n",
    "                          trial3_err[name])/3.)\n",
    "\n",
    "for name in avg_trial_err:\n",
    "    print(\"Mean training set performance for Adult dataset for {} algorithm: {:.5f}%\".format(name, avg_trial_err[name][0]*100))\n",
    "    print(\"Mean test set performance for Adult dataset for {} algorithm: {:.5f}%\".format(name, avg_trial_err[name][1]*100))\n",
    "    print()"
   ]
  },
  {
   "cell_type": "code",
   "execution_count": 21,
   "metadata": {},
   "outputs": [
    {
     "data": {
      "text/html": [
       "<div>\n",
       "<style scoped>\n",
       "    .dataframe tbody tr th:only-of-type {\n",
       "        vertical-align: middle;\n",
       "    }\n",
       "\n",
       "    .dataframe tbody tr th {\n",
       "        vertical-align: top;\n",
       "    }\n",
       "\n",
       "    .dataframe thead th {\n",
       "        text-align: right;\n",
       "    }\n",
       "</style>\n",
       "<table border=\"1\" class=\"dataframe\">\n",
       "  <thead>\n",
       "    <tr style=\"text-align: right;\">\n",
       "      <th></th>\n",
       "      <th>Set</th>\n",
       "      <th>Logistic</th>\n",
       "      <th>KNN</th>\n",
       "      <th>DecisionTree</th>\n",
       "    </tr>\n",
       "  </thead>\n",
       "  <tbody>\n",
       "    <tr>\n",
       "      <th>0</th>\n",
       "      <td>Train</td>\n",
       "      <td>0.824400</td>\n",
       "      <td>0.836467</td>\n",
       "      <td>0.856867</td>\n",
       "    </tr>\n",
       "    <tr>\n",
       "      <th>1</th>\n",
       "      <td>Test</td>\n",
       "      <td>0.824565</td>\n",
       "      <td>0.834107</td>\n",
       "      <td>0.849165</td>\n",
       "    </tr>\n",
       "  </tbody>\n",
       "</table>\n",
       "</div>"
      ],
      "text/plain": [
       "     Set  Logistic       KNN  DecisionTree\n",
       "0  Train  0.824400  0.836467      0.856867\n",
       "1   Test  0.824565  0.834107      0.849165"
      ]
     },
     "execution_count": 21,
     "metadata": {},
     "output_type": "execute_result"
    }
   ],
   "source": [
    "avg_trial = pd.DataFrame.from_dict(avg_trial_err)\n",
    "avg_trial['Set'] = ['Train', 'Test']\n",
    "avg_trial = avg_trial.reindex(columns = ['Set', 'Logistic', 'KNN', 'DecisionTree'])\n",
    "avg_trial"
   ]
  },
  {
   "cell_type": "code",
   "execution_count": 22,
   "metadata": {},
   "outputs": [],
   "source": [
    "avg_trial.to_csv(r'Adult_Machine_Learning.csv', index = False, header = True)"
   ]
  },
  {
   "cell_type": "code",
   "execution_count": 23,
   "metadata": {},
   "outputs": [
    {
     "data": {
      "text/html": [
       "<div>\n",
       "<style scoped>\n",
       "    .dataframe tbody tr th:only-of-type {\n",
       "        vertical-align: middle;\n",
       "    }\n",
       "\n",
       "    .dataframe tbody tr th {\n",
       "        vertical-align: top;\n",
       "    }\n",
       "\n",
       "    .dataframe thead th {\n",
       "        text-align: right;\n",
       "    }\n",
       "</style>\n",
       "<table border=\"1\" class=\"dataframe\">\n",
       "  <thead>\n",
       "    <tr style=\"text-align: right;\">\n",
       "      <th></th>\n",
       "      <th>Logistic</th>\n",
       "      <th>KNN</th>\n",
       "      <th>DecisionTree</th>\n",
       "    </tr>\n",
       "  </thead>\n",
       "  <tbody>\n",
       "    <tr>\n",
       "      <th>0</th>\n",
       "      <td>0.825798</td>\n",
       "      <td>0.835123</td>\n",
       "      <td>0.845174</td>\n",
       "    </tr>\n",
       "    <tr>\n",
       "      <th>1</th>\n",
       "      <td>0.824637</td>\n",
       "      <td>0.834325</td>\n",
       "      <td>0.851379</td>\n",
       "    </tr>\n",
       "    <tr>\n",
       "      <th>2</th>\n",
       "      <td>0.823258</td>\n",
       "      <td>0.832874</td>\n",
       "      <td>0.850943</td>\n",
       "    </tr>\n",
       "  </tbody>\n",
       "</table>\n",
       "</div>"
      ],
      "text/plain": [
       "   Logistic       KNN  DecisionTree\n",
       "0  0.825798  0.835123      0.845174\n",
       "1  0.824637  0.834325      0.851379\n",
       "2  0.823258  0.832874      0.850943"
      ]
     },
     "execution_count": 23,
     "metadata": {},
     "output_type": "execute_result"
    }
   ],
   "source": [
    "adult_scores = pd.DataFrame.from_dict(scores)\n",
    "adult_scores = adult_scores.reindex(columns = ['Logistic','KNN','DecisionTree'])\n",
    "adult_scores"
   ]
  },
  {
   "cell_type": "code",
   "execution_count": 24,
   "metadata": {},
   "outputs": [],
   "source": [
    "adult_scores.to_csv(r'adult_scores.csv', index = False, header = True)"
   ]
  },
  {
   "cell_type": "markdown",
   "metadata": {},
   "source": [
    "## Visualization"
   ]
  },
  {
   "cell_type": "markdown",
   "metadata": {},
   "source": [
    "### Heatmaps"
   ]
  },
  {
   "cell_type": "code",
   "execution_count": 25,
   "metadata": {},
   "outputs": [],
   "source": [
    "import seaborn as sns"
   ]
  },
  {
   "cell_type": "code",
   "execution_count": 39,
   "metadata": {},
   "outputs": [],
   "source": [
    "# Draw heatmaps for result of grid search.\n",
    "def draw_heatmap(errors, D_list, ylabel, name, title):\n",
    "    plt.figure(figsize = (2,4))\n",
    "    ax = sns.heatmap(errors, annot=False, fmt='.3f', yticklabels=D_list, xticklabels=[])\n",
    "    ax.collections[0].colorbar.set_label('error')\n",
    "    ax.set(ylabel= ylabel)\n",
    "    bottom, top = ax.get_ylim()\n",
    "    ax.set_ylim(bottom + 0.5, top - 0.5)\n",
    "    plt.title(title)\n",
    "    plt.savefig('{}.jpg'.format(name))\n",
    "    plt.show()"
   ]
  },
  {
   "cell_type": "code",
   "execution_count": 40,
   "metadata": {},
   "outputs": [],
   "source": [
    "d_list = [x for x in range(1,11)]\n",
    "n_list = [int(x) for x in np.logspace(0,2.7,num=25)]\n",
    "l_list = np.power(10., np.arange(-8, 4))"
   ]
  },
  {
   "cell_type": "code",
   "execution_count": 41,
   "metadata": {},
   "outputs": [
    {
     "data": {
      "image/png": "[encoded data removed]",
      "text/plain": [
       "<Figure size 144x288 with 2 Axes>"
      ]
     },
     "metadata": {
      "needs_background": "light"
     },
     "output_type": "display_data"
    }
   ],
   "source": [
    "error = 1 - gridcvs['DecisionTree'].cv_results_['mean_test_score']\n",
    "cross_val_score = np.reshape(error, (len(error), 1))\n",
    "draw_heatmap(cross_val_score, d_list, \"Max Depth D\", 'DecisionTree Heatmap ADULT Dataset',title='cross-validation error w.r.t D')"
   ]
  },
  {
   "cell_type": "code",
   "execution_count": 42,
   "metadata": {},
   "outputs": [
    {
     "data": {
      "image/png": "[encoded data removed]",
      "text/plain": [
       "<Figure size 144x288 with 2 Axes>"
      ]
     },
     "metadata": {
      "needs_background": "light"
     },
     "output_type": "display_data"
    }
   ],
   "source": [
    "error = 1 - gridcvs['KNN'].cv_results_['mean_test_score']\n",
    "cross_val_score = np.reshape(error, (len(error), 1))\n",
    "draw_heatmap(cross_val_score, n_list, \"Max Neighbors n\", 'KNN Heatmap ADULT Dataset',title='cross-validation error w.r.t n')"
   ]
  },
  {
   "cell_type": "code",
   "execution_count": 43,
   "metadata": {},
   "outputs": [
    {
     "data": {
      "image/png": "[encoded data removed]",
      "text/plain": [
       "<Figure size 144x288 with 2 Axes>"
      ]
     },
     "metadata": {
      "needs_background": "light"
     },
     "output_type": "display_data"
    }
   ],
   "source": [
    "error = 1 - gridcvs['Logistic'].cv_results_['mean_test_score']\n",
    "cross_val_score = np.reshape(error, (len(error), 1))\n",
    "draw_heatmap(cross_val_score, n_list, \"Max C\", 'Logistic Heatmap ADULT Dataset',title='cross-validation error w.r.t C')"
   ]
  },
  {
   "cell_type": "markdown",
   "metadata": {},
   "source": [
    "### Learning Curves"
   ]
  },
  {
   "cell_type": "code",
   "execution_count": 31,
   "metadata": {},
   "outputs": [],
   "source": [
    "from sklearn.model_selection import learning_curve"
   ]
  },
  {
   "cell_type": "code",
   "execution_count": 32,
   "metadata": {},
   "outputs": [],
   "source": [
    "def plot(train_sizes, train_scores, test_scores, name):\n",
    "    # Creating means and standard deviations of training set scores\n",
    "    train_mean = np.mean(train_scores, axis=1)\n",
    "    train_std = np.std(train_scores, axis=1)\n",
    "    \n",
    "    # Creating means and standard deviations of test set scores\n",
    "    test_mean = np.mean(test_scores, axis=1)\n",
    "    test_std = np.std(test_scores, axis=1)\n",
    "    \n",
    "    # Drawing lines\n",
    "    plt.subplots(1, figsize=(10,10))\n",
    "    plt.plot(train_sizes, train_mean, '--', color=\"#111111\",  label=\"Training score\")\n",
    "    plt.plot(train_sizes, test_mean, color=\"#111111\", label=\"Cross-validation score\")\n",
    "    \n",
    "    # Drawing bands\n",
    "    plt.fill_between(train_sizes, train_mean - train_std, train_mean + train_std, color=\"#DDDDDD\")\n",
    "    plt.fill_between(train_sizes, test_mean - test_std, test_mean + test_std, color=\"#DDDDDD\")\n",
    "    \n",
    "    # Creating plot\n",
    "    plt.title(\"Learning Curve for {}\". format(name))\n",
    "    plt.xlabel(\"Training Set Size\"), plt.ylabel(\"Accuracy Score\"), plt.legend(loc=\"best\")\n",
    "    plt.savefig('{}.jpg'.format(name))\n",
    "    plt.show()\n",
    "    "
   ]
  },
  {
   "cell_type": "code",
   "execution_count": 33,
   "metadata": {},
   "outputs": [
    {
     "data": {
      "image/png": "[encoded data removed]",
      "text/plain": [
       "<Figure size 720x720 with 1 Axes>"
      ]
     },
     "metadata": {
      "needs_background": "light"
     },
     "output_type": "display_data"
    },
    {
     "data": {
      "image/png": "[encoded data removed]",
      "text/plain": [
       "<Figure size 720x720 with 1 Axes>"
      ]
     },
     "metadata": {
      "needs_background": "light"
     },
     "output_type": "display_data"
    },
    {
     "data": {
      "image/png": "[encoded data removed]",
      "text/plain": [
       "<Figure size 720x720 with 1 Axes>"
      ]
     },
     "metadata": {
      "needs_background": "light"
     },
     "output_type": "display_data"
    }
   ],
   "source": [
    "for name in gridcvs:\n",
    "    train_size, train_score, test_score = learning_curve(gridcvs[name].best_estimator_,\n",
    "                                                        X, Y,\n",
    "                                                        cv = 5, n_jobs = 4,\n",
    "                                                        scoring = 'accuracy')\n",
    "    plot(train_size, train_score, test_score, name+' Adult Dataset')\n",
    "    \n",
    "    "
   ]
  },
  {
   "cell_type": "code",
   "execution_count": null,
   "metadata": {},
   "outputs": [],
   "source": []
  }
 ],
 "metadata": {
  "kernelspec": {
   "display_name": "Python 3",
   "language": "python",
   "name": "python3"
  },
  "language_info": {
   "codemirror_mode": {
    "name": "ipython",
    "version": 3
   },
   "file_extension": ".py",
   "mimetype": "text/x-python",
   "name": "python",
   "nbconvert_exporter": "python",
   "pygments_lexer": "ipython3",
   "version": "3.8.6"
  }
 },
 "nbformat": 4,
 "nbformat_minor": 4
}
