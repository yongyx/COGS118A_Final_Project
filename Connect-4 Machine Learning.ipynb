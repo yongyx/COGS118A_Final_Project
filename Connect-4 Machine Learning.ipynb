{
 "cells": [
  {
   "cell_type": "code",
   "execution_count": 1,
   "metadata": {},
   "outputs": [],
   "source": [
    "import numpy as np\n",
    "import matplotlib.pyplot as plt\n",
    "import pandas as pd\n",
    "from sklearn.pipeline import Pipeline\n",
    "from sklearn.linear_model import LogisticRegression\n",
    "from sklearn import tree\n",
    "from sklearn.neighbors import KNeighborsClassifier\n",
    "from sklearn.model_selection import StratifiedKFold\n",
    "import sklearn.preprocessing as pr\n",
    "from sklearn.preprocessing import LabelEncoder\n",
    "from sklearn.preprocessing import StandardScaler\n",
    "from sklearn.model_selection import train_test_split\n",
    "from sklearn.model_selection import GridSearchCV\n",
    "from sklearn.metrics import accuracy_score\n"
   ]
  },
  {
   "cell_type": "code",
   "execution_count": 2,
   "metadata": {},
   "outputs": [],
   "source": [
    "def create_gridcvs():\n",
    "    #Initializing Classifiers\n",
    "    clf1 = LogisticRegression(max_iter = 5000)\n",
    "    clf2 = KNeighborsClassifier()\n",
    "    clf3 = tree.DecisionTreeClassifier()\n",
    "\n",
    "    #Building the pipelines\n",
    "    pipe1 = Pipeline([('std', StandardScaler()),\n",
    "                      ('classifier', clf1)])\n",
    "\n",
    "    pipe2 = Pipeline([('std', StandardScaler()),\n",
    "                      ('classifier', clf2)])\n",
    "\n",
    "    pipe3 = Pipeline([('std', StandardScaler()),\n",
    "                      ('classifier', clf3)])\n",
    "\n",
    "    #Setting up the parameter grids\n",
    "    param_grid1 = [{'classifier__penalty': ['l1','l2'],\n",
    "                   'classifier__C': np.power(10., np.arange(-8, 4))}]\n",
    "\n",
    "    param_grid2 = [{'classifier__n_neighbors': [int(x) for x in np.logspace(0,2.7,num=25)]}]\n",
    "\n",
    "    param_grid3 = [{'classifier__max_depth': [x for x in range(1,26)]}]\n",
    "\n",
    "    # Setting up multiple GridSearchCV objects, 1 for each algorithm\n",
    "    gridcvs = {}\n",
    "\n",
    "    for pgrid, est, name in zip((param_grid1, param_grid2, param_grid3),\n",
    "                               (pipe1, pipe2, pipe3),\n",
    "                               ('Logistic', 'KNN', 'DecisionTree')):\n",
    "        gcv = GridSearchCV(estimator=est,\n",
    "                          param_grid = pgrid,\n",
    "                          scoring = 'accuracy',\n",
    "                          n_jobs = 4,\n",
    "                          cv = 5,\n",
    "                          verbose = 0,\n",
    "                          refit = True)\n",
    "        gridcvs[name] = gcv\n",
    "\n",
    "    return gridcvs"
   ]
  },
  {
   "cell_type": "markdown",
   "metadata": {},
   "source": [
    "## Dataset 4 (Connect-4)"
   ]
  },
  {
   "cell_type": "code",
   "execution_count": 3,
   "metadata": {},
   "outputs": [
    {
     "data": {
      "text/html": [
       "<div>\n",
       "<style scoped>\n",
       "    .dataframe tbody tr th:only-of-type {\n",
       "        vertical-align: middle;\n",
       "    }\n",
       "\n",
       "    .dataframe tbody tr th {\n",
       "        vertical-align: top;\n",
       "    }\n",
       "\n",
       "    .dataframe thead th {\n",
       "        text-align: right;\n",
       "    }\n",
       "</style>\n",
       "<table border=\"1\" class=\"dataframe\">\n",
       "  <thead>\n",
       "    <tr style=\"text-align: right;\">\n",
       "      <th></th>\n",
       "      <th>b</th>\n",
       "      <th>b.1</th>\n",
       "      <th>b.2</th>\n",
       "      <th>b.3</th>\n",
       "      <th>b.4</th>\n",
       "      <th>b.5</th>\n",
       "      <th>b.6</th>\n",
       "      <th>b.7</th>\n",
       "      <th>b.8</th>\n",
       "      <th>b.9</th>\n",
       "      <th>...</th>\n",
       "      <th>b.25</th>\n",
       "      <th>b.26</th>\n",
       "      <th>b.27</th>\n",
       "      <th>b.28</th>\n",
       "      <th>b.29</th>\n",
       "      <th>b.30</th>\n",
       "      <th>b.31</th>\n",
       "      <th>b.32</th>\n",
       "      <th>b.33</th>\n",
       "      <th>win</th>\n",
       "    </tr>\n",
       "  </thead>\n",
       "  <tbody>\n",
       "    <tr>\n",
       "      <th>0</th>\n",
       "      <td>b</td>\n",
       "      <td>b</td>\n",
       "      <td>b</td>\n",
       "      <td>b</td>\n",
       "      <td>b</td>\n",
       "      <td>b</td>\n",
       "      <td>b</td>\n",
       "      <td>b</td>\n",
       "      <td>b</td>\n",
       "      <td>b</td>\n",
       "      <td>...</td>\n",
       "      <td>b</td>\n",
       "      <td>b</td>\n",
       "      <td>b</td>\n",
       "      <td>b</td>\n",
       "      <td>b</td>\n",
       "      <td>b</td>\n",
       "      <td>b</td>\n",
       "      <td>b</td>\n",
       "      <td>b</td>\n",
       "      <td>win</td>\n",
       "    </tr>\n",
       "    <tr>\n",
       "      <th>1</th>\n",
       "      <td>b</td>\n",
       "      <td>b</td>\n",
       "      <td>b</td>\n",
       "      <td>b</td>\n",
       "      <td>b</td>\n",
       "      <td>b</td>\n",
       "      <td>o</td>\n",
       "      <td>b</td>\n",
       "      <td>b</td>\n",
       "      <td>b</td>\n",
       "      <td>...</td>\n",
       "      <td>b</td>\n",
       "      <td>b</td>\n",
       "      <td>b</td>\n",
       "      <td>b</td>\n",
       "      <td>b</td>\n",
       "      <td>b</td>\n",
       "      <td>b</td>\n",
       "      <td>b</td>\n",
       "      <td>b</td>\n",
       "      <td>win</td>\n",
       "    </tr>\n",
       "    <tr>\n",
       "      <th>2</th>\n",
       "      <td>b</td>\n",
       "      <td>b</td>\n",
       "      <td>b</td>\n",
       "      <td>b</td>\n",
       "      <td>b</td>\n",
       "      <td>b</td>\n",
       "      <td>b</td>\n",
       "      <td>b</td>\n",
       "      <td>b</td>\n",
       "      <td>b</td>\n",
       "      <td>...</td>\n",
       "      <td>b</td>\n",
       "      <td>b</td>\n",
       "      <td>b</td>\n",
       "      <td>b</td>\n",
       "      <td>b</td>\n",
       "      <td>b</td>\n",
       "      <td>b</td>\n",
       "      <td>b</td>\n",
       "      <td>b</td>\n",
       "      <td>win</td>\n",
       "    </tr>\n",
       "    <tr>\n",
       "      <th>3</th>\n",
       "      <td>o</td>\n",
       "      <td>b</td>\n",
       "      <td>b</td>\n",
       "      <td>b</td>\n",
       "      <td>b</td>\n",
       "      <td>b</td>\n",
       "      <td>b</td>\n",
       "      <td>b</td>\n",
       "      <td>b</td>\n",
       "      <td>b</td>\n",
       "      <td>...</td>\n",
       "      <td>b</td>\n",
       "      <td>b</td>\n",
       "      <td>b</td>\n",
       "      <td>b</td>\n",
       "      <td>b</td>\n",
       "      <td>b</td>\n",
       "      <td>b</td>\n",
       "      <td>b</td>\n",
       "      <td>b</td>\n",
       "      <td>win</td>\n",
       "    </tr>\n",
       "    <tr>\n",
       "      <th>4</th>\n",
       "      <td>b</td>\n",
       "      <td>b</td>\n",
       "      <td>b</td>\n",
       "      <td>b</td>\n",
       "      <td>b</td>\n",
       "      <td>b</td>\n",
       "      <td>b</td>\n",
       "      <td>b</td>\n",
       "      <td>b</td>\n",
       "      <td>b</td>\n",
       "      <td>...</td>\n",
       "      <td>b</td>\n",
       "      <td>b</td>\n",
       "      <td>b</td>\n",
       "      <td>o</td>\n",
       "      <td>b</td>\n",
       "      <td>b</td>\n",
       "      <td>b</td>\n",
       "      <td>b</td>\n",
       "      <td>b</td>\n",
       "      <td>win</td>\n",
       "    </tr>\n",
       "    <tr>\n",
       "      <th>...</th>\n",
       "      <td>...</td>\n",
       "      <td>...</td>\n",
       "      <td>...</td>\n",
       "      <td>...</td>\n",
       "      <td>...</td>\n",
       "      <td>...</td>\n",
       "      <td>...</td>\n",
       "      <td>...</td>\n",
       "      <td>...</td>\n",
       "      <td>...</td>\n",
       "      <td>...</td>\n",
       "      <td>...</td>\n",
       "      <td>...</td>\n",
       "      <td>...</td>\n",
       "      <td>...</td>\n",
       "      <td>...</td>\n",
       "      <td>...</td>\n",
       "      <td>...</td>\n",
       "      <td>...</td>\n",
       "      <td>...</td>\n",
       "      <td>...</td>\n",
       "    </tr>\n",
       "    <tr>\n",
       "      <th>67551</th>\n",
       "      <td>x</td>\n",
       "      <td>x</td>\n",
       "      <td>b</td>\n",
       "      <td>b</td>\n",
       "      <td>b</td>\n",
       "      <td>b</td>\n",
       "      <td>o</td>\n",
       "      <td>x</td>\n",
       "      <td>o</td>\n",
       "      <td>b</td>\n",
       "      <td>...</td>\n",
       "      <td>b</td>\n",
       "      <td>b</td>\n",
       "      <td>b</td>\n",
       "      <td>o</td>\n",
       "      <td>o</td>\n",
       "      <td>x</td>\n",
       "      <td>b</td>\n",
       "      <td>b</td>\n",
       "      <td>b</td>\n",
       "      <td>loss</td>\n",
       "    </tr>\n",
       "    <tr>\n",
       "      <th>67552</th>\n",
       "      <td>x</td>\n",
       "      <td>x</td>\n",
       "      <td>b</td>\n",
       "      <td>b</td>\n",
       "      <td>b</td>\n",
       "      <td>b</td>\n",
       "      <td>o</td>\n",
       "      <td>b</td>\n",
       "      <td>b</td>\n",
       "      <td>b</td>\n",
       "      <td>...</td>\n",
       "      <td>b</td>\n",
       "      <td>b</td>\n",
       "      <td>b</td>\n",
       "      <td>o</td>\n",
       "      <td>x</td>\n",
       "      <td>o</td>\n",
       "      <td>o</td>\n",
       "      <td>x</td>\n",
       "      <td>b</td>\n",
       "      <td>draw</td>\n",
       "    </tr>\n",
       "    <tr>\n",
       "      <th>67553</th>\n",
       "      <td>x</td>\n",
       "      <td>x</td>\n",
       "      <td>b</td>\n",
       "      <td>b</td>\n",
       "      <td>b</td>\n",
       "      <td>b</td>\n",
       "      <td>o</td>\n",
       "      <td>o</td>\n",
       "      <td>b</td>\n",
       "      <td>b</td>\n",
       "      <td>...</td>\n",
       "      <td>b</td>\n",
       "      <td>b</td>\n",
       "      <td>b</td>\n",
       "      <td>o</td>\n",
       "      <td>x</td>\n",
       "      <td>x</td>\n",
       "      <td>o</td>\n",
       "      <td>b</td>\n",
       "      <td>b</td>\n",
       "      <td>loss</td>\n",
       "    </tr>\n",
       "    <tr>\n",
       "      <th>67554</th>\n",
       "      <td>x</td>\n",
       "      <td>o</td>\n",
       "      <td>b</td>\n",
       "      <td>b</td>\n",
       "      <td>b</td>\n",
       "      <td>b</td>\n",
       "      <td>o</td>\n",
       "      <td>b</td>\n",
       "      <td>b</td>\n",
       "      <td>b</td>\n",
       "      <td>...</td>\n",
       "      <td>b</td>\n",
       "      <td>b</td>\n",
       "      <td>b</td>\n",
       "      <td>o</td>\n",
       "      <td>x</td>\n",
       "      <td>o</td>\n",
       "      <td>x</td>\n",
       "      <td>x</td>\n",
       "      <td>b</td>\n",
       "      <td>draw</td>\n",
       "    </tr>\n",
       "    <tr>\n",
       "      <th>67555</th>\n",
       "      <td>x</td>\n",
       "      <td>o</td>\n",
       "      <td>o</td>\n",
       "      <td>o</td>\n",
       "      <td>x</td>\n",
       "      <td>b</td>\n",
       "      <td>o</td>\n",
       "      <td>b</td>\n",
       "      <td>b</td>\n",
       "      <td>b</td>\n",
       "      <td>...</td>\n",
       "      <td>b</td>\n",
       "      <td>b</td>\n",
       "      <td>b</td>\n",
       "      <td>x</td>\n",
       "      <td>b</td>\n",
       "      <td>b</td>\n",
       "      <td>b</td>\n",
       "      <td>b</td>\n",
       "      <td>b</td>\n",
       "      <td>draw</td>\n",
       "    </tr>\n",
       "  </tbody>\n",
       "</table>\n",
       "<p>67556 rows × 43 columns</p>\n",
       "</div>"
      ],
      "text/plain": [
       "       b b.1 b.2 b.3 b.4 b.5 b.6 b.7 b.8 b.9  ... b.25 b.26 b.27 b.28 b.29  \\\n",
       "0      b   b   b   b   b   b   b   b   b   b  ...    b    b    b    b    b   \n",
       "1      b   b   b   b   b   b   o   b   b   b  ...    b    b    b    b    b   \n",
       "2      b   b   b   b   b   b   b   b   b   b  ...    b    b    b    b    b   \n",
       "3      o   b   b   b   b   b   b   b   b   b  ...    b    b    b    b    b   \n",
       "4      b   b   b   b   b   b   b   b   b   b  ...    b    b    b    o    b   \n",
       "...   ..  ..  ..  ..  ..  ..  ..  ..  ..  ..  ...  ...  ...  ...  ...  ...   \n",
       "67551  x   x   b   b   b   b   o   x   o   b  ...    b    b    b    o    o   \n",
       "67552  x   x   b   b   b   b   o   b   b   b  ...    b    b    b    o    x   \n",
       "67553  x   x   b   b   b   b   o   o   b   b  ...    b    b    b    o    x   \n",
       "67554  x   o   b   b   b   b   o   b   b   b  ...    b    b    b    o    x   \n",
       "67555  x   o   o   o   x   b   o   b   b   b  ...    b    b    b    x    b   \n",
       "\n",
       "      b.30 b.31 b.32 b.33   win  \n",
       "0        b    b    b    b   win  \n",
       "1        b    b    b    b   win  \n",
       "2        b    b    b    b   win  \n",
       "3        b    b    b    b   win  \n",
       "4        b    b    b    b   win  \n",
       "...    ...  ...  ...  ...   ...  \n",
       "67551    x    b    b    b  loss  \n",
       "67552    o    o    x    b  draw  \n",
       "67553    x    o    b    b  loss  \n",
       "67554    o    x    x    b  draw  \n",
       "67555    b    b    b    b  draw  \n",
       "\n",
       "[67556 rows x 43 columns]"
      ]
     },
     "execution_count": 3,
     "metadata": {},
     "output_type": "execute_result"
    }
   ],
   "source": [
    "connect4 = pd.read_csv('connect-4.data')\n",
    "connect4"
   ]
  },
  {
   "cell_type": "code",
   "execution_count": 4,
   "metadata": {},
   "outputs": [
    {
     "name": "stdout",
     "output_type": "stream",
     "text": [
      "(67556, 42)\n",
      "(67556,)\n"
     ]
    }
   ],
   "source": [
    "le = LabelEncoder()\n",
    "\n",
    "for col in connect4:\n",
    "    connect4[col] = le.fit_transform(connect4[col])\n",
    "\n",
    "connect4.head()\n",
    "\n",
    "X = connect4.drop(['win'], axis = 1)\n",
    "Y = connect4['win']\n",
    "\n",
    "print(X.shape)\n",
    "print(Y.shape)"
   ]
  },
  {
   "cell_type": "code",
   "execution_count": 5,
   "metadata": {},
   "outputs": [],
   "source": [
    "scores = {}\n",
    "scores['Logistic'] = []\n",
    "scores['KNN'] = []\n",
    "scores['DecisionTree'] = []"
   ]
  },
  {
   "cell_type": "markdown",
   "metadata": {},
   "source": [
    "## Trial 1"
   ]
  },
  {
   "cell_type": "code",
   "execution_count": 6,
   "metadata": {},
   "outputs": [],
   "source": [
    "gridcvs = create_gridcvs()"
   ]
  },
  {
   "cell_type": "code",
   "execution_count": 7,
   "metadata": {},
   "outputs": [
    {
     "name": "stdout",
     "output_type": "stream",
     "text": [
      "(5000, 42)\n",
      "(5000,)\n",
      "(62556, 42)\n",
      "(62556,)\n"
     ]
    }
   ],
   "source": [
    "X_train, X_test, y_train, y_test = train_test_split(X, Y, \n",
    "                                                    train_size = 5000,\n",
    "                                                   random_state = 1234)\n",
    "\n",
    "scaler = pr.MinMaxScaler()\n",
    "\n",
    "X_train = scaler.fit_transform(X_train)\n",
    "X_test = scaler.transform(X_test)\n",
    "y_train = y_train.to_numpy()\n",
    "y_test = y_test.to_numpy()\n",
    "\n",
    "print(X_train.shape)\n",
    "print(y_train.shape)\n",
    "print(X_test.shape)\n",
    "print(y_test.shape)\n"
   ]
  },
  {
   "cell_type": "code",
   "execution_count": 8,
   "metadata": {},
   "outputs": [
    {
     "name": "stdout",
     "output_type": "stream",
     "text": [
      "outer fold 1/5 | tuning DecisionTree | inner ACC 65.88% | outer ACC 66.90%\n",
      "outer fold 1/5 | tuning KNN      | inner ACC 66.10% | outer ACC 66.90%\n",
      "outer fold 1/5 | tuning Logistic | inner ACC 64.83% | outer ACC 64.90%\n",
      "outer fold 2/5 | tuning DecisionTree | inner ACC 66.55% | outer ACC 65.80%\n",
      "outer fold 2/5 | tuning KNN      | inner ACC 66.65% | outer ACC 65.60%\n",
      "outer fold 2/5 | tuning Logistic | inner ACC 64.90% | outer ACC 64.80%\n",
      "outer fold 3/5 | tuning DecisionTree | inner ACC 65.97% | outer ACC 66.20%\n",
      "outer fold 3/5 | tuning KNN      | inner ACC 66.25% | outer ACC 64.90%\n",
      "outer fold 3/5 | tuning Logistic | inner ACC 64.85% | outer ACC 64.80%\n",
      "outer fold 4/5 | tuning DecisionTree | inner ACC 66.33% | outer ACC 67.50%\n",
      "outer fold 4/5 | tuning KNN      | inner ACC 65.55% | outer ACC 65.00%\n",
      "outer fold 4/5 | tuning Logistic | inner ACC 64.85% | outer ACC 64.80%\n",
      "outer fold 5/5 | tuning DecisionTree | inner ACC 65.90% | outer ACC 64.10%\n",
      "outer fold 5/5 | tuning KNN      | inner ACC 66.75% | outer ACC 65.50%\n",
      "outer fold 5/5 | tuning Logistic | inner ACC 64.85% | outer ACC 64.80%\n",
      "CPU times: user 4.8 s, sys: 602 ms, total: 5.41 s\n",
      "Wall time: 1min 47s\n"
     ]
    }
   ],
   "source": [
    "%%time\n",
    "\n",
    "cv_scores = {name: [] for name, gs_est in gridcvs.items()}\n",
    "\n",
    "skfold = StratifiedKFold(n_splits=5, shuffle=True, random_state=1234)\n",
    "\n",
    "c = 1\n",
    "for outer_train_idx, outer_valid_idx in skfold.split(X_train,y_train):\n",
    "    for name, gs_est in sorted(gridcvs.items()):\n",
    "        print('outer fold %d/5 | tuning %-8s' % (c, name), end='')\n",
    "\n",
    "        # The inner loop for hyperparameter tuning\n",
    "        gs_est.fit(X_train[outer_train_idx], y_train[outer_train_idx])\n",
    "        y_pred = gs_est.predict(X_train[outer_valid_idx])\n",
    "        acc = accuracy_score(y_true=y_train[outer_valid_idx], y_pred=y_pred)\n",
    "        print(' | inner ACC %.2f%% | outer ACC %.2f%%' %\n",
    "              (gs_est.best_score_ * 100, acc * 100))\n",
    "        cv_scores[name].append(acc)\n",
    "\n",
    "    c += 1"
   ]
  },
  {
   "cell_type": "code",
   "execution_count": 9,
   "metadata": {},
   "outputs": [
    {
     "name": "stdout",
     "output_type": "stream",
     "text": [
      "Logistic | outer CV acc. 64.82% +\\- 0.040\n",
      "KNN      | outer CV acc. 65.58% +\\- 0.714\n",
      "DecisionTree | outer CV acc. 66.10% +\\- 1.158\n",
      "\n",
      "Logistic best parameters {'classifier__C': 1e-08, 'classifier__penalty': 'l2'}\n",
      "KNN best parameters {'classifier__n_neighbors': 17}\n",
      "DecisionTree best parameters {'classifier__max_depth': 2}\n"
     ]
    }
   ],
   "source": [
    "for name in cv_scores:\n",
    "    print('%-8s | outer CV acc. %.2f%% +\\- %.3f' % (\n",
    "          name, 100 * np.mean(cv_scores[name]), 100 * np.std(cv_scores[name])))\n",
    "print()\n",
    "for name in cv_scores:\n",
    "    print('{} best parameters'.format(name), gridcvs[name].best_params_)"
   ]
  },
  {
   "cell_type": "code",
   "execution_count": 10,
   "metadata": {},
   "outputs": [
    {
     "name": "stdout",
     "output_type": "stream",
     "text": [
      "Optimal Training Performance for Logistic: 64.84%\n",
      "Optimal Test Performance for Logistic: 65.91%\n",
      "\n",
      "Optimal Training Performance for KNN: 70.96%\n",
      "Optimal Test Performance for KNN: 67.50%\n",
      "\n",
      "Optimal Training Performance for DecisionTree: 65.54%\n",
      "Optimal Test Performance for DecisionTree: 65.91%\n",
      "\n"
     ]
    },
    {
     "data": {
      "text/plain": [
       "{'Logistic': array([0.6484    , 0.65908946]),\n",
       " 'KNN': array([0.7096    , 0.67501119]),\n",
       " 'DecisionTree': array([0.6554    , 0.65908946])}"
      ]
     },
     "execution_count": 10,
     "metadata": {},
     "output_type": "execute_result"
    }
   ],
   "source": [
    "## get the respective test and training set errors for all algorithms \n",
    "##trial 1\n",
    "trial1_err = {}\n",
    "for name in gridcvs:\n",
    "    clf = gridcvs[name].best_estimator_\n",
    "    clf.fit(X_train, y_train)\n",
    "    print('Optimal Training Performance for {}: {:.2f}%'.format(name, clf.score(X_train, y_train)*100))\n",
    "    print('Optimal Test Performance for {}: {:.2f}%'.format(name, clf.score(X_test, y_test)*100))\n",
    "    print()\n",
    "    trial1_err[name] = np.array((clf.score(X_train, y_train), clf.score(X_test, y_test)))\n",
    "    scores[name].append(clf.score(X_test, y_test))\n",
    "    \n",
    "trial1_err"
   ]
  },
  {
   "cell_type": "markdown",
   "metadata": {},
   "source": [
    "## Trial 2"
   ]
  },
  {
   "cell_type": "code",
   "execution_count": 11,
   "metadata": {
    "scrolled": true
   },
   "outputs": [
    {
     "name": "stdout",
     "output_type": "stream",
     "text": [
      "(5000, 42)\n",
      "(5000,)\n",
      "(62556, 42)\n",
      "(62556,)\n"
     ]
    }
   ],
   "source": [
    "X_train2, X_test2, y_train2, y_test2 = train_test_split(X, Y, \n",
    "                                                    train_size = 5000,\n",
    "                                                   random_state = 123)\n",
    "\n",
    "scaler = pr.MinMaxScaler()\n",
    "\n",
    "X_train2 = scaler.fit_transform(X_train2)\n",
    "X_test2 = scaler.transform(X_test2)\n",
    "y_train2 = y_train2.to_numpy()\n",
    "y_test2 = y_test2.to_numpy()\n",
    "\n",
    "print(X_train2.shape)\n",
    "print(y_train2.shape)\n",
    "print(X_test2.shape)\n",
    "print(y_test2.shape)"
   ]
  },
  {
   "cell_type": "code",
   "execution_count": 12,
   "metadata": {},
   "outputs": [
    {
     "name": "stdout",
     "output_type": "stream",
     "text": [
      "outer fold 1/5 | tuning DecisionTree | inner ACC 67.85% | outer ACC 70.60%\n",
      "outer fold 1/5 | tuning KNN      | inner ACC 67.10% | outer ACC 67.00%\n",
      "outer fold 1/5 | tuning Logistic | inner ACC 66.03% | outer ACC 66.10%\n",
      "outer fold 2/5 | tuning DecisionTree | inner ACC 66.55% | outer ACC 68.20%\n",
      "outer fold 2/5 | tuning KNN      | inner ACC 66.88% | outer ACC 66.80%\n",
      "outer fold 2/5 | tuning Logistic | inner ACC 66.18% | outer ACC 66.00%\n",
      "outer fold 3/5 | tuning DecisionTree | inner ACC 67.30% | outer ACC 67.30%\n",
      "outer fold 3/5 | tuning KNN      | inner ACC 66.95% | outer ACC 66.80%\n",
      "outer fold 3/5 | tuning Logistic | inner ACC 66.20% | outer ACC 65.40%\n",
      "outer fold 4/5 | tuning DecisionTree | inner ACC 67.30% | outer ACC 64.00%\n",
      "outer fold 4/5 | tuning KNN      | inner ACC 67.52% | outer ACC 66.90%\n",
      "outer fold 4/5 | tuning Logistic | inner ACC 66.07% | outer ACC 65.90%\n",
      "outer fold 5/5 | tuning DecisionTree | inner ACC 67.07% | outer ACC 66.90%\n",
      "outer fold 5/5 | tuning KNN      | inner ACC 67.10% | outer ACC 66.70%\n",
      "outer fold 5/5 | tuning Logistic | inner ACC 66.10% | outer ACC 66.00%\n",
      "CPU times: user 4.64 s, sys: 497 ms, total: 5.14 s\n",
      "Wall time: 1min 32s\n"
     ]
    }
   ],
   "source": [
    "%%time\n",
    "\n",
    "cv_scores = {name: [] for name, gs_est in gridcvs.items()}\n",
    "\n",
    "skfold = StratifiedKFold(n_splits=5, shuffle=True, random_state=1234)\n",
    "\n",
    "c = 1\n",
    "for outer_train_idx, outer_valid_idx in skfold.split(X_train2,y_train2):\n",
    "    for name, gs_est in sorted(gridcvs.items()):\n",
    "        print('outer fold %d/5 | tuning %-8s' % (c, name), end='')\n",
    "\n",
    "        # The inner loop for hyperparameter tuning\n",
    "        gs_est.fit(X_train2[outer_train_idx], y_train2[outer_train_idx])\n",
    "        y_pred = gs_est.predict(X_train2[outer_valid_idx])\n",
    "        acc = accuracy_score(y_true=y_train2[outer_valid_idx], y_pred=y_pred)\n",
    "        print(' | inner ACC %.2f%% | outer ACC %.2f%%' %\n",
    "              (gs_est.best_score_ * 100, acc * 100))\n",
    "        cv_scores[name].append(acc)\n",
    "\n",
    "    c += 1"
   ]
  },
  {
   "cell_type": "code",
   "execution_count": 13,
   "metadata": {},
   "outputs": [
    {
     "name": "stdout",
     "output_type": "stream",
     "text": [
      "Logistic | outer CV acc. 65.88% +\\- 0.248\n",
      "KNN      | outer CV acc. 66.84% +\\- 0.102\n",
      "DecisionTree | outer CV acc. 67.40% +\\- 2.131\n",
      "\n",
      "Logistic best parameters {'classifier__C': 0.001, 'classifier__penalty': 'l2'}\n",
      "KNN best parameters {'classifier__n_neighbors': 13}\n",
      "DecisionTree best parameters {'classifier__max_depth': 7}\n"
     ]
    }
   ],
   "source": [
    "for name in cv_scores:\n",
    "    print('%-8s | outer CV acc. %.2f%% +\\- %.3f' % (\n",
    "          name, 100 * np.mean(cv_scores[name]), 100 * np.std(cv_scores[name])))\n",
    "print()\n",
    "for name in cv_scores:\n",
    "    print('{} best parameters'.format(name), gridcvs[name].best_params_)"
   ]
  },
  {
   "cell_type": "code",
   "execution_count": 14,
   "metadata": {},
   "outputs": [
    {
     "name": "stdout",
     "output_type": "stream",
     "text": [
      "Optimal Training Performance for Logistic: 66.14%\n",
      "Optimal Test Performance for Logistic: 65.73%\n",
      "\n",
      "Optimal Training Performance for KNN: 71.90%\n",
      "Optimal Test Performance for KNN: 67.27%\n",
      "\n",
      "Optimal Training Performance for DecisionTree: 72.58%\n",
      "Optimal Test Performance for DecisionTree: 67.28%\n",
      "\n"
     ]
    },
    {
     "data": {
      "text/plain": [
       "{'Logistic': array([0.6614    , 0.65731505]),\n",
       " 'KNN': array([0.719     , 0.67270925]),\n",
       " 'DecisionTree': array([0.7258    , 0.67278918])}"
      ]
     },
     "execution_count": 14,
     "metadata": {},
     "output_type": "execute_result"
    }
   ],
   "source": [
    "trial2_err = {}\n",
    "for name in gridcvs:\n",
    "    clf = gridcvs[name].best_estimator_\n",
    "    clf.fit(X_train2, y_train2)\n",
    "    print('Optimal Training Performance for {}: {:.2f}%'.format(name, clf.score(X_train2, y_train2)*100))\n",
    "    print('Optimal Test Performance for {}: {:.2f}%'.format(name, clf.score(X_test2, y_test2)*100))\n",
    "    print()\n",
    "    trial2_err[name] = np.array((clf.score(X_train2, y_train2), clf.score(X_test2, y_test2)))\n",
    "    scores[name].append(clf.score(X_test2, y_test2))\n",
    "    \n",
    "trial2_err"
   ]
  },
  {
   "cell_type": "markdown",
   "metadata": {},
   "source": [
    "## Trial 3"
   ]
  },
  {
   "cell_type": "code",
   "execution_count": 15,
   "metadata": {},
   "outputs": [
    {
     "name": "stdout",
     "output_type": "stream",
     "text": [
      "(5000, 42)\n",
      "(5000,)\n",
      "(62556, 42)\n",
      "(62556,)\n"
     ]
    }
   ],
   "source": [
    "X_train3, X_test3, y_train3, y_test3 = train_test_split(X, Y, \n",
    "                                                    train_size = 5000/X.shape[0],\n",
    "                                                   random_state = 12)\n",
    "\n",
    "scaler = pr.MinMaxScaler()\n",
    "\n",
    "X_train3 = scaler.fit_transform(X_train3)\n",
    "X_test3 = scaler.transform(X_test3)\n",
    "y_train3 = y_train3.to_numpy()\n",
    "y_test3 = y_test3.to_numpy()\n",
    "\n",
    "print(X_train3.shape)\n",
    "print(y_train3.shape)\n",
    "print(X_test3.shape)\n",
    "print(y_test3.shape)"
   ]
  },
  {
   "cell_type": "code",
   "execution_count": 16,
   "metadata": {},
   "outputs": [
    {
     "name": "stdout",
     "output_type": "stream",
     "text": [
      "outer fold 1/5 | tuning DecisionTree | inner ACC 67.38% | outer ACC 66.00%\n",
      "outer fold 1/5 | tuning KNN      | inner ACC 66.60% | outer ACC 66.00%\n",
      "outer fold 1/5 | tuning Logistic | inner ACC 66.18% | outer ACC 66.20%\n",
      "outer fold 2/5 | tuning DecisionTree | inner ACC 68.65% | outer ACC 67.50%\n",
      "outer fold 2/5 | tuning KNN      | inner ACC 66.82% | outer ACC 66.40%\n",
      "outer fold 2/5 | tuning Logistic | inner ACC 66.10% | outer ACC 66.20%\n",
      "outer fold 3/5 | tuning DecisionTree | inner ACC 67.67% | outer ACC 65.70%\n",
      "outer fold 3/5 | tuning KNN      | inner ACC 67.55% | outer ACC 65.10%\n",
      "outer fold 3/5 | tuning Logistic | inner ACC 66.38% | outer ACC 66.60%\n",
      "outer fold 4/5 | tuning DecisionTree | inner ACC 67.35% | outer ACC 70.00%\n",
      "outer fold 4/5 | tuning KNN      | inner ACC 66.42% | outer ACC 66.70%\n",
      "outer fold 4/5 | tuning Logistic | inner ACC 66.05% | outer ACC 66.00%\n",
      "outer fold 5/5 | tuning DecisionTree | inner ACC 67.32% | outer ACC 68.50%\n",
      "outer fold 5/5 | tuning KNN      | inner ACC 66.80% | outer ACC 66.80%\n",
      "outer fold 5/5 | tuning Logistic | inner ACC 66.38% | outer ACC 66.50%\n",
      "CPU times: user 4.61 s, sys: 396 ms, total: 5 s\n",
      "Wall time: 1min 11s\n"
     ]
    }
   ],
   "source": [
    "%%time\n",
    "\n",
    "cv_scores = {name: [] for name, gs_est in gridcvs.items()}\n",
    "\n",
    "skfold = StratifiedKFold(n_splits=5, shuffle=True, random_state=1234)\n",
    "\n",
    "c = 1\n",
    "for outer_train_idx, outer_valid_idx in skfold.split(X_train3,y_train3):\n",
    "    for name, gs_est in sorted(gridcvs.items()):\n",
    "        print('outer fold %d/5 | tuning %-8s' % (c, name), end='')\n",
    "\n",
    "        # The inner loop for hyperparameter tuning\n",
    "        gs_est.fit(X_train3[outer_train_idx], y_train3[outer_train_idx])\n",
    "        y_pred = gs_est.predict(X_train3[outer_valid_idx])\n",
    "        acc = accuracy_score(y_true=y_train3[outer_valid_idx], y_pred=y_pred)\n",
    "        print(' | inner ACC %.2f%% | outer ACC %.2f%%' %\n",
    "              (gs_est.best_score_ * 100, acc * 100))\n",
    "        cv_scores[name].append(acc)\n",
    "\n",
    "    c += 1"
   ]
  },
  {
   "cell_type": "code",
   "execution_count": 17,
   "metadata": {},
   "outputs": [
    {
     "name": "stdout",
     "output_type": "stream",
     "text": [
      "Logistic | outer CV acc. 66.30% +\\- 0.219\n",
      "KNN      | outer CV acc. 66.20% +\\- 0.616\n",
      "DecisionTree | outer CV acc. 67.54% +\\- 1.596\n",
      "\n",
      "Logistic best parameters {'classifier__C': 0.1, 'classifier__penalty': 'l2'}\n",
      "KNN best parameters {'classifier__n_neighbors': 22}\n",
      "DecisionTree best parameters {'classifier__max_depth': 5}\n"
     ]
    }
   ],
   "source": [
    "for name in cv_scores:\n",
    "    print('%-8s | outer CV acc. %.2f%% +\\- %.3f' % (\n",
    "          name, 100 * np.mean(cv_scores[name]), 100 * np.std(cv_scores[name])))\n",
    "print()\n",
    "for name in cv_scores:\n",
    "    print('{} best parameters'.format(name), gridcvs[name].best_params_)"
   ]
  },
  {
   "cell_type": "code",
   "execution_count": 18,
   "metadata": {},
   "outputs": [
    {
     "name": "stdout",
     "output_type": "stream",
     "text": [
      "Optimal Training Performance for Logistic: 66.52%\n",
      "Optimal Test Performance for Logistic: 65.99%\n",
      "\n",
      "Optimal Training Performance for KNN: 69.06%\n",
      "Optimal Test Performance for KNN: 67.36%\n",
      "\n",
      "Optimal Training Performance for DecisionTree: 68.72%\n",
      "Optimal Test Performance for DecisionTree: 66.96%\n",
      "\n"
     ]
    },
    {
     "data": {
      "text/plain": [
       "{'Logistic': array([0.6652    , 0.65987275]),\n",
       " 'KNN': array([0.6906    , 0.67362044]),\n",
       " 'DecisionTree': array([0.6872    , 0.66959205])}"
      ]
     },
     "execution_count": 18,
     "metadata": {},
     "output_type": "execute_result"
    }
   ],
   "source": [
    "trial3_err = {}\n",
    "for name in gridcvs:\n",
    "    clf = gridcvs[name].best_estimator_\n",
    "    clf.fit(X_train3, y_train3)\n",
    "    print('Optimal Training Performance for {}: {:.2f}%'.format(name, clf.score(X_train3, y_train3)*100))\n",
    "    print('Optimal Test Performance for {}: {:.2f}%'.format(name, clf.score(X_test3, y_test3)*100))\n",
    "    print()\n",
    "    trial3_err[name] = np.array((clf.score(X_train3, y_train3), clf.score(X_test3, y_test3)))\n",
    "    scores[name].append(clf.score(X_test3, y_test3))\n",
    "    \n",
    "trial3_err\n",
    "          "
   ]
  },
  {
   "cell_type": "markdown",
   "metadata": {},
   "source": [
    "## Results"
   ]
  },
  {
   "cell_type": "code",
   "execution_count": 19,
   "metadata": {},
   "outputs": [
    {
     "name": "stdout",
     "output_type": "stream",
     "text": [
      "{'Logistic': array([0.6484    , 0.65908946]), 'KNN': array([0.7096    , 0.67501119]), 'DecisionTree': array([0.6554    , 0.65908946])}\n",
      "{'Logistic': array([0.6614    , 0.65731505]), 'KNN': array([0.719     , 0.67270925]), 'DecisionTree': array([0.7258    , 0.67278918])}\n",
      "{'Logistic': array([0.6652    , 0.65987275]), 'KNN': array([0.6906    , 0.67362044]), 'DecisionTree': array([0.6872    , 0.66959205])}\n"
     ]
    }
   ],
   "source": [
    "print(trial1_err)\n",
    "print(trial2_err)\n",
    "print(trial3_err)\n"
   ]
  },
  {
   "cell_type": "code",
   "execution_count": 20,
   "metadata": {},
   "outputs": [
    {
     "name": "stdout",
     "output_type": "stream",
     "text": [
      "Mean training set performance for Letters dataset for Logistic algorithm: 65.83333%\n",
      "Mean test set performance for Letters dataset for Logistic algorithm: 65.87591%\n",
      "\n",
      "Mean training set performance for Letters dataset for KNN algorithm: 70.64000%\n",
      "Mean test set performance for Letters dataset for KNN algorithm: 67.37803%\n",
      "\n",
      "Mean training set performance for Letters dataset for DecisionTree algorithm: 68.94667%\n",
      "Mean test set performance for Letters dataset for DecisionTree algorithm: 66.71569%\n",
      "\n"
     ]
    }
   ],
   "source": [
    "avg_trial_err = {}\n",
    "for name in trial1_err:\n",
    "    avg_trial_err[name] = np.array((trial1_err[name] + \n",
    "                          trial2_err[name] +\n",
    "                          trial3_err[name])/3.)\n",
    "\n",
    "for name in avg_trial_err:\n",
    "    print(\"Mean training set performance for Letters dataset for {} algorithm: {:.5f}%\".format(name, avg_trial_err[name][0]*100))\n",
    "    print(\"Mean test set performance for Letters dataset for {} algorithm: {:.5f}%\".format(name, avg_trial_err[name][1]*100))\n",
    "    print()"
   ]
  },
  {
   "cell_type": "code",
   "execution_count": 21,
   "metadata": {},
   "outputs": [
    {
     "data": {
      "text/html": [
       "<div>\n",
       "<style scoped>\n",
       "    .dataframe tbody tr th:only-of-type {\n",
       "        vertical-align: middle;\n",
       "    }\n",
       "\n",
       "    .dataframe tbody tr th {\n",
       "        vertical-align: top;\n",
       "    }\n",
       "\n",
       "    .dataframe thead th {\n",
       "        text-align: right;\n",
       "    }\n",
       "</style>\n",
       "<table border=\"1\" class=\"dataframe\">\n",
       "  <thead>\n",
       "    <tr style=\"text-align: right;\">\n",
       "      <th></th>\n",
       "      <th>Set</th>\n",
       "      <th>Logistic</th>\n",
       "      <th>KNN</th>\n",
       "      <th>DecisionTree</th>\n",
       "    </tr>\n",
       "  </thead>\n",
       "  <tbody>\n",
       "    <tr>\n",
       "      <th>0</th>\n",
       "      <td>Train</td>\n",
       "      <td>0.658333</td>\n",
       "      <td>0.70640</td>\n",
       "      <td>0.689467</td>\n",
       "    </tr>\n",
       "    <tr>\n",
       "      <th>1</th>\n",
       "      <td>Test</td>\n",
       "      <td>0.658759</td>\n",
       "      <td>0.67378</td>\n",
       "      <td>0.667157</td>\n",
       "    </tr>\n",
       "  </tbody>\n",
       "</table>\n",
       "</div>"
      ],
      "text/plain": [
       "     Set  Logistic      KNN  DecisionTree\n",
       "0  Train  0.658333  0.70640      0.689467\n",
       "1   Test  0.658759  0.67378      0.667157"
      ]
     },
     "execution_count": 21,
     "metadata": {},
     "output_type": "execute_result"
    }
   ],
   "source": [
    "avg_trial = pd.DataFrame.from_dict(avg_trial_err)\n",
    "avg_trial['Set'] = ['Train', 'Test']\n",
    "avg_trial = avg_trial.reindex(columns = ['Set', 'Logistic', 'KNN', 'DecisionTree'])\n",
    "avg_trial"
   ]
  },
  {
   "cell_type": "code",
   "execution_count": 22,
   "metadata": {},
   "outputs": [],
   "source": [
    "avg_trial.to_csv(r'Connect4_Machine_Learning.csv', index = False, header = True)"
   ]
  },
  {
   "cell_type": "code",
   "execution_count": 23,
   "metadata": {},
   "outputs": [
    {
     "data": {
      "text/html": [
       "<div>\n",
       "<style scoped>\n",
       "    .dataframe tbody tr th:only-of-type {\n",
       "        vertical-align: middle;\n",
       "    }\n",
       "\n",
       "    .dataframe tbody tr th {\n",
       "        vertical-align: top;\n",
       "    }\n",
       "\n",
       "    .dataframe thead th {\n",
       "        text-align: right;\n",
       "    }\n",
       "</style>\n",
       "<table border=\"1\" class=\"dataframe\">\n",
       "  <thead>\n",
       "    <tr style=\"text-align: right;\">\n",
       "      <th></th>\n",
       "      <th>Logistic</th>\n",
       "      <th>KNN</th>\n",
       "      <th>DecisionTree</th>\n",
       "    </tr>\n",
       "  </thead>\n",
       "  <tbody>\n",
       "    <tr>\n",
       "      <th>0</th>\n",
       "      <td>0.659089</td>\n",
       "      <td>0.675011</td>\n",
       "      <td>0.659089</td>\n",
       "    </tr>\n",
       "    <tr>\n",
       "      <th>1</th>\n",
       "      <td>0.657315</td>\n",
       "      <td>0.672709</td>\n",
       "      <td>0.672789</td>\n",
       "    </tr>\n",
       "    <tr>\n",
       "      <th>2</th>\n",
       "      <td>0.659873</td>\n",
       "      <td>0.673620</td>\n",
       "      <td>0.669592</td>\n",
       "    </tr>\n",
       "  </tbody>\n",
       "</table>\n",
       "</div>"
      ],
      "text/plain": [
       "   Logistic       KNN  DecisionTree\n",
       "0  0.659089  0.675011      0.659089\n",
       "1  0.657315  0.672709      0.672789\n",
       "2  0.659873  0.673620      0.669592"
      ]
     },
     "execution_count": 23,
     "metadata": {},
     "output_type": "execute_result"
    }
   ],
   "source": [
    "connect4_scores = pd.DataFrame.from_dict(scores)\n",
    "connect4_scores = connect4_scores.reindex(columns = ['Logistic','KNN','DecisionTree'])\n",
    "connect4_scores"
   ]
  },
  {
   "cell_type": "code",
   "execution_count": 24,
   "metadata": {},
   "outputs": [],
   "source": [
    "connect4_scores.to_csv(r'connect4_scores.csv', index = False, header = True)"
   ]
  },
  {
   "cell_type": "markdown",
   "metadata": {},
   "source": [
    "## Visualization"
   ]
  },
  {
   "cell_type": "markdown",
   "metadata": {},
   "source": [
    "### Heatmaps"
   ]
  },
  {
   "cell_type": "code",
   "execution_count": 25,
   "metadata": {},
   "outputs": [],
   "source": [
    "import seaborn as sns"
   ]
  },
  {
   "cell_type": "code",
   "execution_count": 34,
   "metadata": {},
   "outputs": [],
   "source": [
    "# Draw heatmaps for result of grid search.\n",
    "def draw_heatmap(errors, D_list, ylabel, name, title):\n",
    "    plt.figure(figsize = (2,4))\n",
    "    ax = sns.heatmap(errors, annot=False, fmt='.3f', yticklabels=D_list, xticklabels=[])\n",
    "    ax.collections[0].colorbar.set_label('error')\n",
    "    ax.set(ylabel= ylabel)\n",
    "    bottom, top = ax.get_ylim()\n",
    "    ax.set_ylim(bottom + 0.5, top - 0.5)\n",
    "    plt.title(title)\n",
    "    plt.savefig('{}.jpg'.format(name))\n",
    "    plt.show()"
   ]
  },
  {
   "cell_type": "code",
   "execution_count": 35,
   "metadata": {},
   "outputs": [],
   "source": [
    "d_list = [x for x in range(26)]\n",
    "n_list = [int(x) for x in np.logspace(0,2.7,num=25)]\n",
    "l_list = np.power(10., np.arange(-8, 4))"
   ]
  },
  {
   "cell_type": "code",
   "execution_count": 36,
   "metadata": {},
   "outputs": [
    {
     "data": {
      "image/png": "[encoded data removed]",
      "text/plain": [
       "<Figure size 144x288 with 2 Axes>"
      ]
     },
     "metadata": {
      "needs_background": "light"
     },
     "output_type": "display_data"
    }
   ],
   "source": [
    "error = 1 - gridcvs['DecisionTree'].cv_results_['mean_test_score']\n",
    "cross_val_score = np.reshape(error, (len(error), 1))\n",
    "draw_heatmap(cross_val_score, d_list, \"Max Depth D\", 'DecisionTree Heatmap CONNECT4 Dataset', title='cross-validation error w.r.t D')\n",
    "\n"
   ]
  },
  {
   "cell_type": "code",
   "execution_count": 29,
   "metadata": {},
   "outputs": [
    {
     "data": {
      "image/png": "[encoded data removed]",
      "text/plain": [
       "<Figure size 144x288 with 2 Axes>"
      ]
     },
     "metadata": {
      "needs_background": "light"
     },
     "output_type": "display_data"
    }
   ],
   "source": [
    "error = 1 - gridcvs['KNN'].cv_results_['mean_test_score']\n",
    "cross_val_score = np.reshape(error, (len(error), 1))\n",
    "draw_heatmap(cross_val_score, n_list, \"Max Neighbors n\", 'KNN Heatmap CONNECT4 Dataset', title='cross-validation error w.r.t n')"
   ]
  },
  {
   "cell_type": "code",
   "execution_count": 30,
   "metadata": {},
   "outputs": [
    {
     "data": {
      "image/png": "[encoded data removed]",
      "text/plain": [
       "<Figure size 144x288 with 2 Axes>"
      ]
     },
     "metadata": {
      "needs_background": "light"
     },
     "output_type": "display_data"
    }
   ],
   "source": [
    "error = 1 - gridcvs['Logistic'].cv_results_['mean_test_score']\n",
    "cross_val_score = np.reshape(error, (len(error), 1))\n",
    "draw_heatmap(cross_val_score, n_list, \"Max C\", 'Logistic Heatmap CONNECT4 Dataset', title='cross-validation error w.r.t C')"
   ]
  },
  {
   "cell_type": "markdown",
   "metadata": {},
   "source": [
    "### Learning Curves"
   ]
  },
  {
   "cell_type": "code",
   "execution_count": 31,
   "metadata": {},
   "outputs": [],
   "source": [
    "from sklearn.model_selection import learning_curve"
   ]
  },
  {
   "cell_type": "code",
   "execution_count": 32,
   "metadata": {},
   "outputs": [],
   "source": [
    "def plot(train_sizes, train_scores, test_scores, name):\n",
    "    # Creating means and standard deviations of training set scores\n",
    "    train_mean = np.mean(train_scores, axis=1)\n",
    "    train_std = np.std(train_scores, axis=1)\n",
    "    \n",
    "    # Creating means and standard deviations of test set scores\n",
    "    test_mean = np.mean(test_scores, axis=1)\n",
    "    test_std = np.std(test_scores, axis=1)\n",
    "    \n",
    "    # Drawing lines\n",
    "    plt.subplots(1, figsize=(10,10))\n",
    "    plt.plot(train_sizes, train_mean, '--', color=\"#111111\",  label=\"Training score\")\n",
    "    plt.plot(train_sizes, test_mean, color=\"#111111\", label=\"Cross-validation score\")\n",
    "    \n",
    "    # Drawing bands\n",
    "    plt.fill_between(train_sizes, train_mean - train_std, train_mean + train_std, color=\"#DDDDDD\")\n",
    "    plt.fill_between(train_sizes, test_mean - test_std, test_mean + test_std, color=\"#DDDDDD\")\n",
    "    \n",
    "    # Creating plot\n",
    "    plt.title(\"Learning Curve for {}\". format(name))\n",
    "    plt.xlabel(\"Training Set Size\"), plt.ylabel(\"Accuracy Score\"), plt.legend(loc=\"best\")\n",
    "    plt.savefig('{}.jpg'.format(name))\n",
    "    plt.show()"
   ]
  },
  {
   "cell_type": "code",
   "execution_count": 33,
   "metadata": {},
   "outputs": [
    {
     "data": {
      "image/png": "[encoded data removed]",
      "text/plain": [
       "<Figure size 720x720 with 1 Axes>"
      ]
     },
     "metadata": {
      "needs_background": "light"
     },
     "output_type": "display_data"
    },
    {
     "data": {
      "image/png": "[encoded data removed]",
      "text/plain": [
       "<Figure size 720x720 with 1 Axes>"
      ]
     },
     "metadata": {
      "needs_background": "light"
     },
     "output_type": "display_data"
    },
    {
     "data": {
      "image/png": "[encoded data removed]",
      "text/plain": [
       "<Figure size 720x720 with 1 Axes>"
      ]
     },
     "metadata": {
      "needs_background": "light"
     },
     "output_type": "display_data"
    }
   ],
   "source": [
    "for name in gridcvs:\n",
    "    train_size, train_score, test_score = learning_curve(gridcvs[name].best_estimator_,\n",
    "                                                        X, Y,\n",
    "                                                        cv = 5, n_jobs = 4,\n",
    "                                                        scoring = 'accuracy')\n",
    "    plot(train_size, train_score, test_score, name+' Connect4 Dataset')"
   ]
  },
  {
   "cell_type": "code",
   "execution_count": null,
   "metadata": {},
   "outputs": [],
   "source": []
  }
 ],
 "metadata": {
  "kernelspec": {
   "display_name": "Python 3",
   "language": "python",
   "name": "python3"
  },
  "language_info": {
   "codemirror_mode": {
    "name": "ipython",
    "version": 3
   },
   "file_extension": ".py",
   "mimetype": "text/x-python",
   "name": "python",
   "nbconvert_exporter": "python",
   "pygments_lexer": "ipython3",
   "version": "3.8.6"
  }
 },
 "nbformat": 4,
 "nbformat_minor": 4
}
