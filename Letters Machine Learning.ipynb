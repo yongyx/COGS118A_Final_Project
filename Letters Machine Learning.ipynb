{
 "cells": [
  {
   "cell_type": "code",
   "execution_count": 1,
   "metadata": {},
   "outputs": [],
   "source": [
    "import numpy as np\n",
    "import matplotlib.pyplot as plt\n",
    "import pandas as pd\n",
    "from sklearn.pipeline import Pipeline\n",
    "from sklearn.linear_model import LogisticRegression\n",
    "from sklearn import tree\n",
    "from sklearn.neighbors import KNeighborsClassifier\n",
    "from sklearn.model_selection import StratifiedKFold\n",
    "import sklearn.preprocessing as pr\n",
    "from sklearn.preprocessing import LabelEncoder\n",
    "from sklearn.preprocessing import StandardScaler\n",
    "from sklearn.model_selection import train_test_split\n",
    "from sklearn.model_selection import GridSearchCV\n",
    "from sklearn.metrics import accuracy_score\n"
   ]
  },
  {
   "cell_type": "code",
   "execution_count": 2,
   "metadata": {},
   "outputs": [],
   "source": [
    "def create_gridcvs():\n",
    "    #Initializing Classifiers\n",
    "    clf1 = LogisticRegression(max_iter = 5000)\n",
    "    clf2 = KNeighborsClassifier()\n",
    "    clf3 = tree.DecisionTreeClassifier()\n",
    "\n",
    "    #Building the pipelines\n",
    "    pipe1 = Pipeline([('std', StandardScaler()),\n",
    "                      ('classifier', clf1)])\n",
    "\n",
    "    pipe2 = Pipeline([('std', StandardScaler()),\n",
    "                      ('classifier', clf2)])\n",
    "\n",
    "    pipe3 = Pipeline([('std', StandardScaler()),\n",
    "                      ('classifier', clf3)])\n",
    "\n",
    "    #Setting up the parameter grids\n",
    "    param_grid1 = [{'classifier__penalty': ['l1','l2'],\n",
    "                   'classifier__C': np.power(10., np.arange(-8, 4))}]\n",
    "\n",
    "    param_grid2 = [{'classifier__n_neighbors': [int(x) for x in np.logspace(0,2.7,num=25)]}]\n",
    "\n",
    "    param_grid3 = [{'classifier__max_depth': [x for x in range(1,26)]}]\n",
    "\n",
    "    # Setting up multiple GridSearchCV objects, 1 for each algorithm\n",
    "    gridcvs = {}\n",
    "\n",
    "    for pgrid, est, name in zip((param_grid1, param_grid2, param_grid3),\n",
    "                               (pipe1, pipe2, pipe3),\n",
    "                               ('Logistic', 'KNN', 'DecisionTree')):\n",
    "        gcv = GridSearchCV(estimator=est,\n",
    "                          param_grid = pgrid,\n",
    "                          scoring = 'accuracy',\n",
    "                          n_jobs = 4,\n",
    "                          cv = 5,\n",
    "                          verbose = 0,\n",
    "                          refit = True)\n",
    "        gridcvs[name] = gcv\n",
    "\n",
    "    return gridcvs"
   ]
  },
  {
   "cell_type": "markdown",
   "metadata": {},
   "source": [
    "## Dataset 3 (Letters)"
   ]
  },
  {
   "cell_type": "code",
   "execution_count": 3,
   "metadata": {},
   "outputs": [
    {
     "data": {
      "text/html": [
       "<div>\n",
       "<style scoped>\n",
       "    .dataframe tbody tr th:only-of-type {\n",
       "        vertical-align: middle;\n",
       "    }\n",
       "\n",
       "    .dataframe tbody tr th {\n",
       "        vertical-align: top;\n",
       "    }\n",
       "\n",
       "    .dataframe thead th {\n",
       "        text-align: right;\n",
       "    }\n",
       "</style>\n",
       "<table border=\"1\" class=\"dataframe\">\n",
       "  <thead>\n",
       "    <tr style=\"text-align: right;\">\n",
       "      <th></th>\n",
       "      <th>T</th>\n",
       "      <th>2</th>\n",
       "      <th>8</th>\n",
       "      <th>3</th>\n",
       "      <th>5</th>\n",
       "      <th>1</th>\n",
       "      <th>8.1</th>\n",
       "      <th>13</th>\n",
       "      <th>0</th>\n",
       "      <th>6</th>\n",
       "      <th>6.1</th>\n",
       "      <th>10</th>\n",
       "      <th>8.2</th>\n",
       "      <th>0.1</th>\n",
       "      <th>8.3</th>\n",
       "      <th>0.2</th>\n",
       "      <th>8.4</th>\n",
       "    </tr>\n",
       "  </thead>\n",
       "  <tbody>\n",
       "    <tr>\n",
       "      <th>0</th>\n",
       "      <td>I</td>\n",
       "      <td>5</td>\n",
       "      <td>12</td>\n",
       "      <td>3</td>\n",
       "      <td>7</td>\n",
       "      <td>2</td>\n",
       "      <td>10</td>\n",
       "      <td>5</td>\n",
       "      <td>5</td>\n",
       "      <td>4</td>\n",
       "      <td>13</td>\n",
       "      <td>3</td>\n",
       "      <td>9</td>\n",
       "      <td>2</td>\n",
       "      <td>8</td>\n",
       "      <td>4</td>\n",
       "      <td>10</td>\n",
       "    </tr>\n",
       "    <tr>\n",
       "      <th>1</th>\n",
       "      <td>D</td>\n",
       "      <td>4</td>\n",
       "      <td>11</td>\n",
       "      <td>6</td>\n",
       "      <td>8</td>\n",
       "      <td>6</td>\n",
       "      <td>10</td>\n",
       "      <td>6</td>\n",
       "      <td>2</td>\n",
       "      <td>6</td>\n",
       "      <td>10</td>\n",
       "      <td>3</td>\n",
       "      <td>7</td>\n",
       "      <td>3</td>\n",
       "      <td>7</td>\n",
       "      <td>3</td>\n",
       "      <td>9</td>\n",
       "    </tr>\n",
       "    <tr>\n",
       "      <th>2</th>\n",
       "      <td>N</td>\n",
       "      <td>7</td>\n",
       "      <td>11</td>\n",
       "      <td>6</td>\n",
       "      <td>6</td>\n",
       "      <td>3</td>\n",
       "      <td>5</td>\n",
       "      <td>9</td>\n",
       "      <td>4</td>\n",
       "      <td>6</td>\n",
       "      <td>4</td>\n",
       "      <td>4</td>\n",
       "      <td>10</td>\n",
       "      <td>6</td>\n",
       "      <td>10</td>\n",
       "      <td>2</td>\n",
       "      <td>8</td>\n",
       "    </tr>\n",
       "    <tr>\n",
       "      <th>3</th>\n",
       "      <td>G</td>\n",
       "      <td>2</td>\n",
       "      <td>1</td>\n",
       "      <td>3</td>\n",
       "      <td>1</td>\n",
       "      <td>1</td>\n",
       "      <td>8</td>\n",
       "      <td>6</td>\n",
       "      <td>6</td>\n",
       "      <td>6</td>\n",
       "      <td>6</td>\n",
       "      <td>5</td>\n",
       "      <td>9</td>\n",
       "      <td>1</td>\n",
       "      <td>7</td>\n",
       "      <td>5</td>\n",
       "      <td>10</td>\n",
       "    </tr>\n",
       "    <tr>\n",
       "      <th>4</th>\n",
       "      <td>S</td>\n",
       "      <td>4</td>\n",
       "      <td>11</td>\n",
       "      <td>5</td>\n",
       "      <td>8</td>\n",
       "      <td>3</td>\n",
       "      <td>8</td>\n",
       "      <td>8</td>\n",
       "      <td>6</td>\n",
       "      <td>9</td>\n",
       "      <td>5</td>\n",
       "      <td>6</td>\n",
       "      <td>6</td>\n",
       "      <td>0</td>\n",
       "      <td>8</td>\n",
       "      <td>9</td>\n",
       "      <td>7</td>\n",
       "    </tr>\n",
       "    <tr>\n",
       "      <th>...</th>\n",
       "      <td>...</td>\n",
       "      <td>...</td>\n",
       "      <td>...</td>\n",
       "      <td>...</td>\n",
       "      <td>...</td>\n",
       "      <td>...</td>\n",
       "      <td>...</td>\n",
       "      <td>...</td>\n",
       "      <td>...</td>\n",
       "      <td>...</td>\n",
       "      <td>...</td>\n",
       "      <td>...</td>\n",
       "      <td>...</td>\n",
       "      <td>...</td>\n",
       "      <td>...</td>\n",
       "      <td>...</td>\n",
       "      <td>...</td>\n",
       "    </tr>\n",
       "    <tr>\n",
       "      <th>19994</th>\n",
       "      <td>D</td>\n",
       "      <td>2</td>\n",
       "      <td>2</td>\n",
       "      <td>3</td>\n",
       "      <td>3</td>\n",
       "      <td>2</td>\n",
       "      <td>7</td>\n",
       "      <td>7</td>\n",
       "      <td>7</td>\n",
       "      <td>6</td>\n",
       "      <td>6</td>\n",
       "      <td>6</td>\n",
       "      <td>4</td>\n",
       "      <td>2</td>\n",
       "      <td>8</td>\n",
       "      <td>3</td>\n",
       "      <td>7</td>\n",
       "    </tr>\n",
       "    <tr>\n",
       "      <th>19995</th>\n",
       "      <td>C</td>\n",
       "      <td>7</td>\n",
       "      <td>10</td>\n",
       "      <td>8</td>\n",
       "      <td>8</td>\n",
       "      <td>4</td>\n",
       "      <td>4</td>\n",
       "      <td>8</td>\n",
       "      <td>6</td>\n",
       "      <td>9</td>\n",
       "      <td>12</td>\n",
       "      <td>9</td>\n",
       "      <td>13</td>\n",
       "      <td>2</td>\n",
       "      <td>9</td>\n",
       "      <td>3</td>\n",
       "      <td>7</td>\n",
       "    </tr>\n",
       "    <tr>\n",
       "      <th>19996</th>\n",
       "      <td>T</td>\n",
       "      <td>6</td>\n",
       "      <td>9</td>\n",
       "      <td>6</td>\n",
       "      <td>7</td>\n",
       "      <td>5</td>\n",
       "      <td>6</td>\n",
       "      <td>11</td>\n",
       "      <td>3</td>\n",
       "      <td>7</td>\n",
       "      <td>11</td>\n",
       "      <td>9</td>\n",
       "      <td>5</td>\n",
       "      <td>2</td>\n",
       "      <td>12</td>\n",
       "      <td>2</td>\n",
       "      <td>4</td>\n",
       "    </tr>\n",
       "    <tr>\n",
       "      <th>19997</th>\n",
       "      <td>S</td>\n",
       "      <td>2</td>\n",
       "      <td>3</td>\n",
       "      <td>4</td>\n",
       "      <td>2</td>\n",
       "      <td>1</td>\n",
       "      <td>8</td>\n",
       "      <td>7</td>\n",
       "      <td>2</td>\n",
       "      <td>6</td>\n",
       "      <td>10</td>\n",
       "      <td>6</td>\n",
       "      <td>8</td>\n",
       "      <td>1</td>\n",
       "      <td>9</td>\n",
       "      <td>5</td>\n",
       "      <td>8</td>\n",
       "    </tr>\n",
       "    <tr>\n",
       "      <th>19998</th>\n",
       "      <td>A</td>\n",
       "      <td>4</td>\n",
       "      <td>9</td>\n",
       "      <td>6</td>\n",
       "      <td>6</td>\n",
       "      <td>2</td>\n",
       "      <td>9</td>\n",
       "      <td>5</td>\n",
       "      <td>3</td>\n",
       "      <td>1</td>\n",
       "      <td>8</td>\n",
       "      <td>1</td>\n",
       "      <td>8</td>\n",
       "      <td>2</td>\n",
       "      <td>7</td>\n",
       "      <td>2</td>\n",
       "      <td>8</td>\n",
       "    </tr>\n",
       "  </tbody>\n",
       "</table>\n",
       "<p>19999 rows × 17 columns</p>\n",
       "</div>"
      ],
      "text/plain": [
       "       T  2   8  3  5  1  8.1  13  0  6  6.1  10  8.2  0.1  8.3  0.2  8.4\n",
       "0      I  5  12  3  7  2   10   5  5  4   13   3    9    2    8    4   10\n",
       "1      D  4  11  6  8  6   10   6  2  6   10   3    7    3    7    3    9\n",
       "2      N  7  11  6  6  3    5   9  4  6    4   4   10    6   10    2    8\n",
       "3      G  2   1  3  1  1    8   6  6  6    6   5    9    1    7    5   10\n",
       "4      S  4  11  5  8  3    8   8  6  9    5   6    6    0    8    9    7\n",
       "...   .. ..  .. .. .. ..  ...  .. .. ..  ...  ..  ...  ...  ...  ...  ...\n",
       "19994  D  2   2  3  3  2    7   7  7  6    6   6    4    2    8    3    7\n",
       "19995  C  7  10  8  8  4    4   8  6  9   12   9   13    2    9    3    7\n",
       "19996  T  6   9  6  7  5    6  11  3  7   11   9    5    2   12    2    4\n",
       "19997  S  2   3  4  2  1    8   7  2  6   10   6    8    1    9    5    8\n",
       "19998  A  4   9  6  6  2    9   5  3  1    8   1    8    2    7    2    8\n",
       "\n",
       "[19999 rows x 17 columns]"
      ]
     },
     "execution_count": 3,
     "metadata": {},
     "output_type": "execute_result"
    }
   ],
   "source": [
    "letter = pd.read_csv('letter-recognition.data')\n",
    "letter"
   ]
  },
  {
   "cell_type": "code",
   "execution_count": 4,
   "metadata": {},
   "outputs": [
    {
     "name": "stdout",
     "output_type": "stream",
     "text": [
      "(19999, 16)\n",
      "(19999,)\n"
     ]
    }
   ],
   "source": [
    "le = LabelEncoder()\n",
    "\n",
    "for col in letter:\n",
    "    letter[col] = le.fit_transform(letter[col])\n",
    "\n",
    "letter.head()\n",
    "\n",
    "X = letter.drop(['T'], axis = 1)\n",
    "Y = letter['T']\n",
    "\n",
    "print(X.shape)\n",
    "print(Y.shape)"
   ]
  },
  {
   "cell_type": "code",
   "execution_count": 5,
   "metadata": {},
   "outputs": [],
   "source": [
    "scores = {}\n",
    "scores['Logistic'] = []\n",
    "scores['KNN'] = []\n",
    "scores['DecisionTree'] = []"
   ]
  },
  {
   "cell_type": "markdown",
   "metadata": {},
   "source": [
    "## Trial 1"
   ]
  },
  {
   "cell_type": "code",
   "execution_count": 6,
   "metadata": {},
   "outputs": [],
   "source": [
    "gridcvs = create_gridcvs()"
   ]
  },
  {
   "cell_type": "code",
   "execution_count": 7,
   "metadata": {},
   "outputs": [
    {
     "name": "stdout",
     "output_type": "stream",
     "text": [
      "(5000, 16)\n",
      "(5000,)\n",
      "(14999, 16)\n",
      "(14999,)\n"
     ]
    }
   ],
   "source": [
    "X_train, X_test, y_train, y_test = train_test_split(X, Y, \n",
    "                                                    train_size = 5000,\n",
    "                                                   random_state = 1234)\n",
    "\n",
    "scaler = pr.MinMaxScaler()\n",
    "\n",
    "X_train = scaler.fit_transform(X_train)\n",
    "X_test = scaler.transform(X_test)\n",
    "y_train = y_train.to_numpy()\n",
    "y_test = y_test.to_numpy()\n",
    "\n",
    "print(X_train.shape)\n",
    "print(y_train.shape)\n",
    "print(X_test.shape)\n",
    "print(y_test.shape)\n"
   ]
  },
  {
   "cell_type": "code",
   "execution_count": 8,
   "metadata": {},
   "outputs": [
    {
     "name": "stdout",
     "output_type": "stream",
     "text": [
      "outer fold 1/5 | tuning DecisionTree | inner ACC 76.12% | outer ACC 78.00%\n",
      "outer fold 1/5 | tuning KNN      | inner ACC 86.83% | outer ACC 90.20%\n",
      "outer fold 1/5 | tuning Logistic | inner ACC 76.20% | outer ACC 75.70%\n",
      "outer fold 2/5 | tuning DecisionTree | inner ACC 76.23% | outer ACC 78.10%\n",
      "outer fold 2/5 | tuning KNN      | inner ACC 87.38% | outer ACC 89.90%\n",
      "outer fold 2/5 | tuning Logistic | inner ACC 75.97% | outer ACC 76.90%\n",
      "outer fold 3/5 | tuning DecisionTree | inner ACC 76.72% | outer ACC 77.00%\n",
      "outer fold 3/5 | tuning KNN      | inner ACC 87.58% | outer ACC 89.20%\n",
      "outer fold 3/5 | tuning Logistic | inner ACC 75.80% | outer ACC 77.50%\n",
      "outer fold 4/5 | tuning DecisionTree | inner ACC 76.80% | outer ACC 77.60%\n",
      "outer fold 4/5 | tuning KNN      | inner ACC 87.37% | outer ACC 87.70%\n",
      "outer fold 4/5 | tuning Logistic | inner ACC 76.15% | outer ACC 76.50%\n",
      "outer fold 5/5 | tuning DecisionTree | inner ACC 76.42% | outer ACC 76.30%\n",
      "outer fold 5/5 | tuning KNN      | inner ACC 88.27% | outer ACC 89.30%\n",
      "outer fold 5/5 | tuning Logistic | inner ACC 76.42% | outer ACC 76.80%\n",
      "CPU times: user 7.21 s, sys: 606 ms, total: 7.82 s\n",
      "Wall time: 3min\n"
     ]
    }
   ],
   "source": [
    "%%time\n",
    "\n",
    "cv_scores = {name: [] for name, gs_est in gridcvs.items()}\n",
    "\n",
    "skfold = StratifiedKFold(n_splits=5, shuffle=True, random_state=1234)\n",
    "\n",
    "c = 1\n",
    "for outer_train_idx, outer_valid_idx in skfold.split(X_train,y_train):\n",
    "    for name, gs_est in sorted(gridcvs.items()):\n",
    "        print('outer fold %d/5 | tuning %-8s' % (c, name), end='')\n",
    "\n",
    "        # The inner loop for hyperparameter tuning\n",
    "        gs_est.fit(X_train[outer_train_idx], y_train[outer_train_idx])\n",
    "        y_pred = gs_est.predict(X_train[outer_valid_idx])\n",
    "        acc = accuracy_score(y_true=y_train[outer_valid_idx], y_pred=y_pred)\n",
    "        print(' | inner ACC %.2f%% | outer ACC %.2f%%' %\n",
    "              (gs_est.best_score_ * 100, acc * 100))\n",
    "        cv_scores[name].append(acc)\n",
    "\n",
    "    c += 1"
   ]
  },
  {
   "cell_type": "code",
   "execution_count": 9,
   "metadata": {},
   "outputs": [
    {
     "name": "stdout",
     "output_type": "stream",
     "text": [
      "Logistic | outer CV acc. 76.68% +\\- 0.588\n",
      "KNN      | outer CV acc. 89.26% +\\- 0.864\n",
      "DecisionTree | outer CV acc. 77.40% +\\- 0.672\n",
      "\n",
      "Logistic best parameters {'classifier__C': 10.0, 'classifier__penalty': 'l2'}\n",
      "KNN best parameters {'classifier__n_neighbors': 1}\n",
      "DecisionTree best parameters {'classifier__max_depth': 25}\n"
     ]
    }
   ],
   "source": [
    "for name in cv_scores:\n",
    "    print('%-8s | outer CV acc. %.2f%% +\\- %.3f' % (\n",
    "          name, 100 * np.mean(cv_scores[name]), 100 * np.std(cv_scores[name])))\n",
    "print()\n",
    "for name in cv_scores:\n",
    "    print('{} best parameters'.format(name), gridcvs[name].best_params_)"
   ]
  },
  {
   "cell_type": "code",
   "execution_count": 10,
   "metadata": {},
   "outputs": [
    {
     "name": "stdout",
     "output_type": "stream",
     "text": [
      "Optimal Training Performance for Logistic: 78.76%\n",
      "Optimal Test Performance for Logistic: 77.25%\n",
      "\n",
      "Optimal Training Performance for KNN: 100.00%\n",
      "Optimal Test Performance for KNN: 90.99%\n",
      "\n",
      "Optimal Training Performance for DecisionTree: 100.00%\n",
      "Optimal Test Performance for DecisionTree: 80.09%\n",
      "\n"
     ]
    },
    {
     "data": {
      "text/plain": [
       "{'Logistic': array([0.7876    , 0.77251817]),\n",
       " 'KNN': array([1.        , 0.90986066]),\n",
       " 'DecisionTree': array([1.        , 0.80092006])}"
      ]
     },
     "execution_count": 10,
     "metadata": {},
     "output_type": "execute_result"
    }
   ],
   "source": [
    "## get the respective test and training set errors for all algorithms \n",
    "##trial 1\n",
    "trial1_err = {}\n",
    "for name in gridcvs:\n",
    "    clf = gridcvs[name].best_estimator_\n",
    "    clf.fit(X_train, y_train)\n",
    "    print('Optimal Training Performance for {}: {:.2f}%'.format(name, clf.score(X_train, y_train)*100))\n",
    "    print('Optimal Test Performance for {}: {:.2f}%'.format(name, clf.score(X_test, y_test)*100))\n",
    "    print()\n",
    "    trial1_err[name] = np.array((clf.score(X_train, y_train), clf.score(X_test, y_test)))\n",
    "    scores[name].append(clf.score(X_test, y_test))\n",
    "    \n",
    "trial1_err"
   ]
  },
  {
   "cell_type": "markdown",
   "metadata": {},
   "source": [
    "## Trial 2"
   ]
  },
  {
   "cell_type": "code",
   "execution_count": 11,
   "metadata": {},
   "outputs": [
    {
     "name": "stdout",
     "output_type": "stream",
     "text": [
      "(5000, 16)\n",
      "(5000,)\n",
      "(14999, 16)\n",
      "(14999,)\n"
     ]
    }
   ],
   "source": [
    "X_train2, X_test2, y_train2, y_test2 = train_test_split(X, Y, \n",
    "                                                    train_size = 5000,\n",
    "                                                   random_state = 123)\n",
    "\n",
    "scaler = pr.MinMaxScaler()\n",
    "\n",
    "X_train2 = scaler.fit_transform(X_train2)\n",
    "X_test2 = scaler.transform(X_test2)\n",
    "y_train2 = y_train2.to_numpy()\n",
    "y_test2 = y_test2.to_numpy()\n",
    "\n",
    "print(X_train2.shape)\n",
    "print(y_train2.shape)\n",
    "print(X_test2.shape)\n",
    "print(y_test2.shape)"
   ]
  },
  {
   "cell_type": "code",
   "execution_count": 12,
   "metadata": {},
   "outputs": [
    {
     "name": "stdout",
     "output_type": "stream",
     "text": [
      "outer fold 1/5 | tuning DecisionTree | inner ACC 75.45% | outer ACC 77.50%\n",
      "outer fold 1/5 | tuning KNN      | inner ACC 87.38% | outer ACC 90.00%\n",
      "outer fold 1/5 | tuning Logistic | inner ACC 75.20% | outer ACC 75.30%\n",
      "outer fold 2/5 | tuning DecisionTree | inner ACC 75.58% | outer ACC 76.70%\n",
      "outer fold 2/5 | tuning KNN      | inner ACC 87.35% | outer ACC 88.10%\n",
      "outer fold 2/5 | tuning Logistic | inner ACC 75.67% | outer ACC 74.50%\n",
      "outer fold 3/5 | tuning DecisionTree | inner ACC 75.52% | outer ACC 76.20%\n",
      "outer fold 3/5 | tuning KNN      | inner ACC 87.17% | outer ACC 89.40%\n",
      "outer fold 3/5 | tuning Logistic | inner ACC 74.83% | outer ACC 77.30%\n",
      "outer fold 4/5 | tuning DecisionTree | inner ACC 75.12% | outer ACC 78.50%\n",
      "outer fold 4/5 | tuning KNN      | inner ACC 87.75% | outer ACC 90.20%\n",
      "outer fold 4/5 | tuning Logistic | inner ACC 75.15% | outer ACC 76.20%\n",
      "outer fold 5/5 | tuning DecisionTree | inner ACC 74.85% | outer ACC 77.50%\n",
      "outer fold 5/5 | tuning KNN      | inner ACC 87.50% | outer ACC 88.90%\n",
      "outer fold 5/5 | tuning Logistic | inner ACC 75.30% | outer ACC 75.10%\n",
      "CPU times: user 6.81 s, sys: 472 ms, total: 7.28 s\n",
      "Wall time: 55.7 s\n"
     ]
    }
   ],
   "source": [
    "%%time\n",
    "\n",
    "cv_scores = {name: [] for name, gs_est in gridcvs.items()}\n",
    "\n",
    "skfold = StratifiedKFold(n_splits=5, shuffle=True, random_state=1234)\n",
    "\n",
    "c = 1\n",
    "for outer_train_idx, outer_valid_idx in skfold.split(X_train2,y_train2):\n",
    "    for name, gs_est in sorted(gridcvs.items()):\n",
    "        print('outer fold %d/5 | tuning %-8s' % (c, name), end='')\n",
    "\n",
    "        # The inner loop for hyperparameter tuning\n",
    "        gs_est.fit(X_train2[outer_train_idx], y_train2[outer_train_idx])\n",
    "        y_pred = gs_est.predict(X_train2[outer_valid_idx])\n",
    "        acc = accuracy_score(y_true=y_train2[outer_valid_idx], y_pred=y_pred)\n",
    "        print(' | inner ACC %.2f%% | outer ACC %.2f%%' %\n",
    "              (gs_est.best_score_ * 100, acc * 100))\n",
    "        cv_scores[name].append(acc)\n",
    "\n",
    "    c += 1"
   ]
  },
  {
   "cell_type": "code",
   "execution_count": 13,
   "metadata": {},
   "outputs": [
    {
     "name": "stdout",
     "output_type": "stream",
     "text": [
      "Logistic | outer CV acc. 75.68% +\\- 0.977\n",
      "KNN      | outer CV acc. 89.32% +\\- 0.763\n",
      "DecisionTree | outer CV acc. 77.28% +\\- 0.786\n",
      "\n",
      "Logistic best parameters {'classifier__C': 10.0, 'classifier__penalty': 'l2'}\n",
      "KNN best parameters {'classifier__n_neighbors': 1}\n",
      "DecisionTree best parameters {'classifier__max_depth': 23}\n"
     ]
    }
   ],
   "source": [
    "for name in cv_scores:\n",
    "    print('%-8s | outer CV acc. %.2f%% +\\- %.3f' % (\n",
    "          name, 100 * np.mean(cv_scores[name]), 100 * np.std(cv_scores[name])))\n",
    "print()\n",
    "for name in cv_scores:\n",
    "    print('{} best parameters'.format(name), gridcvs[name].best_params_)"
   ]
  },
  {
   "cell_type": "code",
   "execution_count": 14,
   "metadata": {},
   "outputs": [
    {
     "name": "stdout",
     "output_type": "stream",
     "text": [
      "Optimal Training Performance for Logistic: 77.52%\n",
      "Optimal Test Performance for Logistic: 76.27%\n",
      "\n",
      "Optimal Training Performance for KNN: 100.00%\n",
      "Optimal Test Performance for KNN: 90.71%\n",
      "\n",
      "Optimal Training Performance for DecisionTree: 99.76%\n",
      "Optimal Test Performance for DecisionTree: 79.65%\n",
      "\n"
     ]
    },
    {
     "data": {
      "text/plain": [
       "{'Logistic': array([0.7752    , 0.76271751]),\n",
       " 'KNN': array([1.        , 0.90712714]),\n",
       " 'DecisionTree': array([0.9976    , 0.79651977])}"
      ]
     },
     "execution_count": 14,
     "metadata": {},
     "output_type": "execute_result"
    }
   ],
   "source": [
    "trial2_err = {}\n",
    "for name in gridcvs:\n",
    "    clf = gridcvs[name].best_estimator_\n",
    "    clf.fit(X_train2, y_train2)\n",
    "    print('Optimal Training Performance for {}: {:.2f}%'.format(name, clf.score(X_train2, y_train2)*100))\n",
    "    print('Optimal Test Performance for {}: {:.2f}%'.format(name, clf.score(X_test2, y_test2)*100))\n",
    "    print()\n",
    "    trial2_err[name] = np.array((clf.score(X_train2, y_train2), clf.score(X_test2, y_test2)))\n",
    "    scores[name].append(clf.score(X_test2, y_test2))\n",
    "    \n",
    "trial2_err"
   ]
  },
  {
   "cell_type": "markdown",
   "metadata": {},
   "source": [
    "## Trial 3"
   ]
  },
  {
   "cell_type": "code",
   "execution_count": 15,
   "metadata": {},
   "outputs": [
    {
     "name": "stdout",
     "output_type": "stream",
     "text": [
      "(5000, 16)\n",
      "(5000,)\n",
      "(14999, 16)\n",
      "(14999,)\n"
     ]
    }
   ],
   "source": [
    "X_train3, X_test3, y_train3, y_test3 = train_test_split(X, Y, \n",
    "                                                    train_size = 5000/X.shape[0],\n",
    "                                                   random_state = 12)\n",
    "\n",
    "scaler = pr.MinMaxScaler()\n",
    "\n",
    "X_train3 = scaler.fit_transform(X_train3)\n",
    "X_test3 = scaler.transform(X_test3)\n",
    "y_train3 = y_train3.to_numpy()\n",
    "y_test3 = y_test3.to_numpy()\n",
    "\n",
    "print(X_train3.shape)\n",
    "print(y_train3.shape)\n",
    "print(X_test3.shape)\n",
    "print(y_test3.shape)"
   ]
  },
  {
   "cell_type": "code",
   "execution_count": 16,
   "metadata": {},
   "outputs": [
    {
     "name": "stdout",
     "output_type": "stream",
     "text": [
      "outer fold 1/5 | tuning DecisionTree | inner ACC 75.53% | outer ACC 79.00%\n",
      "outer fold 1/5 | tuning KNN      | inner ACC 87.05% | outer ACC 89.00%\n",
      "outer fold 1/5 | tuning Logistic | inner ACC 76.15% | outer ACC 75.60%\n",
      "outer fold 2/5 | tuning DecisionTree | inner ACC 76.57% | outer ACC 79.50%\n",
      "outer fold 2/5 | tuning KNN      | inner ACC 87.33% | outer ACC 89.10%\n",
      "outer fold 2/5 | tuning Logistic | inner ACC 76.15% | outer ACC 76.90%\n",
      "outer fold 3/5 | tuning DecisionTree | inner ACC 75.98% | outer ACC 78.90%\n",
      "outer fold 3/5 | tuning KNN      | inner ACC 87.53% | outer ACC 89.10%\n",
      "outer fold 3/5 | tuning Logistic | inner ACC 75.52% | outer ACC 77.30%\n",
      "outer fold 4/5 | tuning DecisionTree | inner ACC 74.53% | outer ACC 78.80%\n",
      "outer fold 4/5 | tuning KNN      | inner ACC 87.33% | outer ACC 88.80%\n",
      "outer fold 4/5 | tuning Logistic | inner ACC 75.40% | outer ACC 77.20%\n",
      "outer fold 5/5 | tuning DecisionTree | inner ACC 76.23% | outer ACC 76.40%\n",
      "outer fold 5/5 | tuning KNN      | inner ACC 87.52% | outer ACC 87.50%\n",
      "outer fold 5/5 | tuning Logistic | inner ACC 76.63% | outer ACC 74.90%\n",
      "CPU times: user 6.54 s, sys: 476 ms, total: 7.02 s\n",
      "Wall time: 1min 1s\n"
     ]
    }
   ],
   "source": [
    "%%time\n",
    "\n",
    "cv_scores = {name: [] for name, gs_est in gridcvs.items()}\n",
    "\n",
    "skfold = StratifiedKFold(n_splits=5, shuffle=True, random_state=1234)\n",
    "\n",
    "c = 1\n",
    "for outer_train_idx, outer_valid_idx in skfold.split(X_train3,y_train3):\n",
    "    for name, gs_est in sorted(gridcvs.items()):\n",
    "        print('outer fold %d/5 | tuning %-8s' % (c, name), end='')\n",
    "\n",
    "        # The inner loop for hyperparameter tuning\n",
    "        gs_est.fit(X_train3[outer_train_idx], y_train3[outer_train_idx])\n",
    "        y_pred = gs_est.predict(X_train3[outer_valid_idx])\n",
    "        acc = accuracy_score(y_true=y_train3[outer_valid_idx], y_pred=y_pred)\n",
    "        print(' | inner ACC %.2f%% | outer ACC %.2f%%' %\n",
    "              (gs_est.best_score_ * 100, acc * 100))\n",
    "        cv_scores[name].append(acc)\n",
    "\n",
    "    c += 1"
   ]
  },
  {
   "cell_type": "code",
   "execution_count": 17,
   "metadata": {},
   "outputs": [
    {
     "name": "stdout",
     "output_type": "stream",
     "text": [
      "Logistic | outer CV acc. 76.38% +\\- 0.958\n",
      "KNN      | outer CV acc. 88.70% +\\- 0.610\n",
      "DecisionTree | outer CV acc. 78.52% +\\- 1.087\n",
      "\n",
      "Logistic best parameters {'classifier__C': 10.0, 'classifier__penalty': 'l2'}\n",
      "KNN best parameters {'classifier__n_neighbors': 1}\n",
      "DecisionTree best parameters {'classifier__max_depth': 23}\n"
     ]
    }
   ],
   "source": [
    "for name in cv_scores:\n",
    "    print('%-8s | outer CV acc. %.2f%% +\\- %.3f' % (\n",
    "          name, 100 * np.mean(cv_scores[name]), 100 * np.std(cv_scores[name])))\n",
    "print()\n",
    "for name in cv_scores:\n",
    "    print('{} best parameters'.format(name), gridcvs[name].best_params_)"
   ]
  },
  {
   "cell_type": "code",
   "execution_count": 18,
   "metadata": {},
   "outputs": [
    {
     "name": "stdout",
     "output_type": "stream",
     "text": [
      "Optimal Training Performance for Logistic: 78.50%\n",
      "Optimal Test Performance for Logistic: 76.21%\n",
      "\n",
      "Optimal Training Performance for KNN: 100.00%\n",
      "Optimal Test Performance for KNN: 90.63%\n",
      "\n",
      "Optimal Training Performance for DecisionTree: 99.94%\n",
      "Optimal Test Performance for DecisionTree: 79.68%\n",
      "\n"
     ]
    },
    {
     "data": {
      "text/plain": [
       "{'Logistic': array([0.785     , 0.76211747]),\n",
       " 'KNN': array([1.        , 0.90626042]),\n",
       " 'DecisionTree': array([0.9994    , 0.79678645])}"
      ]
     },
     "execution_count": 18,
     "metadata": {},
     "output_type": "execute_result"
    }
   ],
   "source": [
    "trial3_err = {}\n",
    "for name in gridcvs:\n",
    "    clf = gridcvs[name].best_estimator_\n",
    "    clf.fit(X_train3, y_train3)\n",
    "    print('Optimal Training Performance for {}: {:.2f}%'.format(name, clf.score(X_train3, y_train3)*100))\n",
    "    print('Optimal Test Performance for {}: {:.2f}%'.format(name, clf.score(X_test3, y_test3)*100))\n",
    "    print()\n",
    "    trial3_err[name] = np.array((clf.score(X_train3, y_train3), clf.score(X_test3, y_test3)))\n",
    "    scores[name].append(clf.score(X_test3, y_test3))\n",
    "    \n",
    "trial3_err\n",
    "          "
   ]
  },
  {
   "cell_type": "markdown",
   "metadata": {},
   "source": [
    "## Results"
   ]
  },
  {
   "cell_type": "code",
   "execution_count": 19,
   "metadata": {},
   "outputs": [
    {
     "name": "stdout",
     "output_type": "stream",
     "text": [
      "{'Logistic': array([0.7876    , 0.77251817]), 'KNN': array([1.        , 0.90986066]), 'DecisionTree': array([1.        , 0.80092006])}\n",
      "{'Logistic': array([0.7752    , 0.76271751]), 'KNN': array([1.        , 0.90712714]), 'DecisionTree': array([0.9976    , 0.79651977])}\n",
      "{'Logistic': array([0.785     , 0.76211747]), 'KNN': array([1.        , 0.90626042]), 'DecisionTree': array([0.9994    , 0.79678645])}\n"
     ]
    }
   ],
   "source": [
    "print(trial1_err)\n",
    "print(trial2_err)\n",
    "print(trial3_err)\n"
   ]
  },
  {
   "cell_type": "code",
   "execution_count": 20,
   "metadata": {},
   "outputs": [
    {
     "name": "stdout",
     "output_type": "stream",
     "text": [
      "Mean training set performance for Letters dataset for Logistic algorithm: 78.26000%\n",
      "Mean test set performance for Letters dataset for Logistic algorithm: 76.57844%\n",
      "\n",
      "Mean training set performance for Letters dataset for KNN algorithm: 100.00000%\n",
      "Mean test set performance for Letters dataset for KNN algorithm: 90.77494%\n",
      "\n",
      "Mean training set performance for Letters dataset for DecisionTree algorithm: 99.90000%\n",
      "Mean test set performance for Letters dataset for DecisionTree algorithm: 79.80754%\n",
      "\n"
     ]
    }
   ],
   "source": [
    "avg_trial_err = {}\n",
    "for name in trial1_err:\n",
    "    avg_trial_err[name] = np.array((trial1_err[name] + \n",
    "                          trial2_err[name] +\n",
    "                          trial3_err[name])/3.)\n",
    "\n",
    "for name in avg_trial_err:\n",
    "    print(\"Mean training set performance for Letters dataset for {} algorithm: {:.5f}%\".format(name, avg_trial_err[name][0]*100))\n",
    "    print(\"Mean test set performance for Letters dataset for {} algorithm: {:.5f}%\".format(name, avg_trial_err[name][1]*100))\n",
    "    print()"
   ]
  },
  {
   "cell_type": "code",
   "execution_count": 21,
   "metadata": {},
   "outputs": [
    {
     "data": {
      "text/html": [
       "<div>\n",
       "<style scoped>\n",
       "    .dataframe tbody tr th:only-of-type {\n",
       "        vertical-align: middle;\n",
       "    }\n",
       "\n",
       "    .dataframe tbody tr th {\n",
       "        vertical-align: top;\n",
       "    }\n",
       "\n",
       "    .dataframe thead th {\n",
       "        text-align: right;\n",
       "    }\n",
       "</style>\n",
       "<table border=\"1\" class=\"dataframe\">\n",
       "  <thead>\n",
       "    <tr style=\"text-align: right;\">\n",
       "      <th></th>\n",
       "      <th>Set</th>\n",
       "      <th>Logistic</th>\n",
       "      <th>KNN</th>\n",
       "      <th>DecisionTree</th>\n",
       "    </tr>\n",
       "  </thead>\n",
       "  <tbody>\n",
       "    <tr>\n",
       "      <th>0</th>\n",
       "      <td>Train</td>\n",
       "      <td>0.782600</td>\n",
       "      <td>1.000000</td>\n",
       "      <td>0.999000</td>\n",
       "    </tr>\n",
       "    <tr>\n",
       "      <th>1</th>\n",
       "      <td>Test</td>\n",
       "      <td>0.765784</td>\n",
       "      <td>0.907749</td>\n",
       "      <td>0.798075</td>\n",
       "    </tr>\n",
       "  </tbody>\n",
       "</table>\n",
       "</div>"
      ],
      "text/plain": [
       "     Set  Logistic       KNN  DecisionTree\n",
       "0  Train  0.782600  1.000000      0.999000\n",
       "1   Test  0.765784  0.907749      0.798075"
      ]
     },
     "execution_count": 21,
     "metadata": {},
     "output_type": "execute_result"
    }
   ],
   "source": [
    "avg_trial = pd.DataFrame.from_dict(avg_trial_err)\n",
    "avg_trial['Set'] = ['Train', 'Test']\n",
    "avg_trial = avg_trial.reindex(columns = ['Set', 'Logistic', 'KNN', 'DecisionTree'])\n",
    "avg_trial"
   ]
  },
  {
   "cell_type": "code",
   "execution_count": 22,
   "metadata": {},
   "outputs": [],
   "source": [
    "avg_trial.to_csv(r'Letter_Machine_Learning.csv', index = False, header = True)"
   ]
  },
  {
   "cell_type": "code",
   "execution_count": 23,
   "metadata": {},
   "outputs": [
    {
     "data": {
      "text/html": [
       "<div>\n",
       "<style scoped>\n",
       "    .dataframe tbody tr th:only-of-type {\n",
       "        vertical-align: middle;\n",
       "    }\n",
       "\n",
       "    .dataframe tbody tr th {\n",
       "        vertical-align: top;\n",
       "    }\n",
       "\n",
       "    .dataframe thead th {\n",
       "        text-align: right;\n",
       "    }\n",
       "</style>\n",
       "<table border=\"1\" class=\"dataframe\">\n",
       "  <thead>\n",
       "    <tr style=\"text-align: right;\">\n",
       "      <th></th>\n",
       "      <th>Logistic</th>\n",
       "      <th>KNN</th>\n",
       "      <th>DecisionTree</th>\n",
       "    </tr>\n",
       "  </thead>\n",
       "  <tbody>\n",
       "    <tr>\n",
       "      <th>0</th>\n",
       "      <td>0.772518</td>\n",
       "      <td>0.909861</td>\n",
       "      <td>0.800920</td>\n",
       "    </tr>\n",
       "    <tr>\n",
       "      <th>1</th>\n",
       "      <td>0.762718</td>\n",
       "      <td>0.907127</td>\n",
       "      <td>0.796520</td>\n",
       "    </tr>\n",
       "    <tr>\n",
       "      <th>2</th>\n",
       "      <td>0.762117</td>\n",
       "      <td>0.906260</td>\n",
       "      <td>0.796786</td>\n",
       "    </tr>\n",
       "  </tbody>\n",
       "</table>\n",
       "</div>"
      ],
      "text/plain": [
       "   Logistic       KNN  DecisionTree\n",
       "0  0.772518  0.909861      0.800920\n",
       "1  0.762718  0.907127      0.796520\n",
       "2  0.762117  0.906260      0.796786"
      ]
     },
     "execution_count": 23,
     "metadata": {},
     "output_type": "execute_result"
    }
   ],
   "source": [
    "letter_scores = pd.DataFrame.from_dict(scores)\n",
    "letter_scores = letter_scores.reindex(columns = ['Logistic','KNN','DecisionTree'])\n",
    "letter_scores"
   ]
  },
  {
   "cell_type": "code",
   "execution_count": 24,
   "metadata": {},
   "outputs": [],
   "source": [
    "letter_scores.to_csv(r'letter_scores.csv', index = False, header = True)"
   ]
  },
  {
   "cell_type": "markdown",
   "metadata": {},
   "source": [
    "## Visualization"
   ]
  },
  {
   "cell_type": "code",
   "execution_count": 39,
   "metadata": {},
   "outputs": [],
   "source": [
    "import seaborn as sns"
   ]
  },
  {
   "cell_type": "code",
   "execution_count": 45,
   "metadata": {},
   "outputs": [],
   "source": [
    "# Draw heatmaps for result of grid search.\n",
    "def draw_heatmap(errors, D_list, ylabel, name, title):\n",
    "    plt.figure(figsize = (2,4))\n",
    "    ax = sns.heatmap(errors, annot=False, fmt='.3f', yticklabels=D_list, xticklabels=[])\n",
    "    ax.collections[0].colorbar.set_label('error')\n",
    "    ax.set(ylabel= ylabel)\n",
    "    bottom, top = ax.get_ylim()\n",
    "    ax.set_ylim(bottom + 0.5, top - 0.5)\n",
    "    plt.title(title)\n",
    "    plt.savefig('{}.jpg'.format(name))\n",
    "    plt.show()"
   ]
  },
  {
   "cell_type": "code",
   "execution_count": 46,
   "metadata": {},
   "outputs": [],
   "source": [
    "d_list = [x for x in range(26)]\n",
    "n_list = [int(x) for x in np.logspace(0,2.7,num=25)]\n",
    "l_list = np.power(10., np.arange(-8, 4))"
   ]
  },
  {
   "cell_type": "code",
   "execution_count": 47,
   "metadata": {},
   "outputs": [
    {
     "data": {
      "image/png": "[encoded data removed]",
      "text/plain": [
       "<Figure size 144x288 with 2 Axes>"
      ]
     },
     "metadata": {
      "needs_background": "light"
     },
     "output_type": "display_data"
    }
   ],
   "source": [
    "error = 1 - gridcvs['DecisionTree'].cv_results_['mean_test_score']\n",
    "cross_val_score = np.reshape(error, (len(error), 1))\n",
    "draw_heatmap(cross_val_score, d_list, \"Max Depth D\", 'DecisionTree Heatmap LETTERS Dataset', title='cross-validation error w.r.t D')\n",
    "\n",
    "\n"
   ]
  },
  {
   "cell_type": "code",
   "execution_count": 48,
   "metadata": {},
   "outputs": [
    {
     "data": {
      "image/png": "[encoded data removed]",
      "text/plain": [
       "<Figure size 144x288 with 2 Axes>"
      ]
     },
     "metadata": {
      "needs_background": "light"
     },
     "output_type": "display_data"
    }
   ],
   "source": [
    "error = 1 - gridcvs['KNN'].cv_results_['mean_test_score']\n",
    "cross_val_score = np.reshape(error, (len(error), 1))\n",
    "draw_heatmap(cross_val_score, n_list, \"Max Neighbors n\", 'KNN Heatmap LETTERS Dataset',title='cross-validation error w.r.t n')"
   ]
  },
  {
   "cell_type": "code",
   "execution_count": 49,
   "metadata": {},
   "outputs": [
    {
     "data": {
      "image/png": "[encoded data removed]",
      "text/plain": [
       "<Figure size 144x288 with 2 Axes>"
      ]
     },
     "metadata": {
      "needs_background": "light"
     },
     "output_type": "display_data"
    }
   ],
   "source": [
    "error = 1 - gridcvs['Logistic'].cv_results_['mean_test_score']\n",
    "cross_val_score = np.reshape(error, (len(error), 1))\n",
    "draw_heatmap(cross_val_score, n_list, \"Max C\", 'Logistic Heatmap LETTERS Dataset', title='cross-validation error w.r.t C')"
   ]
  },
  {
   "cell_type": "markdown",
   "metadata": {},
   "source": [
    "### Learning Curves"
   ]
  },
  {
   "cell_type": "code",
   "execution_count": 31,
   "metadata": {},
   "outputs": [],
   "source": [
    "from sklearn.model_selection import learning_curve"
   ]
  },
  {
   "cell_type": "code",
   "execution_count": 32,
   "metadata": {},
   "outputs": [],
   "source": [
    "def plot(train_sizes, train_scores, test_scores, name):\n",
    "    # Creating means and standard deviations of training set scores\n",
    "    train_mean = np.mean(train_scores, axis=1)\n",
    "    train_std = np.std(train_scores, axis=1)\n",
    "    \n",
    "    # Creating means and standard deviations of test set scores\n",
    "    test_mean = np.mean(test_scores, axis=1)\n",
    "    test_std = np.std(test_scores, axis=1)\n",
    "    \n",
    "    # Drawing lines\n",
    "    plt.subplots(1, figsize=(10,10))\n",
    "    plt.plot(train_sizes, train_mean, '--', color=\"#111111\",  label=\"Training score\")\n",
    "    plt.plot(train_sizes, test_mean, color=\"#111111\", label=\"Cross-validation score\")\n",
    "    \n",
    "    # Drawing bands\n",
    "    plt.fill_between(train_sizes, train_mean - train_std, train_mean + train_std, color=\"#DDDDDD\")\n",
    "    plt.fill_between(train_sizes, test_mean - test_std, test_mean + test_std, color=\"#DDDDDD\")\n",
    "    \n",
    "    # Creating plot\n",
    "    plt.title(\"Learning Curve for {}\". format(name))\n",
    "    plt.xlabel(\"Training Set Size\"), plt.ylabel(\"Accuracy Score\"), plt.legend(loc=\"best\")\n",
    "    plt.savefig('{}.jpg'.format(name))\n",
    "    plt.show()"
   ]
  },
  {
   "cell_type": "code",
   "execution_count": 33,
   "metadata": {},
   "outputs": [
    {
     "data": {
      "image/png": "[encoded data removed]",
      "text/plain": [
       "<Figure size 720x720 with 1 Axes>"
      ]
     },
     "metadata": {
      "needs_background": "light"
     },
     "output_type": "display_data"
    },
    {
     "data": {
      "image/png": "[encoded data removed]",
      "text/plain": [
       "<Figure size 720x720 with 1 Axes>"
      ]
     },
     "metadata": {
      "needs_background": "light"
     },
     "output_type": "display_data"
    },
    {
     "data": {
      "image/png": "[encoded data removed]",
      "text/plain": [
       "<Figure size 720x720 with 1 Axes>"
      ]
     },
     "metadata": {
      "needs_background": "light"
     },
     "output_type": "display_data"
    }
   ],
   "source": [
    "for name in gridcvs:\n",
    "    train_size, train_score, test_score = learning_curve(gridcvs[name].best_estimator_,\n",
    "                                                        X, Y,\n",
    "                                                        cv = 5, n_jobs = 4,\n",
    "                                                        scoring = 'accuracy')\n",
    "    plot(train_size, train_score, test_score, name+' Letters Dataset')"
   ]
  },
  {
   "cell_type": "code",
   "execution_count": null,
   "metadata": {},
   "outputs": [],
   "source": []
  }
 ],
 "metadata": {
  "kernelspec": {
   "display_name": "Python 3",
   "language": "python",
   "name": "python3"
  },
  "language_info": {
   "codemirror_mode": {
    "name": "ipython",
    "version": 3
   },
   "file_extension": ".py",
   "mimetype": "text/x-python",
   "name": "python",
   "nbconvert_exporter": "python",
   "pygments_lexer": "ipython3",
   "version": "3.8.6"
  }
 },
 "nbformat": 4,
 "nbformat_minor": 4
}
